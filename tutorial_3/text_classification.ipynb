{
  "nbformat": 4,
  "nbformat_minor": 0,
  "metadata": {
    "colab": {
      "name": "tutorial3_text_classification.ipynb",
      "provenance": [],
      "collapsed_sections": [],
      "toc_visible": true,
      "authorship_tag": "ABX9TyN9YETRSxzlCnB7LOFOh3N0",
      "include_colab_link": true
    },
    "kernelspec": {
      "name": "python3",
      "display_name": "Python 3"
    }
  },
  "cells": [
    {
      "cell_type": "markdown",
      "metadata": {
        "id": "view-in-github",
        "colab_type": "text"
      },
      "source": [
        "<a href=\"https://colab.research.google.com/github/grosa1/hands-on-ml-tutorials/blob/master/tutorial_3/text_classification.ipynb\" target=\"_parent\"><img src=\"https://colab.research.google.com/assets/colab-badge.svg\" alt=\"Open In Colab\"/></a>"
      ]
    },
    {
      "cell_type": "markdown",
      "metadata": {
        "id": "nnhV7jEiWCEb",
        "colab_type": "text"
      },
      "source": [
        "# Tutorial 3 - Text classification"
      ]
    },
    {
      "cell_type": "markdown",
      "metadata": {
        "id": "VYNXxLH-WCxI",
        "colab_type": "text"
      },
      "source": [
        "<img src=\"https://monkeylearn.com/static/img/text-classification/text_process_training.png\" height=\"300\" />\n",
        "<img src=\"https://monkeylearn.com/static/img/text-classification/text_process_prediction.png\" height=\"300\" />"
      ]
    },
    {
      "cell_type": "markdown",
      "metadata": {
        "id": "nZUi4x9eBsh9",
        "colab_type": "text"
      },
      "source": [
        "**Dataset description**\n",
        "\n",
        "`id % numeric` id\n",
        "\n",
        "`app % string`  app package name\n",
        "\n",
        "`version % numeric` app version\n",
        "\n",
        "`rating % numeric` rating of the review in terms of stars (1-5)\n",
        "\n",
        "`date % numeric` timestamp of review\n",
        "\n",
        "`device % string` device used for submitting review\n",
        "\n",
        "`user % string` the user who made the review\n",
        "\n",
        "`review % string` review text\n",
        "\n",
        "`category % string` review category"
      ]
    },
    {
      "cell_type": "markdown",
      "metadata": {
        "id": "6wLProPHEgba",
        "colab_type": "text"
      },
      "source": [
        "The dataset used in this example is from CLAP [1]. For educational purpose, only reviews are used as features. In the original work, they use as features:\n",
        "* bag of words of reviews text\n",
        "* n-grams of reviews text\n",
        "* user rating\n",
        "* lenght of the reviews text\n",
        "* app category (tagged manually)\n",
        "\n",
        "Next, as pre-processing step:\n",
        "1. tokenization\n",
        "2. removing negated terms\n",
        "3. stop-words\n",
        "4. stemming\n",
        "5. unifying synonyms\n",
        "6. n-grams extraction"
      ]
    },
    {
      "cell_type": "markdown",
      "metadata": {
        "id": "jvvfuiWpEhzb",
        "colab_type": "text"
      },
      "source": [
        "> ### Loading the dataset"
      ]
    },
    {
      "cell_type": "code",
      "metadata": {
        "id": "sU5Wt4HhzLod",
        "colab_type": "code",
        "colab": {}
      },
      "source": [
        "import pandas as pd\n",
        "import numpy as np"
      ],
      "execution_count": 0,
      "outputs": []
    },
    {
      "cell_type": "code",
      "metadata": {
        "id": "8Np3QbHCz3aM",
        "colab_type": "code",
        "outputId": "1eb2036a-3aaf-4797-bc91-3f2933b188db",
        "colab": {
          "base_uri": "https://localhost:8080/",
          "height": 450
        }
      },
      "source": [
        "data = pd.read_csv('rq1-complete-data.csv', index_col='id')\n",
        "data"
      ],
      "execution_count": 0,
      "outputs": [
        {
          "output_type": "execute_result",
          "data": {
            "text/html": [
              "<div>\n",
              "<style scoped>\n",
              "    .dataframe tbody tr th:only-of-type {\n",
              "        vertical-align: middle;\n",
              "    }\n",
              "\n",
              "    .dataframe tbody tr th {\n",
              "        vertical-align: top;\n",
              "    }\n",
              "\n",
              "    .dataframe thead th {\n",
              "        text-align: right;\n",
              "    }\n",
              "</style>\n",
              "<table border=\"1\" class=\"dataframe\">\n",
              "  <thead>\n",
              "    <tr style=\"text-align: right;\">\n",
              "      <th></th>\n",
              "      <th>app</th>\n",
              "      <th>version</th>\n",
              "      <th>rating</th>\n",
              "      <th>date</th>\n",
              "      <th>device</th>\n",
              "      <th>user</th>\n",
              "      <th>review</th>\n",
              "      <th>category</th>\n",
              "    </tr>\n",
              "    <tr>\n",
              "      <th>id</th>\n",
              "      <th></th>\n",
              "      <th></th>\n",
              "      <th></th>\n",
              "      <th></th>\n",
              "      <th></th>\n",
              "      <th></th>\n",
              "      <th></th>\n",
              "      <th></th>\n",
              "    </tr>\n",
              "  </thead>\n",
              "  <tbody>\n",
              "    <tr>\n",
              "      <th>1</th>\n",
              "      <td>com.androtiyas.dragonvirtual</td>\n",
              "      <td>1.08</td>\n",
              "      <td>5</td>\n",
              "      <td>1387756426967</td>\n",
              "      <td>?</td>\n",
              "      <td>Alexis Gonzalez</td>\n",
              "      <td>cute!!!! the game is just to cute!!!! :3</td>\n",
              "      <td>OTHER</td>\n",
              "    </tr>\n",
              "    <tr>\n",
              "      <th>2</th>\n",
              "      <td>com.androtiyas.dragonvirtual</td>\n",
              "      <td>1.1</td>\n",
              "      <td>4</td>\n",
              "      <td>1390090741168</td>\n",
              "      <td>Galaxy Precedent</td>\n",
              "      <td>A Google User</td>\n",
              "      <td>? well its ok but not bad nor is it great</td>\n",
              "      <td>OTHER</td>\n",
              "    </tr>\n",
              "    <tr>\n",
              "      <th>3</th>\n",
              "      <td>com.androtiyas.dragonvirtual</td>\n",
              "      <td>?</td>\n",
              "      <td>1</td>\n",
              "      <td>1387746296815</td>\n",
              "      <td>Toshiba AT100</td>\n",
              "      <td>Reyna We</td>\n",
              "      <td>? have no idea how to feed dragon and boooorrr...</td>\n",
              "      <td>OTHER</td>\n",
              "    </tr>\n",
              "    <tr>\n",
              "      <th>4</th>\n",
              "      <td>com.androtiyas.dragonvirtual</td>\n",
              "      <td>1.06</td>\n",
              "      <td>2</td>\n",
              "      <td>1386518193950</td>\n",
              "      <td>?</td>\n",
              "      <td>mariah harris</td>\n",
              "      <td>when i play games it reboots about every third...</td>\n",
              "      <td>BUG</td>\n",
              "    </tr>\n",
              "    <tr>\n",
              "      <th>5</th>\n",
              "      <td>com.androtiyas.dragonvirtual</td>\n",
              "      <td>1.06</td>\n",
              "      <td>5</td>\n",
              "      <td>1386915595583</td>\n",
              "      <td>?</td>\n",
              "      <td>Wren Brown</td>\n",
              "      <td>love my dragon have fun! yahoooey! godbless</td>\n",
              "      <td>OTHER</td>\n",
              "    </tr>\n",
              "    <tr>\n",
              "      <th>...</th>\n",
              "      <td>...</td>\n",
              "      <td>...</td>\n",
              "      <td>...</td>\n",
              "      <td>...</td>\n",
              "      <td>...</td>\n",
              "      <td>...</td>\n",
              "      <td>...</td>\n",
              "      <td>...</td>\n",
              "    </tr>\n",
              "    <tr>\n",
              "      <th>9996</th>\n",
              "      <td>za.co.fnb.connect.itt</td>\n",
              "      <td>1.05.25</td>\n",
              "      <td>1</td>\n",
              "      <td>1373886652472</td>\n",
              "      <td>Galaxy Tab 7.0 Plus</td>\n",
              "      <td>Xolane Ripinga</td>\n",
              "      <td>Bad update The update has messed up the app no...</td>\n",
              "      <td>BUG</td>\n",
              "    </tr>\n",
              "    <tr>\n",
              "      <th>9997</th>\n",
              "      <td>za.co.fnb.connect.itt</td>\n",
              "      <td>1.05.25</td>\n",
              "      <td>1</td>\n",
              "      <td>1375652118422</td>\n",
              "      <td>?</td>\n",
              "      <td>A Google User</td>\n",
              "      <td>Try being a banking app not a what's up / vibe...</td>\n",
              "      <td>USABILITY</td>\n",
              "    </tr>\n",
              "    <tr>\n",
              "      <th>9998</th>\n",
              "      <td>za.co.fnb.connect.itt</td>\n",
              "      <td>1.05.25</td>\n",
              "      <td>2</td>\n",
              "      <td>1367399209270</td>\n",
              "      <td>?</td>\n",
              "      <td>A Google User</td>\n",
              "      <td>? I already get the messages. ... now is dupli...</td>\n",
              "      <td>FEATURE</td>\n",
              "    </tr>\n",
              "    <tr>\n",
              "      <th>9999</th>\n",
              "      <td>za.co.fnb.connect.itt</td>\n",
              "      <td>1.08.32</td>\n",
              "      <td>3</td>\n",
              "      <td>1397286330229</td>\n",
              "      <td>?</td>\n",
              "      <td>Logan Dunbar</td>\n",
              "      <td>Functional app Pretty decent app does what you...</td>\n",
              "      <td>FEATURE</td>\n",
              "    </tr>\n",
              "    <tr>\n",
              "      <th>10000</th>\n",
              "      <td>zausan.zdevicetest</td>\n",
              "      <td>1.6.15</td>\n",
              "      <td>2</td>\n",
              "      <td>1332386558441</td>\n",
              "      <td>Casio G'zOne Commando</td>\n",
              "      <td>A Google User</td>\n",
              "      <td>Force close Upon attempting to use almost any ...</td>\n",
              "      <td>BUG</td>\n",
              "    </tr>\n",
              "  </tbody>\n",
              "</table>\n",
              "<p>8010 rows × 8 columns</p>\n",
              "</div>"
            ],
            "text/plain": [
              "                                app  ...   category\n",
              "id                                   ...           \n",
              "1      com.androtiyas.dragonvirtual  ...      OTHER\n",
              "2      com.androtiyas.dragonvirtual  ...      OTHER\n",
              "3      com.androtiyas.dragonvirtual  ...      OTHER\n",
              "4      com.androtiyas.dragonvirtual  ...        BUG\n",
              "5      com.androtiyas.dragonvirtual  ...      OTHER\n",
              "...                             ...  ...        ...\n",
              "9996          za.co.fnb.connect.itt  ...        BUG\n",
              "9997          za.co.fnb.connect.itt  ...  USABILITY\n",
              "9998          za.co.fnb.connect.itt  ...    FEATURE\n",
              "9999          za.co.fnb.connect.itt  ...    FEATURE\n",
              "10000            zausan.zdevicetest  ...        BUG\n",
              "\n",
              "[8010 rows x 8 columns]"
            ]
          },
          "metadata": {
            "tags": []
          },
          "execution_count": 3
        }
      ]
    },
    {
      "cell_type": "code",
      "metadata": {
        "id": "X_zZ_EZS05-I",
        "colab_type": "code",
        "outputId": "537beb81-9a2e-468f-b527-7a1697345921",
        "colab": {
          "base_uri": "https://localhost:8080/",
          "height": 564
        }
      },
      "source": [
        "p_bar = data['category'].value_counts().plot(kind='bar', title='Category', figsize=(10,8));"
      ],
      "execution_count": 0,
      "outputs": [
        {
          "output_type": "display_data",
          "data": {
            "image/png": "[encoded data removed]",
            "text/plain": [
              "<Figure size 720x576 with 1 Axes>"
            ]
          },
          "metadata": {
            "tags": [],
            "needs_background": "light"
          }
        }
      ]
    },
    {
      "cell_type": "code",
      "metadata": {
        "id": "HA9xJsHxEMxs",
        "colab_type": "code",
        "outputId": "b78d6dbe-fd42-4b9c-845e-e0e92c137733",
        "colab": {
          "base_uri": "https://localhost:8080/",
          "height": 153
        }
      },
      "source": [
        "data['category'].value_counts()"
      ],
      "execution_count": 0,
      "outputs": [
        {
          "output_type": "execute_result",
          "data": {
            "text/plain": [
              "OTHER          5483\n",
              "BUG            1118\n",
              "FEATURE         484\n",
              "PERFORMANCE     388\n",
              "USABILITY       334\n",
              "ENERGY          119\n",
              "SECURITY         84\n",
              "Name: category, dtype: int64"
            ]
          },
          "metadata": {
            "tags": []
          },
          "execution_count": 5
        }
      ]
    },
    {
      "cell_type": "markdown",
      "metadata": {
        "id": "hp3Fi_ZEYNYw",
        "colab_type": "text"
      },
      "source": [
        "> ##### Encoding labels"
      ]
    },
    {
      "cell_type": "code",
      "metadata": {
        "id": "EBTAQmjQD9qz",
        "colab_type": "code",
        "outputId": "0c28033c-0084-4abb-d437-3fe4f4f0c7d8",
        "colab": {
          "base_uri": "https://localhost:8080/",
          "height": 153
        }
      },
      "source": [
        "from sklearn import preprocessing\n",
        "le = preprocessing.LabelEncoder()\n",
        "data['category'] = le.fit_transform(data['category'])\n",
        "data['category'].value_counts()"
      ],
      "execution_count": 0,
      "outputs": [
        {
          "output_type": "execute_result",
          "data": {
            "text/plain": [
              "3    5483\n",
              "0    1118\n",
              "2     484\n",
              "4     388\n",
              "6     334\n",
              "1     119\n",
              "5      84\n",
              "Name: category, dtype: int64"
            ]
          },
          "metadata": {
            "tags": []
          },
          "execution_count": 6
        }
      ]
    },
    {
      "cell_type": "markdown",
      "metadata": {
        "id": "R_SGR_deE46A",
        "colab_type": "text"
      },
      "source": [
        "> ##### The label encoder also does the reverse transformation:"
      ]
    },
    {
      "cell_type": "code",
      "metadata": {
        "id": "IVLnL7D14_D9",
        "colab_type": "code",
        "outputId": "33925b1f-7280-4ff5-c9fa-473ae6db0222",
        "colab": {
          "base_uri": "https://localhost:8080/",
          "height": 51
        }
      },
      "source": [
        "le.inverse_transform(data['category'])"
      ],
      "execution_count": 0,
      "outputs": [
        {
          "output_type": "execute_result",
          "data": {
            "text/plain": [
              "array(['OTHER', 'OTHER', 'OTHER', ..., 'FEATURE', 'FEATURE', 'BUG'],\n",
              "      dtype=object)"
            ]
          },
          "metadata": {
            "tags": []
          },
          "execution_count": 7
        }
      ]
    },
    {
      "cell_type": "markdown",
      "metadata": {
        "id": "r4-V0fENNy4G",
        "colab_type": "text"
      },
      "source": [
        "> ### Text representation"
      ]
    },
    {
      "cell_type": "markdown",
      "metadata": {
        "id": "pBoZ-nftFjmY",
        "colab_type": "text"
      },
      "source": [
        "Define \"X\" and \"y\":"
      ]
    },
    {
      "cell_type": "code",
      "metadata": {
        "id": "R2Ikbs0-2-xI",
        "colab_type": "code",
        "colab": {}
      },
      "source": [
        "X = data['review']\n",
        "y = data['category']"
      ],
      "execution_count": 0,
      "outputs": []
    },
    {
      "cell_type": "markdown",
      "metadata": {
        "id": "1tgB5-wdFC_7",
        "colab_type": "text"
      },
      "source": [
        "> ##### Text pre-processing function"
      ]
    },
    {
      "cell_type": "code",
      "metadata": {
        "id": "CsNZc8VB8U39",
        "colab_type": "code",
        "outputId": "d9a9fb33-1251-446a-bbfd-9b44125ade10",
        "colab": {
          "base_uri": "https://localhost:8080/",
          "height": 85
        }
      },
      "source": [
        "import nltk\n",
        "nltk.download('punkt') # for tokenization\n",
        "\n",
        "from nltk.corpus import stopwords\n",
        "nltk.download('stopwords')\n",
        "\n",
        "from nltk.stem import PorterStemmer\n",
        "from nltk.tokenize import word_tokenize"
      ],
      "execution_count": 0,
      "outputs": [
        {
          "output_type": "stream",
          "text": [
            "[nltk_data] Downloading package punkt to /root/nltk_data...\n",
            "[nltk_data]   Unzipping tokenizers/punkt.zip.\n",
            "[nltk_data] Downloading package stopwords to /root/nltk_data...\n",
            "[nltk_data]   Unzipping corpora/stopwords.zip.\n"
          ],
          "name": "stdout"
        }
      ]
    },
    {
      "cell_type": "markdown",
      "metadata": {
        "id": "yaQxx05RYQLX",
        "colab_type": "text"
      },
      "source": [
        "We define a `process_text` function that will be applied by text vectorizer:"
      ]
    },
    {
      "cell_type": "code",
      "metadata": {
        "id": "7wPwGWqa8eZl",
        "colab_type": "code",
        "colab": {}
      },
      "source": [
        "def process_text(raw_text):\n",
        "  clean_txt = list()\n",
        "  ps = PorterStemmer()\n",
        "  stop_words = set(stopwords.words(\"english\"))\n",
        "  tokens = nltk.word_tokenize(raw_text)\n",
        "  for t in tokens:\n",
        "      if t.isalpha() and (t not in stop_words):\n",
        "          clean_txt.append(ps.stem(t.lower()))\n",
        "\n",
        "  return clean_txt"
      ],
      "execution_count": 0,
      "outputs": []
    },
    {
      "cell_type": "markdown",
      "metadata": {
        "id": "bcoVWVeMFXjD",
        "colab_type": "text"
      },
      "source": [
        "For example, if we directly apply the function to the reviews:"
      ]
    },
    {
      "cell_type": "code",
      "metadata": {
        "id": "TW9hwycN-jea",
        "colab_type": "code",
        "outputId": "9f77cf7e-fd7f-4489-a97a-e51843e5d5e2",
        "colab": {
          "base_uri": "https://localhost:8080/",
          "height": 238
        }
      },
      "source": [
        "X.apply(process_text)"
      ],
      "execution_count": 0,
      "outputs": [
        {
          "output_type": "execute_result",
          "data": {
            "text/plain": [
              "id\n",
              "1                                       [cute, game, cute]\n",
              "2                                   [well, ok, bad, great]\n",
              "3             [idea, feed, dragon, boooorrrriiiiiinnhgggg]\n",
              "4        [play, game, reboot, everi, third, time, row, ...\n",
              "5                  [love, dragon, fun, yahoooey, godbless]\n",
              "                               ...                        \n",
              "9996     [bad, updat, the, updat, mess, app, phone, tab...\n",
              "9997     [tri, bank, app, viber, as, bank, app, ok, mak...\n",
              "9998     [i, alreadi, get, messag, duplic, add, option,...\n",
              "9999     [function, app, pretti, decent, app, would, ex...\n",
              "10000    [forc, close, upon, attempt, use, almost, feat...\n",
              "Name: review, Length: 8010, dtype: object"
            ]
          },
          "metadata": {
            "tags": []
          },
          "execution_count": 11
        }
      ]
    },
    {
      "cell_type": "markdown",
      "metadata": {
        "id": "jbIBMs0DYaBM",
        "colab_type": "text"
      },
      "source": [
        "For pre-processing and classification, the best approach is to build a pipeline. For example:"
      ]
    },
    {
      "cell_type": "markdown",
      "metadata": {
        "id": "eoFribrKIVxj",
        "colab_type": "text"
      },
      "source": [
        "```\n",
        "from sklearn.pipeline import Pipeline\n",
        "\n",
        "text_cl = Pipeline([('vect', CountVectorizer()),\n",
        "                      ('tfidf', TfidfTransformer()),\n",
        "                      ('cl', RandomForestClassifier())])\n",
        "pred = text_cl.fit(train_x, target)\n",
        "```"
      ]
    },
    {
      "cell_type": "markdown",
      "metadata": {
        "id": "oWS226I8JdPE",
        "colab_type": "text"
      },
      "source": [
        "The text normalization and tokenization can also be done automatically by the `CountVectorizer`. For example:"
      ]
    },
    {
      "cell_type": "markdown",
      "metadata": {
        "id": "W1-Pz_HJ_VAI",
        "colab_type": "text"
      },
      "source": [
        "```\n",
        "token = RegexpTokenizer(r'[a-zA-Z0-9]+')\n",
        "\n",
        "cv = CountVectorizer(min_df=2, max_df=0.7, stop_words=stopwords.words('english'), ngram_range=(1,2), tokenizer=token.tokenize)\n",
        "x_cv = cv.fit_transform(X).toarray()\n",
        "```"
      ]
    },
    {
      "cell_type": "markdown",
      "metadata": {
        "id": "y7UEm3-ZKA4z",
        "colab_type": "text"
      },
      "source": [
        "In our example, we proceed step by step."
      ]
    },
    {
      "cell_type": "markdown",
      "metadata": {
        "id": "RiPVCdkrLWL1",
        "colab_type": "text"
      },
      "source": [
        "> ##### Count vectorizer"
      ]
    },
    {
      "cell_type": "markdown",
      "metadata": {
        "id": "G9hF6s4rYk26",
        "colab_type": "text"
      },
      "source": [
        "With `CountVectorize` we obtain word count Vector, where every column is a term from the corpus, and every cell represents the frequency count of each term in each document."
      ]
    },
    {
      "cell_type": "code",
      "metadata": {
        "id": "6NWiWyr8CQPQ",
        "colab_type": "code",
        "colab": {}
      },
      "source": [
        "from sklearn.feature_extraction.text import CountVectorizer"
      ],
      "execution_count": 0,
      "outputs": []
    },
    {
      "cell_type": "code",
      "metadata": {
        "id": "COy14wN3ZDQP",
        "colab_type": "code",
        "colab": {}
      },
      "source": [
        "cv = CountVectorizer(min_df=2, max_df=0.7, ngram_range=(1,2), analyzer=process_text)\n",
        "x_cv = cv.fit_transform(X).toarray()"
      ],
      "execution_count": 0,
      "outputs": []
    },
    {
      "cell_type": "code",
      "metadata": {
        "id": "e-SjkSEQnV2C",
        "colab_type": "code",
        "outputId": "a463469f-3e40-4de9-e47c-3f048dd204ef",
        "colab": {
          "base_uri": "https://localhost:8080/",
          "height": 1000
        }
      },
      "source": [
        "cv.get_feature_names()"
      ],
      "execution_count": 0,
      "outputs": [
        {
          "output_type": "execute_result",
          "data": {
            "text/plain": [
              "['a',\n",
              " 'aap',\n",
              " 'abartili',\n",
              " 'abil',\n",
              " 'abl',\n",
              " 'absolut',\n",
              " 'accept',\n",
              " 'access',\n",
              " 'accessori',\n",
              " 'accid',\n",
              " 'accident',\n",
              " 'accord',\n",
              " 'account',\n",
              " 'accur',\n",
              " 'accuraci',\n",
              " 'ace',\n",
              " 'acer',\n",
              " 'achiev',\n",
              " 'across',\n",
              " 'act',\n",
              " 'action',\n",
              " 'activ',\n",
              " 'actual',\n",
              " 'ad',\n",
              " 'ada',\n",
              " 'add',\n",
              " 'addict',\n",
              " 'addit',\n",
              " 'address',\n",
              " 'adjust',\n",
              " 'admin',\n",
              " 'adob',\n",
              " 'ador',\n",
              " 'adult',\n",
              " 'advanc',\n",
              " 'advantag',\n",
              " 'adventur',\n",
              " 'advert',\n",
              " 'advertenti',\n",
              " 'advertis',\n",
              " 'advic',\n",
              " 'advis',\n",
              " 'adwar',\n",
              " 'aesthet',\n",
              " 'affect',\n",
              " 'afford',\n",
              " 'after',\n",
              " 'age',\n",
              " 'agent',\n",
              " 'aggrav',\n",
              " 'ago',\n",
              " 'agood',\n",
              " 'agre',\n",
              " 'ah',\n",
              " 'ai',\n",
              " 'aight',\n",
              " 'aim',\n",
              " 'air',\n",
              " 'ako',\n",
              " 'al',\n",
              " 'alam',\n",
              " 'alarm',\n",
              " 'album',\n",
              " 'alert',\n",
              " 'all',\n",
              " 'allah',\n",
              " 'allot',\n",
              " 'allow',\n",
              " 'allway',\n",
              " 'almost',\n",
              " 'alon',\n",
              " 'along',\n",
              " 'alot',\n",
              " 'alreadi',\n",
              " 'alright',\n",
              " 'also',\n",
              " 'altern',\n",
              " 'although',\n",
              " 'alway',\n",
              " 'am',\n",
              " 'amaz',\n",
              " 'amazin',\n",
              " 'amazingli',\n",
              " 'amd',\n",
              " 'american',\n",
              " 'amit',\n",
              " 'among',\n",
              " 'amount',\n",
              " 'an',\n",
              " 'analys',\n",
              " 'and',\n",
              " 'andriod',\n",
              " 'android',\n",
              " 'ang',\n",
              " 'angel',\n",
              " 'angela',\n",
              " 'angl',\n",
              " 'angri',\n",
              " 'ani',\n",
              " 'anim',\n",
              " 'annot',\n",
              " 'annoy',\n",
              " 'anonym',\n",
              " 'anoth',\n",
              " 'anoy',\n",
              " 'answer',\n",
              " 'anti',\n",
              " 'antiviru',\n",
              " 'anymor',\n",
              " 'anyon',\n",
              " 'anyth',\n",
              " 'anytim',\n",
              " 'anyway',\n",
              " 'anywher',\n",
              " 'aosp',\n",
              " 'ap',\n",
              " 'apa',\n",
              " 'apart',\n",
              " 'api',\n",
              " 'apk',\n",
              " 'aplikacja',\n",
              " 'aplikasi',\n",
              " 'app',\n",
              " 'appar',\n",
              " 'appear',\n",
              " 'appen',\n",
              " 'appl',\n",
              " 'appli',\n",
              " 'applic',\n",
              " 'appp',\n",
              " 'appreci',\n",
              " 'appropri',\n",
              " 'arab',\n",
              " 'arcad',\n",
              " 'archiv',\n",
              " 'are',\n",
              " 'area',\n",
              " 'armor',\n",
              " 'around',\n",
              " 'arrow',\n",
              " 'art',\n",
              " 'articl',\n",
              " 'artist',\n",
              " 'artwork',\n",
              " 'as',\n",
              " 'asap',\n",
              " 'asid',\n",
              " 'asik',\n",
              " 'ask',\n",
              " 'asom',\n",
              " 'aspect',\n",
              " 'assist',\n",
              " 'assum',\n",
              " 'asu',\n",
              " 'aswel',\n",
              " 'at',\n",
              " 'ate',\n",
              " 'atrix',\n",
              " 'atroci',\n",
              " 'att',\n",
              " 'attach',\n",
              " 'attack',\n",
              " 'attempt',\n",
              " 'attent',\n",
              " 'attract',\n",
              " 'audio',\n",
              " 'ausom',\n",
              " 'author',\n",
              " 'auto',\n",
              " 'autom',\n",
              " 'automat',\n",
              " 'avail',\n",
              " 'avast',\n",
              " 'avatar',\n",
              " 'averag',\n",
              " 'avg',\n",
              " 'avid',\n",
              " 'avoid',\n",
              " 'aw',\n",
              " 'awar',\n",
              " 'awasom',\n",
              " 'away',\n",
              " 'awe',\n",
              " 'awesom',\n",
              " 'awhil',\n",
              " 'awosom',\n",
              " 'awseom',\n",
              " 'awsm',\n",
              " 'awsom',\n",
              " 'b',\n",
              " 'ba',\n",
              " 'baaaad',\n",
              " 'babi',\n",
              " 'back',\n",
              " 'background',\n",
              " 'backup',\n",
              " 'backward',\n",
              " 'bad',\n",
              " 'badli',\n",
              " 'badoo',\n",
              " 'bagu',\n",
              " 'bah',\n",
              " 'baik',\n",
              " 'bakwa',\n",
              " 'bakwaa',\n",
              " 'balanc',\n",
              " 'ball',\n",
              " 'bank',\n",
              " 'banner',\n",
              " 'bar',\n",
              " 'barcod',\n",
              " 'bare',\n",
              " 'base',\n",
              " 'basebal',\n",
              " 'basi',\n",
              " 'basic',\n",
              " 'bass',\n",
              " 'bat',\n",
              " 'batt',\n",
              " 'batteri',\n",
              " 'battl',\n",
              " 'bb',\n",
              " 'bcoz',\n",
              " 'bcuz',\n",
              " 'bean',\n",
              " 'bear',\n",
              " 'beast',\n",
              " 'beat',\n",
              " 'beauti',\n",
              " 'becam',\n",
              " 'becaus',\n",
              " 'becom',\n",
              " 'beg',\n",
              " 'begin',\n",
              " 'beginn',\n",
              " 'behind',\n",
              " 'believ',\n",
              " 'besid',\n",
              " 'best',\n",
              " 'bet',\n",
              " 'beta',\n",
              " 'better',\n",
              " 'bewar',\n",
              " 'beyond',\n",
              " 'bf',\n",
              " 'bg',\n",
              " 'bi',\n",
              " 'biasa',\n",
              " 'bibl',\n",
              " 'big',\n",
              " 'bigger',\n",
              " 'biggest',\n",
              " 'bike',\n",
              " 'billion',\n",
              " 'bin',\n",
              " 'bingo',\n",
              " 'bird',\n",
              " 'birthday',\n",
              " 'bit',\n",
              " 'black',\n",
              " 'blacklist',\n",
              " 'blade',\n",
              " 'blah',\n",
              " 'blank',\n",
              " 'blast',\n",
              " 'blaster',\n",
              " 'ble',\n",
              " 'blech',\n",
              " 'bless',\n",
              " 'blink',\n",
              " 'blinker',\n",
              " 'blitz',\n",
              " 'bloat',\n",
              " 'block',\n",
              " 'blow',\n",
              " 'blown',\n",
              " 'blue',\n",
              " 'bluetooth',\n",
              " 'blurri',\n",
              " 'board',\n",
              " 'bodi',\n",
              " 'bold',\n",
              " 'boleh',\n",
              " 'bonu',\n",
              " 'bonus',\n",
              " 'boo',\n",
              " 'book',\n",
              " 'bookmark',\n",
              " 'booooo',\n",
              " 'boooooo',\n",
              " 'boooooooo',\n",
              " 'boost',\n",
              " 'booster',\n",
              " 'boot',\n",
              " 'bore',\n",
              " 'boss',\n",
              " 'bot',\n",
              " 'bother',\n",
              " 'bottom',\n",
              " 'bought',\n",
              " 'bounc',\n",
              " 'bout',\n",
              " 'bowl',\n",
              " 'box',\n",
              " 'boy',\n",
              " 'brain',\n",
              " 'brand',\n",
              " 'break',\n",
              " 'breed',\n",
              " 'brick',\n",
              " 'bright',\n",
              " 'brill',\n",
              " 'brilliant',\n",
              " 'bring',\n",
              " 'bro',\n",
              " 'broke',\n",
              " 'broken',\n",
              " 'brother',\n",
              " 'brought',\n",
              " 'brows',\n",
              " 'browser',\n",
              " 'bryant',\n",
              " 'bs',\n",
              " 'bsnl',\n",
              " 'bt',\n",
              " 'btw',\n",
              " 'bu',\n",
              " 'bubbl',\n",
              " 'buck',\n",
              " 'buddi',\n",
              " 'buena',\n",
              " 'bueno',\n",
              " 'bug',\n",
              " 'bugg',\n",
              " 'buggi',\n",
              " 'build',\n",
              " 'builder',\n",
              " 'built',\n",
              " 'bum',\n",
              " 'bummer',\n",
              " 'bunch',\n",
              " 'burn',\n",
              " 'busi',\n",
              " 'but',\n",
              " 'butt',\n",
              " 'button',\n",
              " 'buy',\n",
              " 'bye',\n",
              " 'c',\n",
              " 'ca',\n",
              " 'cabl',\n",
              " 'cach',\n",
              " 'cake',\n",
              " 'cal',\n",
              " 'calcul',\n",
              " 'calendar',\n",
              " 'calibr',\n",
              " 'call',\n",
              " 'caller',\n",
              " 'calori',\n",
              " 'came',\n",
              " 'camera',\n",
              " 'campaign',\n",
              " 'can',\n",
              " 'canada',\n",
              " 'candi',\n",
              " 'canon',\n",
              " 'cant',\n",
              " 'canva',\n",
              " 'capabl',\n",
              " 'capit',\n",
              " 'captiv',\n",
              " 'captur',\n",
              " 'car',\n",
              " 'card',\n",
              " 'care',\n",
              " 'carri',\n",
              " 'cartoon',\n",
              " 'case',\n",
              " 'cash',\n",
              " 'casino',\n",
              " 'cast',\n",
              " 'cat',\n",
              " 'catalog',\n",
              " 'catch',\n",
              " 'categori',\n",
              " 'caus',\n",
              " 'caution',\n",
              " 'cd',\n",
              " 'ce',\n",
              " 'cell',\n",
              " 'center',\n",
              " 'certain',\n",
              " 'certainli',\n",
              " 'certif',\n",
              " 'challag',\n",
              " 'challeng',\n",
              " 'chanc',\n",
              " 'chang',\n",
              " 'channel',\n",
              " 'charact',\n",
              " 'charg',\n",
              " 'charger',\n",
              " 'charm',\n",
              " 'chart',\n",
              " 'chat',\n",
              " 'chate',\n",
              " 'che',\n",
              " 'cheat',\n",
              " 'check',\n",
              " 'checkmark',\n",
              " 'chess',\n",
              " 'chicken',\n",
              " 'child',\n",
              " 'children',\n",
              " 'chip',\n",
              " 'choic',\n",
              " 'choos',\n",
              " 'chose',\n",
              " 'christma',\n",
              " 'chrome',\n",
              " 'chromecast',\n",
              " 'circl',\n",
              " 'citi',\n",
              " 'claim',\n",
              " 'clarifi',\n",
              " 'class',\n",
              " 'classic',\n",
              " 'clean',\n",
              " 'cleaner',\n",
              " 'clear',\n",
              " 'clearli',\n",
              " 'clever',\n",
              " 'click',\n",
              " 'client',\n",
              " 'clip',\n",
              " 'clock',\n",
              " 'close',\n",
              " 'closer',\n",
              " 'cloud',\n",
              " 'cloudi',\n",
              " 'clunki',\n",
              " 'clutter',\n",
              " 'co',\n",
              " 'coach',\n",
              " 'code',\n",
              " 'coin',\n",
              " 'cok',\n",
              " 'collabor',\n",
              " 'colleagu',\n",
              " 'collect',\n",
              " 'color',\n",
              " 'colour',\n",
              " 'column',\n",
              " 'com',\n",
              " 'combat',\n",
              " 'combin',\n",
              " 'combo',\n",
              " 'come',\n",
              " 'coment',\n",
              " 'comfort',\n",
              " 'comic',\n",
              " 'command',\n",
              " 'commando',\n",
              " 'comment',\n",
              " 'common',\n",
              " 'commun',\n",
              " 'como',\n",
              " 'compact',\n",
              " 'compani',\n",
              " 'companion',\n",
              " 'compar',\n",
              " 'comparison',\n",
              " 'compass',\n",
              " 'compat',\n",
              " 'compens',\n",
              " 'compet',\n",
              " 'competit',\n",
              " 'complain',\n",
              " 'complaint',\n",
              " 'complet',\n",
              " 'completli',\n",
              " 'complex',\n",
              " 'complic',\n",
              " 'compliment',\n",
              " 'compos',\n",
              " 'comprehens',\n",
              " 'comput',\n",
              " 'con',\n",
              " 'concept',\n",
              " 'concern',\n",
              " 'concord',\n",
              " 'configur',\n",
              " 'conflict',\n",
              " 'confus',\n",
              " 'congrat',\n",
              " 'congratul',\n",
              " 'connect',\n",
              " 'consid',\n",
              " 'consider',\n",
              " 'consist',\n",
              " 'constant',\n",
              " 'constantli',\n",
              " 'construct',\n",
              " 'consum',\n",
              " 'consumpt',\n",
              " 'contact',\n",
              " 'contain',\n",
              " 'content',\n",
              " 'context',\n",
              " 'continu',\n",
              " 'control',\n",
              " 'conveni',\n",
              " 'convers',\n",
              " 'convert',\n",
              " 'cook',\n",
              " 'cooki',\n",
              " 'cool',\n",
              " 'cooler',\n",
              " 'coolest',\n",
              " 'cooooool',\n",
              " 'copi',\n",
              " 'copilot',\n",
              " 'core',\n",
              " 'correct',\n",
              " 'correctli',\n",
              " 'corrupt',\n",
              " 'cost',\n",
              " 'costli',\n",
              " 'could',\n",
              " 'count',\n",
              " 'countri',\n",
              " 'coupl',\n",
              " 'courier',\n",
              " 'cours',\n",
              " 'cousin',\n",
              " 'cover',\n",
              " 'coz',\n",
              " 'cpu',\n",
              " 'crack',\n",
              " 'crap',\n",
              " 'crappi',\n",
              " 'crash',\n",
              " 'crawl',\n",
              " 'crazi',\n",
              " 'creat',\n",
              " 'creation',\n",
              " 'creativ',\n",
              " 'creator',\n",
              " 'credit',\n",
              " 'creeper',\n",
              " 'creepi',\n",
              " 'crisp',\n",
              " 'critic',\n",
              " 'crop',\n",
              " 'crown',\n",
              " 'crush',\n",
              " 'cu',\n",
              " 'cumbersom',\n",
              " 'current',\n",
              " 'cursor',\n",
              " 'custom',\n",
              " 'customis',\n",
              " 'customiz',\n",
              " 'cut',\n",
              " 'cute',\n",
              " 'cutest',\n",
              " 'cuz',\n",
              " 'cx',\n",
              " 'cycl',\n",
              " 'd',\n",
              " 'da',\n",
              " 'dad',\n",
              " 'daili',\n",
              " 'damm',\n",
              " 'damn',\n",
              " 'dan',\n",
              " 'danc',\n",
              " 'dark',\n",
              " 'dash',\n",
              " 'dat',\n",
              " 'data',\n",
              " 'databas',\n",
              " 'date',\n",
              " 'daughter',\n",
              " 'david',\n",
              " 'day',\n",
              " 'de',\n",
              " 'deactiv',\n",
              " 'dead',\n",
              " 'deal',\n",
              " 'death',\n",
              " 'deathmatch',\n",
              " 'debug',\n",
              " 'decemb',\n",
              " 'decent',\n",
              " 'decid',\n",
              " 'decim',\n",
              " 'decis',\n",
              " 'decor',\n",
              " 'dedic',\n",
              " 'deep',\n",
              " 'def',\n",
              " 'default',\n",
              " 'defenc',\n",
              " 'defi',\n",
              " 'definit',\n",
              " 'del',\n",
              " 'delay',\n",
              " 'delet',\n",
              " 'deliveri',\n",
              " 'dem',\n",
              " 'demand',\n",
              " 'demo',\n",
              " 'den',\n",
              " 'deploy',\n",
              " 'deposit',\n",
              " 'der',\n",
              " 'desatur',\n",
              " 'describ',\n",
              " 'descript',\n",
              " 'deserv',\n",
              " 'design',\n",
              " 'desir',\n",
              " 'desktop',\n",
              " 'despit',\n",
              " 'destin',\n",
              " 'destroy',\n",
              " 'detail',\n",
              " 'detect',\n",
              " 'detector',\n",
              " 'determin',\n",
              " 'dev',\n",
              " 'develop',\n",
              " 'devic',\n",
              " 'di',\n",
              " 'diagnos',\n",
              " 'dialer',\n",
              " 'diamond',\n",
              " 'diari',\n",
              " 'dick',\n",
              " 'dictionari',\n",
              " 'did',\n",
              " 'didnt',\n",
              " 'die',\n",
              " 'diet',\n",
              " 'differ',\n",
              " 'differenti',\n",
              " 'difficult',\n",
              " 'difficulti',\n",
              " 'digit',\n",
              " 'direct',\n",
              " 'directli',\n",
              " 'disabl',\n",
              " 'disapoint',\n",
              " 'disappear',\n",
              " 'disappoint',\n",
              " 'disconnect',\n",
              " 'discount',\n",
              " 'discov',\n",
              " 'dislik',\n",
              " 'dismiss',\n",
              " 'display',\n",
              " 'dispos',\n",
              " 'dissapoint',\n",
              " 'distanc',\n",
              " 'disturb',\n",
              " 'divers',\n",
              " 'diz',\n",
              " 'dj',\n",
              " 'dl',\n",
              " 'dnt',\n",
              " 'do',\n",
              " 'dock',\n",
              " 'doctor',\n",
              " 'document',\n",
              " 'doe',\n",
              " 'doesnt',\n",
              " 'dog',\n",
              " 'dollar',\n",
              " 'dolphin',\n",
              " 'donat',\n",
              " 'done',\n",
              " 'dont',\n",
              " 'door',\n",
              " 'dope',\n",
              " 'dose',\n",
              " 'dosent',\n",
              " 'dosnt',\n",
              " 'doubl',\n",
              " 'doubt',\n",
              " 'dowload',\n",
              " 'down',\n",
              " 'downgrad',\n",
              " 'downlaod',\n",
              " 'download',\n",
              " 'downsid',\n",
              " 'dpad',\n",
              " 'dr',\n",
              " 'drag',\n",
              " 'dragon',\n",
              " 'drain',\n",
              " 'drainer',\n",
              " 'draw',\n",
              " 'drawback',\n",
              " 'drawer',\n",
              " 'drink',\n",
              " 'driod',\n",
              " 'drive',\n",
              " 'droid',\n",
              " 'drop',\n",
              " 'dropbox',\n",
              " 'drum',\n",
              " 'dsd',\n",
              " 'dslr',\n",
              " 'du',\n",
              " 'dude',\n",
              " 'due',\n",
              " 'dumb',\n",
              " 'dun',\n",
              " 'dungeon',\n",
              " 'duo',\n",
              " 'duplic',\n",
              " 'dynam',\n",
              " 'e',\n",
              " 'earli',\n",
              " 'earlier',\n",
              " 'earn',\n",
              " 'earth',\n",
              " 'eas',\n",
              " 'easi',\n",
              " 'easier',\n",
              " 'easiest',\n",
              " 'easili',\n",
              " 'eat',\n",
              " 'ebay',\n",
              " 'ebook',\n",
              " 'ect',\n",
              " 'edg',\n",
              " 'edit',\n",
              " 'editor',\n",
              " 'educ',\n",
              " 'een',\n",
              " 'effect',\n",
              " 'effici',\n",
              " 'effort',\n",
              " 'eg',\n",
              " 'eh',\n",
              " 'either',\n",
              " 'ek',\n",
              " 'el',\n",
              " 'eleg',\n",
              " 'elimin',\n",
              " 'els',\n",
              " 'elsewher',\n",
              " 'em',\n",
              " 'email',\n",
              " 'embarrass',\n",
              " 'emerald',\n",
              " 'emoji',\n",
              " 'empti',\n",
              " 'emul',\n",
              " 'en',\n",
              " 'enabl',\n",
              " 'encount',\n",
              " 'encrypt',\n",
              " 'end',\n",
              " 'endless',\n",
              " 'enemi',\n",
              " 'energi',\n",
              " 'engin',\n",
              " 'english',\n",
              " 'enhanc',\n",
              " 'enjoy',\n",
              " 'enough',\n",
              " 'ensur',\n",
              " 'enter',\n",
              " 'entertain',\n",
              " 'entir',\n",
              " 'entri',\n",
              " 'environ',\n",
              " 'epic',\n",
              " 'episod',\n",
              " 'epub',\n",
              " 'equat',\n",
              " 'eras',\n",
              " 'error',\n",
              " 'es',\n",
              " 'escap',\n",
              " 'especi',\n",
              " 'essenc',\n",
              " 'essenti',\n",
              " 'establish',\n",
              " 'estim',\n",
              " 'eta',\n",
              " 'etc',\n",
              " 'europ',\n",
              " 'even',\n",
              " 'event',\n",
              " 'eventu',\n",
              " 'ever',\n",
              " 'everi',\n",
              " 'evernot',\n",
              " 'everybodi',\n",
              " 'everyday',\n",
              " 'everyon',\n",
              " 'everyth',\n",
              " 'everytim',\n",
              " 'everytym',\n",
              " 'everywher',\n",
              " 'evo',\n",
              " 'ew',\n",
              " 'ex',\n",
              " 'exactli',\n",
              " 'exampl',\n",
              " 'excel',\n",
              " 'except',\n",
              " 'exchang',\n",
              " 'excit',\n",
              " 'exclud',\n",
              " 'execut',\n",
              " 'exel',\n",
              " 'exercis',\n",
              " 'exist',\n",
              " 'exit',\n",
              " 'exlent',\n",
              " 'expand',\n",
              " 'expect',\n",
              " 'expens',\n",
              " 'experi',\n",
              " 'experienc',\n",
              " 'expir',\n",
              " 'explain',\n",
              " 'explor',\n",
              " 'export',\n",
              " 'extens',\n",
              " 'extern',\n",
              " 'extra',\n",
              " 'extrem',\n",
              " 'eye',\n",
              " 'f',\n",
              " 'fabul',\n",
              " 'fabulu',\n",
              " 'face',\n",
              " 'facebook',\n",
              " 'facil',\n",
              " 'fact',\n",
              " 'factori',\n",
              " 'fade',\n",
              " 'fail',\n",
              " 'failur',\n",
              " 'fair',\n",
              " 'fairli',\n",
              " 'fake',\n",
              " 'fall',\n",
              " 'famili',\n",
              " 'fan',\n",
              " 'fantabul',\n",
              " 'fantasi',\n",
              " 'fantast',\n",
              " 'far',\n",
              " 'farm',\n",
              " 'fashion',\n",
              " 'fast',\n",
              " 'faster',\n",
              " 'fastest',\n",
              " 'fatal',\n",
              " 'fault',\n",
              " 'fav',\n",
              " 'fave',\n",
              " 'favor',\n",
              " 'favorit',\n",
              " 'favour',\n",
              " 'favourit',\n",
              " 'fb',\n",
              " 'fc',\n",
              " 'fear',\n",
              " 'featur',\n",
              " 'fed',\n",
              " 'fee',\n",
              " 'feed',\n",
              " 'feedback',\n",
              " 'feedli',\n",
              " 'feel',\n",
              " 'few',\n",
              " 'field',\n",
              " 'fifa',\n",
              " 'fight',\n",
              " 'figur',\n",
              " 'file',\n",
              " 'fill',\n",
              " 'filter',\n",
              " 'final',\n",
              " 'find',\n",
              " 'fine',\n",
              " 'finger',\n",
              " 'finish',\n",
              " 'fir',\n",
              " 'fire',\n",
              " 'firefox',\n",
              " 'firmwar',\n",
              " 'first',\n",
              " 'fish',\n",
              " 'fit',\n",
              " 'five',\n",
              " 'fix',\n",
              " 'flag',\n",
              " 'flappi',\n",
              " 'flash',\n",
              " 'flashlight',\n",
              " 'flat',\n",
              " 'flatter',\n",
              " 'flaw',\n",
              " 'flawlessli',\n",
              " 'flexibl',\n",
              " 'fli',\n",
              " 'flick',\n",
              " 'flicker',\n",
              " 'flight',\n",
              " 'flip',\n",
              " 'flipagram',\n",
              " 'float',\n",
              " 'flow',\n",
              " 'focu',\n",
              " 'folder',\n",
              " 'folk',\n",
              " 'follow',\n",
              " 'font',\n",
              " 'food',\n",
              " 'footbal',\n",
              " 'footi',\n",
              " 'for',\n",
              " 'forc',\n",
              " 'forceclos',\n",
              " 'forecast',\n",
              " 'foreground',\n",
              " 'forev',\n",
              " 'forget',\n",
              " 'form',\n",
              " 'format',\n",
              " 'former',\n",
              " 'forth',\n",
              " 'forum',\n",
              " 'forward',\n",
              " 'found',\n",
              " 'fox',\n",
              " 'frame',\n",
              " 'frd',\n",
              " 'freak',\n",
              " 'free',\n",
              " 'freedom',\n",
              " 'freez',\n",
              " 'freind',\n",
              " 'frequent',\n",
              " 'fresh',\n",
              " 'friday',\n",
              " 'friend',\n",
              " 'friendli',\n",
              " 'frog',\n",
              " 'front',\n",
              " 'froze',\n",
              " 'frozen',\n",
              " 'frustrat',\n",
              " 'fuc',\n",
              " 'fuckin',\n",
              " 'fuk',\n",
              " 'fulfil',\n",
              " 'full',\n",
              " 'fulli',\n",
              " 'fun',\n",
              " 'function',\n",
              " 'fundament',\n",
              " 'funki',\n",
              " 'funngam',\n",
              " 'funni',\n",
              " 'furthermor',\n",
              " 'futur',\n",
              " 'fux',\n",
              " 'g',\n",
              " 'ga',\n",
              " 'gabe',\n",
              " 'gadget',\n",
              " 'gain',\n",
              " 'galaxi',\n",
              " 'galazi',\n",
              " 'galleri',\n",
              " 'game',\n",
              " 'gameloft',\n",
              " 'gameplay',\n",
              " 'gamer',\n",
              " 'gamevil',\n",
              " 'gamm',\n",
              " 'gane',\n",
              " 'garbag',\n",
              " 'gather',\n",
              " 'gave',\n",
              " 'gay',\n",
              " 'gb',\n",
              " 'gd',\n",
              " 'geek',\n",
              " ...]"
            ]
          },
          "metadata": {
            "tags": []
          },
          "execution_count": 15
        }
      ]
    },
    {
      "cell_type": "code",
      "metadata": {
        "id": "fMAlQfFxdTBP",
        "colab_type": "code",
        "outputId": "f6c0c4f7-f13a-4595-ac7d-73c50e007020",
        "colab": {
          "base_uri": "https://localhost:8080/",
          "height": 136
        }
      },
      "source": [
        "x_cv"
      ],
      "execution_count": 0,
      "outputs": [
        {
          "output_type": "execute_result",
          "data": {
            "text/plain": [
              "array([[0, 0, 0, ..., 0, 0, 0],\n",
              "       [0, 0, 0, ..., 0, 0, 0],\n",
              "       [0, 0, 0, ..., 0, 0, 0],\n",
              "       ...,\n",
              "       [0, 0, 0, ..., 0, 0, 0],\n",
              "       [0, 0, 0, ..., 0, 0, 0],\n",
              "       [0, 0, 0, ..., 0, 0, 0]])"
            ]
          },
          "metadata": {
            "tags": []
          },
          "execution_count": 16
        }
      ]
    },
    {
      "cell_type": "code",
      "metadata": {
        "id": "OinsqtOnL_bb",
        "colab_type": "code",
        "outputId": "12df7612-0ee3-4983-e134-587440494245",
        "colab": {
          "base_uri": "https://localhost:8080/",
          "height": 34
        }
      },
      "source": [
        "x_cv.shape"
      ],
      "execution_count": 0,
      "outputs": [
        {
          "output_type": "execute_result",
          "data": {
            "text/plain": [
              "(8010, 2788)"
            ]
          },
          "metadata": {
            "tags": []
          },
          "execution_count": 17
        }
      ]
    },
    {
      "cell_type": "markdown",
      "metadata": {
        "id": "bVQA1afvYhrF",
        "colab_type": "text"
      },
      "source": [
        "> ##### *Term Frequency - Inverse Document Frequency (TF-IDF)* "
      ]
    },
    {
      "cell_type": "markdown",
      "metadata": {
        "id": "rVv4ExJkLBYe",
        "colab_type": "text"
      },
      "source": [
        "TF-IDF is a score that represents the relative importance of a term in the document and the entire corpus."
      ]
    },
    {
      "cell_type": "code",
      "metadata": {
        "id": "btTtxCd5AdTQ",
        "colab_type": "code",
        "colab": {}
      },
      "source": [
        "from sklearn.feature_extraction.text import TfidfTransformer"
      ],
      "execution_count": 0,
      "outputs": []
    },
    {
      "cell_type": "code",
      "metadata": {
        "id": "uMK9g93JbqOc",
        "colab_type": "code",
        "colab": {}
      },
      "source": [
        "tfidf_converter = TfidfTransformer()\n",
        "x_tf = tfidf_converter.fit_transform(x_cv).toarray()"
      ],
      "execution_count": 0,
      "outputs": []
    },
    {
      "cell_type": "markdown",
      "metadata": {
        "id": "duM92YDnKNdR",
        "colab_type": "text"
      },
      "source": [
        "> ##### Split the dataset in train and test:"
      ]
    },
    {
      "cell_type": "code",
      "metadata": {
        "id": "6TXWuTcjAcIA",
        "colab_type": "code",
        "colab": {}
      },
      "source": [
        "from sklearn.model_selection import train_test_split"
      ],
      "execution_count": 0,
      "outputs": []
    },
    {
      "cell_type": "code",
      "metadata": {
        "id": "mHqWY1rsf1N1",
        "colab_type": "code",
        "colab": {}
      },
      "source": [
        "x_train, x_test, y_train, y_test = train_test_split(x_tf, y, test_size=0.3, random_state=1)"
      ],
      "execution_count": 0,
      "outputs": []
    },
    {
      "cell_type": "code",
      "metadata": {
        "id": "xB7UgoOGqavO",
        "colab_type": "code",
        "outputId": "ddacc615-9f74-4f3d-cc45-62f2b362e8f2",
        "colab": {
          "base_uri": "https://localhost:8080/",
          "height": 34
        }
      },
      "source": [
        "print(x_train.shape, y_train.shape)"
      ],
      "execution_count": 0,
      "outputs": [
        {
          "output_type": "stream",
          "text": [
            "(5607, 2788) (5607,)\n"
          ],
          "name": "stdout"
        }
      ]
    },
    {
      "cell_type": "code",
      "metadata": {
        "id": "VZVaGBV0qa1h",
        "colab_type": "code",
        "outputId": "244c7ea6-6a76-4d68-86fa-27c7a785e45d",
        "colab": {
          "base_uri": "https://localhost:8080/",
          "height": 34
        }
      },
      "source": [
        "print(x_test.shape, y_test.shape)"
      ],
      "execution_count": 0,
      "outputs": [
        {
          "output_type": "stream",
          "text": [
            "(2403, 2788) (2403,)\n"
          ],
          "name": "stdout"
        }
      ]
    },
    {
      "cell_type": "markdown",
      "metadata": {
        "id": "afedWrsmMJuQ",
        "colab_type": "text"
      },
      "source": [
        "> ### Over-sampling"
      ]
    },
    {
      "cell_type": "markdown",
      "metadata": {
        "id": "GectcqmzKSfD",
        "colab_type": "text"
      },
      "source": [
        "> ##### *SMOTE (Synthetic Minority Over-sampling Technique)* \nN.B. This is not the best technique to use when dealing with textual data, as explained [here](https://datascience.stackexchange.com/questions/27671/how-do-you-apply-smote-on-text-classification)"
      ]
    },
    {
      "cell_type": "markdown",
      "metadata": {
        "id": "LVxa16JoKzn4",
        "colab_type": "text"
      },
      "source": [
        "SMOTE is an over-sampling method. It creates synthetic samples of the minority class. We use `imblearn` python package to over-sample the minority classes:"
      ]
    },
    {
      "cell_type": "code",
      "metadata": {
        "id": "1VfGclzzAacj",
        "colab_type": "code",
        "outputId": "a9d1b9be-10f2-4bd2-9412-a430844aac05",
        "colab": {
          "base_uri": "https://localhost:8080/",
          "height": 105
        }
      },
      "source": [
        "from imblearn.over_sampling import SMOTE"
      ],
      "execution_count": 0,
      "outputs": [
        {
          "output_type": "stream",
          "text": [
            "/usr/local/lib/python3.6/dist-packages/sklearn/externals/six.py:31: FutureWarning: The module is deprecated in version 0.21 and will be removed in version 0.23 since we've dropped support for Python 2.7. Please rely on the official version of six (https://pypi.org/project/six/).\n",
            "  \"(https://pypi.org/project/six/).\", FutureWarning)\n",
            "/usr/local/lib/python3.6/dist-packages/sklearn/utils/deprecation.py:144: FutureWarning: The sklearn.neighbors.base module is  deprecated in version 0.22 and will be removed in version 0.24. The corresponding classes / functions should instead be imported from sklearn.neighbors. Anything that cannot be imported from sklearn.neighbors is now part of the private API.\n",
            "  warnings.warn(message, FutureWarning)\n"
          ],
          "name": "stderr"
        }
      ]
    },
    {
      "cell_type": "markdown",
      "metadata": {
        "id": "8xAb_woNYndg",
        "colab_type": "text"
      },
      "source": [
        "By default, the sampling method is `not majority`\n",
        "\n"
      ]
    },
    {
      "cell_type": "code",
      "metadata": {
        "id": "rbS87GVAPwcW",
        "colab_type": "code",
        "outputId": "f658c2e1-ca05-422c-fd15-2a1c360fed69",
        "colab": {
          "base_uri": "https://localhost:8080/",
          "height": 241
        }
      },
      "source": [
        "smote = SMOTE() \n",
        "x_smote, y_smote = smote.fit_resample(x_train, y_train)"
      ],
      "execution_count": 0,
      "outputs": [
        {
          "output_type": "stream",
          "text": [
            "/usr/local/lib/python3.6/dist-packages/sklearn/utils/deprecation.py:87: FutureWarning: Function safe_indexing is deprecated; safe_indexing is deprecated in version 0.22 and will be removed in version 0.24.\n",
            "  warnings.warn(msg, category=FutureWarning)\n",
            "/usr/local/lib/python3.6/dist-packages/sklearn/utils/deprecation.py:87: FutureWarning: Function safe_indexing is deprecated; safe_indexing is deprecated in version 0.22 and will be removed in version 0.24.\n",
            "  warnings.warn(msg, category=FutureWarning)\n",
            "/usr/local/lib/python3.6/dist-packages/sklearn/utils/deprecation.py:87: FutureWarning: Function safe_indexing is deprecated; safe_indexing is deprecated in version 0.22 and will be removed in version 0.24.\n",
            "  warnings.warn(msg, category=FutureWarning)\n",
            "/usr/local/lib/python3.6/dist-packages/sklearn/utils/deprecation.py:87: FutureWarning: Function safe_indexing is deprecated; safe_indexing is deprecated in version 0.22 and will be removed in version 0.24.\n",
            "  warnings.warn(msg, category=FutureWarning)\n",
            "/usr/local/lib/python3.6/dist-packages/sklearn/utils/deprecation.py:87: FutureWarning: Function safe_indexing is deprecated; safe_indexing is deprecated in version 0.22 and will be removed in version 0.24.\n",
            "  warnings.warn(msg, category=FutureWarning)\n",
            "/usr/local/lib/python3.6/dist-packages/sklearn/utils/deprecation.py:87: FutureWarning: Function safe_indexing is deprecated; safe_indexing is deprecated in version 0.22 and will be removed in version 0.24.\n",
            "  warnings.warn(msg, category=FutureWarning)\n"
          ],
          "name": "stderr"
        }
      ]
    },
    {
      "cell_type": "code",
      "metadata": {
        "id": "d5ixWLQnqB0N",
        "colab_type": "code",
        "outputId": "3af31e0f-2ad8-4114-9d99-bf1644a0b089",
        "colab": {
          "base_uri": "https://localhost:8080/",
          "height": 51
        }
      },
      "source": [
        "np.unique(y_smote, return_counts=True)"
      ],
      "execution_count": 0,
      "outputs": [
        {
          "output_type": "execute_result",
          "data": {
            "text/plain": [
              "(array([0, 1, 2, 3, 4, 5, 6]),\n",
              " array([3835, 3835, 3835, 3835, 3835, 3835, 3835]))"
            ]
          },
          "metadata": {
            "tags": []
          },
          "execution_count": 28
        }
      ]
    },
    {
      "cell_type": "markdown",
      "metadata": {
        "id": "IfFjJFroMDGU",
        "colab_type": "text"
      },
      "source": [
        "> ### Prediction"
      ]
    },
    {
      "cell_type": "code",
      "metadata": {
        "id": "6R_PXU1rhTnD",
        "colab_type": "code",
        "colab": {}
      },
      "source": [
        "from sklearn.ensemble import RandomForestClassifier\n",
        "from sklearn.metrics import accuracy_score, precision_score, recall_score, f1_score, confusion_matrix, classification_report\n",
        "\n",
        "def print_metrics(y_test, y_pred):\n",
        "    print('1. Accuracy: {}'.format(round(accuracy_score(y_test, y_pred), 2)))\n",
        "    print('2. Precision: {}'.format(round(precision_score(y_test, y_pred, average='macro'), 2)))\n",
        "    print('3. Recall {}'.format(round(recall_score(y_test, y_pred, average='macro'), 2)))\n",
        "    print('4. F1 score: {}'.format(round(f1_score(y_test, y_pred, average='macro'), 2)))\n",
        "    print('\\n5. Confusion Matrix \\n\\n{}'.format(pd.crosstab(y_test, y_pred, rownames=['Actual'], colnames=['Predicted'])))"
      ],
      "execution_count": 0,
      "outputs": []
    },
    {
      "cell_type": "code",
      "metadata": {
        "id": "nSMvVZST7vDg",
        "colab_type": "code",
        "colab": {}
      },
      "source": [
        "# Training\n",
        "model = RandomForestClassifier().fit(x_smote, y_smote)\n",
        "\n",
        "# Prediction\n",
        "y_pred = model.predict(x_test)"
      ],
      "execution_count": 0,
      "outputs": []
    },
    {
      "cell_type": "markdown",
      "metadata": {
        "id": "t-BCH1SiMSpy",
        "colab_type": "text"
      },
      "source": [
        "Inverse encoding of labels using `LabelEncoder`:"
      ]
    },
    {
      "cell_type": "code",
      "metadata": {
        "id": "MguKbUW_F65l",
        "colab_type": "code",
        "colab": {}
      },
      "source": [
        "y_pred_parsed = le.inverse_transform(y_pred)\n",
        "y_test_parsed = le.inverse_transform(y_test)"
      ],
      "execution_count": 0,
      "outputs": []
    },
    {
      "cell_type": "markdown",
      "metadata": {
        "id": "Snp72hrnMcyw",
        "colab_type": "text"
      },
      "source": [
        "For each category we have the values of `precision`, `recall` and `f1-score`. In this way we can evaluate the model performance."
      ]
    },
    {
      "cell_type": "code",
      "metadata": {
        "id": "ourZeYqL6GC6",
        "colab_type": "code",
        "outputId": "1d90b55c-a980-4677-fc67-6d253713b947",
        "colab": {
          "base_uri": "https://localhost:8080/",
          "height": 255
        }
      },
      "source": [
        "print(classification_report(y_test_parsed, y_pred_parsed))"
      ],
      "execution_count": 0,
      "outputs": [
        {
          "output_type": "stream",
          "text": [
            "              precision    recall  f1-score   support\n",
            "\n",
            "         BUG       0.83      0.79      0.81       340\n",
            "      ENERGY       0.79      0.84      0.82        37\n",
            "     FEATURE       0.70      0.77      0.73       149\n",
            "       OTHER       0.92      0.96      0.94      1648\n",
            " PERFORMANCE       0.78      0.55      0.64       108\n",
            "    SECURITY       0.86      0.64      0.73        28\n",
            "   USABILITY       0.73      0.41      0.52        93\n",
            "\n",
            "    accuracy                           0.88      2403\n",
            "   macro avg       0.80      0.71      0.74      2403\n",
            "weighted avg       0.88      0.88      0.87      2403\n",
            "\n"
          ],
          "name": "stdout"
        }
      ]
    },
    {
      "cell_type": "markdown",
      "metadata": {
        "id": "2sxE7QBBM2pB",
        "colab_type": "text"
      },
      "source": [
        "In this case, we have the average values of the metrics . The average is `macro` which means that is a simple average between the values of all classes."
      ]
    },
    {
      "cell_type": "code",
      "metadata": {
        "id": "o8NO0OzYobjv",
        "colab_type": "code",
        "outputId": "0138fc91-3c7c-4d7a-d87b-e317395f1119",
        "colab": {
          "base_uri": "https://localhost:8080/",
          "height": 289
        }
      },
      "source": [
        "print_metrics(y_test_parsed, y_pred_parsed)"
      ],
      "execution_count": 0,
      "outputs": [
        {
          "output_type": "stream",
          "text": [
            "1. Accuracy: 0.88\n",
            "2. Precision: 0.8\n",
            "3. Recall 0.71\n",
            "4. F1 score: 0.74\n",
            "\n",
            "5. Confusion Matrix \n",
            "\n",
            "Predicted    BUG  ENERGY  FEATURE  OTHER  PERFORMANCE  SECURITY  USABILITY\n",
            "Actual                                                                    \n",
            "BUG          268       3        9     45           12         0          3\n",
            "ENERGY         0      31        0      6            0         0          0\n",
            "FEATURE        2       0      114     29            1         0          3\n",
            "OTHER         15       3       29   1588            4         3          6\n",
            "PERFORMANCE   20       1        2     26           59         0          0\n",
            "SECURITY       3       0        0      5            0        18          2\n",
            "USABILITY     13       1        9     32            0         0         38\n"
          ],
          "name": "stdout"
        }
      ]
    },
    {
      "cell_type": "markdown",
      "metadata": {
        "id": "uR7q5CqlOPfQ",
        "colab_type": "text"
      },
      "source": [
        "> ### Cross-validation"
      ]
    },
    {
      "cell_type": "markdown",
      "metadata": {
        "id": "8KFkBPHuPFce",
        "colab_type": "text"
      },
      "source": [
        "We apply a r*andom permutation cross-validator*, where the folds are first shuffled and then split into a pair of train and test sets.\n",
        "\n",
        "**N.B.** random splits do not guarantee that all folds will be different!"
      ]
    },
    {
      "cell_type": "code",
      "metadata": {
        "id": "XeZVu_BdY_ee",
        "colab_type": "code",
        "colab": {}
      },
      "source": [
        "from sklearn.model_selection import ShuffleSplit\n",
        "from sklearn.model_selection import cross_val_score"
      ],
      "execution_count": 0,
      "outputs": []
    },
    {
      "cell_type": "code",
      "metadata": {
        "id": "UkZOKUwnlSHX",
        "colab_type": "code",
        "outputId": "3ba42b14-7d63-459c-85b2-8422b6f807bd",
        "colab": {
          "base_uri": "https://localhost:8080/",
          "height": 51
        }
      },
      "source": [
        "cv = ShuffleSplit(n_splits=10, test_size=0.3, random_state=0)\n",
        "cross_val_score(model, x_tf, y, cv=cv, scoring='f1_macro')"
      ],
      "execution_count": 0,
      "outputs": [
        {
          "output_type": "execute_result",
          "data": {
            "text/plain": [
              "array([0.65243749, 0.66018093, 0.65940587, 0.67941142, 0.66129744,\n",
              "       0.6595624 , 0.66130428, 0.66857227, 0.67672337, 0.68805779])"
            ]
          },
          "metadata": {
            "tags": []
          },
          "execution_count": 53
        }
      ]
    },
    {
      "cell_type": "markdown",
      "metadata": {
        "id": "2MOqNodxPlq5",
        "colab_type": "text"
      },
      "source": [
        "> ### References\n",
        "- [1] Scalabrino, S., Bavota, G., Russo, B., Di Penta, M., & Oliveto, R. (2017). Listening to the crowd for the release planning of mobile apps. IEEE Transactions on Software Engineering, 45(1), 68-86.\n",
        "\n",
        "> ### Useful links\n",
        "- [CLAP replication package](https://dibt.unimol.it/reports/clap/)\n",
        "- [scikit-learn tutorial on text classification](https://scikit-learn.org/stable/tutorial/text_analytics/working_with_text_data.html)\n",
        "- [Example of scikit-learn pipeline](https://nbviewer.jupyter.org/github/rasbt/python-machine-learning-book/blob/master/code/ch06/ch06.ipynb#Combining-transformers-and-estimators-in-a-pipeline)\n",
        "- [SMOTE doc](https://imbalanced-learn.readthedocs.io/en/stable/generated/imblearn.over_sampling.SMOTE.html)\n",
        "- [Scikit-learn cross-validation](https://scikit-learn.org/stable/modules/cross_validation.html)\n",
        "-[Tutorial on Scikit-learn vectorizers](https://towardsdatascience.com/hacking-scikit-learns-vectorizers-9ef26a7170af)"
      ]
    }
  ]
}
