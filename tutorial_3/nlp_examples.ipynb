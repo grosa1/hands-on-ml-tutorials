{
  "nbformat": 4,
  "nbformat_minor": 0,
  "metadata": {
    "colab": {
      "name": "tutorial3_nlp_examples.ipynb",
      "provenance": [],
      "authorship_tag": "ABX9TyPR7+vu2sQhPqmP0hrr08lJ",
      "include_colab_link": true
    },
    "kernelspec": {
      "name": "python3",
      "display_name": "Python 3"
    }
  },
  "cells": [
    {
      "cell_type": "markdown",
      "metadata": {
        "id": "view-in-github",
        "colab_type": "text"
      },
      "source": [
        "<a href=\"https://colab.research.google.com/github/grosa1/hands-on-ml-tutorials/blob/master/tutorial_3/nlp_examples.ipynb\" target=\"_parent\"><img src=\"https://colab.research.google.com/assets/colab-badge.svg\" alt=\"Open In Colab\"/></a>"
      ]
    },
    {
      "cell_type": "markdown",
      "metadata": {
        "id": "2ubf7rC6bTD3",
        "colab_type": "text"
      },
      "source": [
        "# Tutorial 3 - NLP examples"
      ]
    },
    {
      "cell_type": "markdown",
      "metadata": {
        "id": "LqwQnJAOQqj3",
        "colab_type": "text"
      },
      "source": [
        "> ##### A Simplified Part-of-Speech Tagset:"
      ]
    },
    {
      "cell_type": "markdown",
      "metadata": {
        "id": "mKGofgVhOccB",
        "colab_type": "text"
      },
      "source": [
        "|Tag | Meaning           | Examples\n",
        "|----|-------------------|--------------------------------------|\n",
        "|ADJ | adjective         | new, good, high, special, big, local \n",
        "|ADV | adverb            | really, already, still, early, now\n",
        "|CNJ | conjunction       | and, or, but, if, while, although\n",
        "|DET | determiner        | the, a, some, most, every, no\n",
        "|EX  | existential       | there, there’s\n",
        "|FW  | foreign word      | dolce, ersatz, esprit, quo, maitre\n",
        "|MOD | modal verb        | will, can, would, may, must, should\n",
        "|N   | noun              | year, home, costs, time, education\n",
        "|NP  | proper noun       | Alison, Africa, April, Washington\n",
        "|NUM | number            | twenty-four, fourth, 1991, 14:24\n",
        "|PRO | pronoun           | he, their, her, its, my, I, us\n",
        "|P   |preposition        | on, of, at, with, by, into, under\n",
        "|TO  | the word to       | to\n",
        "|UH  | interjection      | ah, bang, ha, whee, hmpf, oops\n",
        "|V   | verb              | is, has, get, do, make, see, run\n",
        "|VD  | past tense        | said, took, told, made, asked\n",
        "|VG  | present participle| making, going, playing, working\n",
        "|VN  | past participle   | given, taken, begun, sung\n",
        "|WH  | wh determiner     | who, which, when, what, where, how"
      ]
    },
    {
      "cell_type": "markdown",
      "metadata": {
        "id": "QQv09J4nbYIj",
        "colab_type": "text"
      },
      "source": [
        "> ##### Some useful Python functions for NLP:"
      ]
    },
    {
      "cell_type": "markdown",
      "metadata": {
        "id": "yFRXRA97tQYR",
        "colab_type": "text"
      },
      "source": [
        "|Tag | Meaning           | \n",
        "|----|-------------------|\n",
        "|`s.startswith(t)`| Test if s starts with t\n",
        "|`s.endswith(t)`|   Test if s ends with t\n",
        "|`t in s`|          Test if t is contained inside s\n",
        "|`s.islower()`|     Test if all cased characters in s are lowercase\n",
        "|`s.isupper()`|     Test if all cased characters in s are uppercase\n",
        "|`s.isalpha()`|       Test if all characters in s are alphabetic\n",
        "|`s.ilsalnum()`|    Test if all characters in s are alphanumeric\n",
        "|`s.isdigit()`|     Test if all characters in s are digits\n",
        "|`s.istitle()`|     Test if s is titlecased (all words in s have initial capitals)\n"
      ]
    },
    {
      "cell_type": "markdown",
      "metadata": {
        "id": "epQNt5w3bfvs",
        "colab_type": "text"
      },
      "source": [
        "> ### Setup"
      ]
    },
    {
      "cell_type": "code",
      "metadata": {
        "id": "Jrx1rQTHAAWO",
        "colab_type": "code",
        "outputId": "24a114d0-4d75-4af1-a2bf-94bc1da59b22",
        "colab": {
          "base_uri": "https://localhost:8080/",
          "height": 810
        }
      },
      "source": [
        "!pip install nltk\n",
        "!pip install spacy spacy-lookups-data\n",
        "!python -m spacy download en_core_web_sm"
      ],
      "execution_count": 0,
      "outputs": [
        {
          "output_type": "stream",
          "text": [
            "Requirement already satisfied: nltk in /usr/local/lib/python3.6/dist-packages (3.2.5)\n",
            "Requirement already satisfied: six in /usr/local/lib/python3.6/dist-packages (from nltk) (1.12.0)\n",
            "Requirement already satisfied: spacy in /usr/local/lib/python3.6/dist-packages (2.2.4)\n",
            "Requirement already satisfied: spacy-lookups-data in /usr/local/lib/python3.6/dist-packages (0.3.2)\n",
            "Requirement already satisfied: setuptools in /usr/local/lib/python3.6/dist-packages (from spacy) (46.4.0)\n",
            "Requirement already satisfied: wasabi<1.1.0,>=0.4.0 in /usr/local/lib/python3.6/dist-packages (from spacy) (0.6.0)\n",
            "Requirement already satisfied: cymem<2.1.0,>=2.0.2 in /usr/local/lib/python3.6/dist-packages (from spacy) (2.0.3)\n",
            "Requirement already satisfied: tqdm<5.0.0,>=4.38.0 in /usr/local/lib/python3.6/dist-packages (from spacy) (4.41.1)\n",
            "Requirement already satisfied: srsly<1.1.0,>=1.0.2 in /usr/local/lib/python3.6/dist-packages (from spacy) (1.0.2)\n",
            "Requirement already satisfied: plac<1.2.0,>=0.9.6 in /usr/local/lib/python3.6/dist-packages (from spacy) (1.1.3)\n",
            "Requirement already satisfied: thinc==7.4.0 in /usr/local/lib/python3.6/dist-packages (from spacy) (7.4.0)\n",
            "Requirement already satisfied: numpy>=1.15.0 in /usr/local/lib/python3.6/dist-packages (from spacy) (1.18.4)\n",
            "Requirement already satisfied: blis<0.5.0,>=0.4.0 in /usr/local/lib/python3.6/dist-packages (from spacy) (0.4.1)\n",
            "Requirement already satisfied: preshed<3.1.0,>=3.0.2 in /usr/local/lib/python3.6/dist-packages (from spacy) (3.0.2)\n",
            "Requirement already satisfied: catalogue<1.1.0,>=0.0.7 in /usr/local/lib/python3.6/dist-packages (from spacy) (1.0.0)\n",
            "Requirement already satisfied: requests<3.0.0,>=2.13.0 in /usr/local/lib/python3.6/dist-packages (from spacy) (2.23.0)\n",
            "Requirement already satisfied: murmurhash<1.1.0,>=0.28.0 in /usr/local/lib/python3.6/dist-packages (from spacy) (1.0.2)\n",
            "Requirement already satisfied: importlib-metadata>=0.20; python_version < \"3.8\" in /usr/local/lib/python3.6/dist-packages (from catalogue<1.1.0,>=0.0.7->spacy) (1.6.0)\n",
            "Requirement already satisfied: idna<3,>=2.5 in /usr/local/lib/python3.6/dist-packages (from requests<3.0.0,>=2.13.0->spacy) (2.9)\n",
            "Requirement already satisfied: urllib3!=1.25.0,!=1.25.1,<1.26,>=1.21.1 in /usr/local/lib/python3.6/dist-packages (from requests<3.0.0,>=2.13.0->spacy) (1.24.3)\n",
            "Requirement already satisfied: certifi>=2017.4.17 in /usr/local/lib/python3.6/dist-packages (from requests<3.0.0,>=2.13.0->spacy) (2020.4.5.1)\n",
            "Requirement already satisfied: chardet<4,>=3.0.2 in /usr/local/lib/python3.6/dist-packages (from requests<3.0.0,>=2.13.0->spacy) (3.0.4)\n",
            "Requirement already satisfied: zipp>=0.5 in /usr/local/lib/python3.6/dist-packages (from importlib-metadata>=0.20; python_version < \"3.8\"->catalogue<1.1.0,>=0.0.7->spacy) (3.1.0)\n",
            "Requirement already satisfied: en_core_web_sm==2.2.5 from https://github.com/explosion/spacy-models/releases/download/en_core_web_sm-2.2.5/en_core_web_sm-2.2.5.tar.gz#egg=en_core_web_sm==2.2.5 in /usr/local/lib/python3.6/dist-packages (2.2.5)\n",
            "Requirement already satisfied: spacy>=2.2.2 in /usr/local/lib/python3.6/dist-packages (from en_core_web_sm==2.2.5) (2.2.4)\n",
            "Requirement already satisfied: blis<0.5.0,>=0.4.0 in /usr/local/lib/python3.6/dist-packages (from spacy>=2.2.2->en_core_web_sm==2.2.5) (0.4.1)\n",
            "Requirement already satisfied: thinc==7.4.0 in /usr/local/lib/python3.6/dist-packages (from spacy>=2.2.2->en_core_web_sm==2.2.5) (7.4.0)\n",
            "Requirement already satisfied: wasabi<1.1.0,>=0.4.0 in /usr/local/lib/python3.6/dist-packages (from spacy>=2.2.2->en_core_web_sm==2.2.5) (0.6.0)\n",
            "Requirement already satisfied: requests<3.0.0,>=2.13.0 in /usr/local/lib/python3.6/dist-packages (from spacy>=2.2.2->en_core_web_sm==2.2.5) (2.23.0)\n",
            "Requirement already satisfied: tqdm<5.0.0,>=4.38.0 in /usr/local/lib/python3.6/dist-packages (from spacy>=2.2.2->en_core_web_sm==2.2.5) (4.41.1)\n",
            "Requirement already satisfied: numpy>=1.15.0 in /usr/local/lib/python3.6/dist-packages (from spacy>=2.2.2->en_core_web_sm==2.2.5) (1.18.4)\n",
            "Requirement already satisfied: srsly<1.1.0,>=1.0.2 in /usr/local/lib/python3.6/dist-packages (from spacy>=2.2.2->en_core_web_sm==2.2.5) (1.0.2)\n",
            "Requirement already satisfied: cymem<2.1.0,>=2.0.2 in /usr/local/lib/python3.6/dist-packages (from spacy>=2.2.2->en_core_web_sm==2.2.5) (2.0.3)\n",
            "Requirement already satisfied: preshed<3.1.0,>=3.0.2 in /usr/local/lib/python3.6/dist-packages (from spacy>=2.2.2->en_core_web_sm==2.2.5) (3.0.2)\n",
            "Requirement already satisfied: murmurhash<1.1.0,>=0.28.0 in /usr/local/lib/python3.6/dist-packages (from spacy>=2.2.2->en_core_web_sm==2.2.5) (1.0.2)\n",
            "Requirement already satisfied: catalogue<1.1.0,>=0.0.7 in /usr/local/lib/python3.6/dist-packages (from spacy>=2.2.2->en_core_web_sm==2.2.5) (1.0.0)\n",
            "Requirement already satisfied: plac<1.2.0,>=0.9.6 in /usr/local/lib/python3.6/dist-packages (from spacy>=2.2.2->en_core_web_sm==2.2.5) (1.1.3)\n",
            "Requirement already satisfied: setuptools in /usr/local/lib/python3.6/dist-packages (from spacy>=2.2.2->en_core_web_sm==2.2.5) (46.4.0)\n",
            "Requirement already satisfied: idna<3,>=2.5 in /usr/local/lib/python3.6/dist-packages (from requests<3.0.0,>=2.13.0->spacy>=2.2.2->en_core_web_sm==2.2.5) (2.9)\n",
            "Requirement already satisfied: urllib3!=1.25.0,!=1.25.1,<1.26,>=1.21.1 in /usr/local/lib/python3.6/dist-packages (from requests<3.0.0,>=2.13.0->spacy>=2.2.2->en_core_web_sm==2.2.5) (1.24.3)\n",
            "Requirement already satisfied: certifi>=2017.4.17 in /usr/local/lib/python3.6/dist-packages (from requests<3.0.0,>=2.13.0->spacy>=2.2.2->en_core_web_sm==2.2.5) (2020.4.5.1)\n",
            "Requirement already satisfied: chardet<4,>=3.0.2 in /usr/local/lib/python3.6/dist-packages (from requests<3.0.0,>=2.13.0->spacy>=2.2.2->en_core_web_sm==2.2.5) (3.0.4)\n",
            "Requirement already satisfied: importlib-metadata>=0.20; python_version < \"3.8\" in /usr/local/lib/python3.6/dist-packages (from catalogue<1.1.0,>=0.0.7->spacy>=2.2.2->en_core_web_sm==2.2.5) (1.6.0)\n",
            "Requirement already satisfied: zipp>=0.5 in /usr/local/lib/python3.6/dist-packages (from importlib-metadata>=0.20; python_version < \"3.8\"->catalogue<1.1.0,>=0.0.7->spacy>=2.2.2->en_core_web_sm==2.2.5) (3.1.0)\n",
            "\u001b[38;5;2m✔ Download and installation successful\u001b[0m\n",
            "You can now load the model via spacy.load('en_core_web_sm')\n"
          ],
          "name": "stdout"
        }
      ]
    },
    {
      "cell_type": "markdown",
      "metadata": {
        "id": "KCYIvS0RblmU",
        "colab_type": "text"
      },
      "source": [
        "> ##### To use spaCy with CUDA:"
      ]
    },
    {
      "cell_type": "code",
      "metadata": {
        "id": "SXsrL7VqD6Dm",
        "colab_type": "code",
        "colab": {}
      },
      "source": [
        "#!pip install -U spacy[cuda]\n",
        "#spacy.prefer_gpu()"
      ],
      "execution_count": 0,
      "outputs": []
    },
    {
      "cell_type": "code",
      "metadata": {
        "id": "zFp_MD19ACoz",
        "colab_type": "code",
        "outputId": "6f8f4460-0c91-4365-bce6-8453632e7c23",
        "colab": {
          "base_uri": "https://localhost:8080/",
          "height": 67
        }
      },
      "source": [
        "import pandas as pd\n",
        "import spacy\n",
        "nlp = spacy.load(\"en_core_web_sm\")\n",
        "\n",
        "import nltk\n",
        "nltk.download('punkt') # for tokenization"
      ],
      "execution_count": 0,
      "outputs": [
        {
          "output_type": "stream",
          "text": [
            "[nltk_data] Downloading package punkt to /root/nltk_data...\n",
            "[nltk_data]   Package punkt is already up-to-date!\n"
          ],
          "name": "stdout"
        },
        {
          "output_type": "execute_result",
          "data": {
            "text/plain": [
              "True"
            ]
          },
          "metadata": {
            "tags": []
          },
          "execution_count": 3
        }
      ]
    },
    {
      "cell_type": "markdown",
      "metadata": {
        "id": "DaKJuytwxuPl",
        "colab_type": "text"
      },
      "source": [
        ">### Text pre-processing"
      ]
    },
    {
      "cell_type": "markdown",
      "metadata": {
        "id": "TnBeIPxT-joI",
        "colab_type": "text"
      },
      "source": [
        "The first step is text normalization. The goal is to split paragraphs in sentences and the sentences in single words. The next step is to clean text removing punctuations and digits. "
      ]
    },
    {
      "cell_type": "markdown",
      "metadata": {
        "id": "TZqXhe3wAd-j",
        "colab_type": "text"
      },
      "source": [
        "> ##### Word Tokenization (spaCy)"
      ]
    },
    {
      "cell_type": "code",
      "metadata": {
        "id": "4rMHSht-C4GN",
        "colab_type": "code",
        "colab": {}
      },
      "source": [
        "text = \"\"\"Hello Mr. Smith, how are you doing today? The weather is great, and city is awesome.\n",
        "The sky is pinkish-blue. You shouldn't eat cardboard 25\"\"\""
      ],
      "execution_count": 0,
      "outputs": []
    },
    {
      "cell_type": "code",
      "metadata": {
        "id": "0Jfv4x9wAeFA",
        "colab_type": "code",
        "outputId": "e9d54d00-fe2b-4ce5-dd0f-49e533700d02",
        "colab": {
          "base_uri": "https://localhost:8080/",
          "height": 605
        }
      },
      "source": [
        "doc = nlp(text)\n",
        "for token in doc:\n",
        "    print(token.text)"
      ],
      "execution_count": 0,
      "outputs": [
        {
          "output_type": "stream",
          "text": [
            "Hello\n",
            "Mr.\n",
            "Smith\n",
            ",\n",
            "how\n",
            "are\n",
            "you\n",
            "doing\n",
            "today\n",
            "?\n",
            "The\n",
            "weather\n",
            "is\n",
            "great\n",
            ",\n",
            "and\n",
            "city\n",
            "is\n",
            "awesome\n",
            ".\n",
            "\n",
            "\n",
            "The\n",
            "sky\n",
            "is\n",
            "pinkish\n",
            "-\n",
            "blue\n",
            ".\n",
            "You\n",
            "should\n",
            "n't\n",
            "eat\n",
            "cardboard\n",
            "25\n"
          ],
          "name": "stdout"
        }
      ]
    },
    {
      "cell_type": "markdown",
      "metadata": {
        "id": "kDI-6F4ENaaL",
        "colab_type": "text"
      },
      "source": [
        "##### Sentence tokenization (NLTK)"
      ]
    },
    {
      "cell_type": "code",
      "metadata": {
        "id": "0sT92uQlAun2",
        "colab_type": "code",
        "colab": {}
      },
      "source": [
        "from nltk.tokenize import sent_tokenize"
      ],
      "execution_count": 0,
      "outputs": []
    },
    {
      "cell_type": "code",
      "metadata": {
        "id": "UlrBUz-Lxuaa",
        "colab_type": "code",
        "outputId": "6949bd8d-d97f-44f0-d3b9-90a4f1a4fdcc",
        "colab": {
          "base_uri": "https://localhost:8080/",
          "height": 34
        }
      },
      "source": [
        "tokenized_sents = sent_tokenize(text)\n",
        "print(tokenized_sents)"
      ],
      "execution_count": 0,
      "outputs": [
        {
          "output_type": "stream",
          "text": [
            "['Hello Mr. Smith, how are you doing today?', 'The weather is great, and city is awesome.', 'The sky is pinkish-blue.', \"You shouldn't eat cardboard 25\"]\n"
          ],
          "name": "stdout"
        }
      ]
    },
    {
      "cell_type": "markdown",
      "metadata": {
        "id": "iUcMLXzJ_viJ",
        "colab_type": "text"
      },
      "source": [
        "##### Word tokenization (NLTK)"
      ]
    },
    {
      "cell_type": "code",
      "metadata": {
        "id": "dKZ4v7iBCy8Q",
        "colab_type": "code",
        "outputId": "ec8a7af4-2b6c-4012-ae90-f67cf982cf86",
        "colab": {
          "base_uri": "https://localhost:8080/",
          "height": 34
        }
      },
      "source": [
        "sent = tokenized_sents[0]\n",
        "tokens = nltk.word_tokenize(sent)\n",
        "tokens"
      ],
      "execution_count": 0,
      "outputs": [
        {
          "output_type": "execute_result",
          "data": {
            "text/plain": [
              "['Hello', 'Mr.', 'Smith', ',', 'how', 'are', 'you', 'doing', 'today', '?']"
            ]
          },
          "metadata": {
            "tags": []
          },
          "execution_count": 8
        }
      ]
    },
    {
      "cell_type": "markdown",
      "metadata": {
        "id": "FfAvCT7qH26p",
        "colab_type": "text"
      },
      "source": [
        "##### Punctuation and digits removal"
      ]
    },
    {
      "cell_type": "code",
      "metadata": {
        "id": "JlWjcLTYH3OG",
        "colab_type": "code",
        "outputId": "de79fb11-997c-47b1-c5cb-453de3ca97ed",
        "colab": {
          "base_uri": "https://localhost:8080/",
          "height": 34
        }
      },
      "source": [
        "tokens = [token.lower() for token in tokens if token.isalpha()]\n",
        "tokens"
      ],
      "execution_count": 0,
      "outputs": [
        {
          "output_type": "execute_result",
          "data": {
            "text/plain": [
              "['hello', 'smith', 'how', 'are', 'you', 'doing', 'today']"
            ]
          },
          "metadata": {
            "tags": []
          },
          "execution_count": 9
        }
      ]
    },
    {
      "cell_type": "markdown",
      "metadata": {
        "id": "n2yE_i3R_RbZ",
        "colab_type": "text"
      },
      "source": [
        "##### Stop words"
      ]
    },
    {
      "cell_type": "code",
      "metadata": {
        "id": "-Vh_2RoBAqRn",
        "colab_type": "code",
        "outputId": "72659aa2-9505-4ebd-b3e3-5735979b4b46",
        "colab": {
          "base_uri": "https://localhost:8080/",
          "height": 67
        }
      },
      "source": [
        "from nltk.corpus import stopwords\n",
        "nltk.download('stopwords')"
      ],
      "execution_count": 0,
      "outputs": [
        {
          "output_type": "stream",
          "text": [
            "[nltk_data] Downloading package stopwords to /root/nltk_data...\n",
            "[nltk_data]   Package stopwords is already up-to-date!\n"
          ],
          "name": "stdout"
        },
        {
          "output_type": "execute_result",
          "data": {
            "text/plain": [
              "True"
            ]
          },
          "metadata": {
            "tags": []
          },
          "execution_count": 10
        }
      ]
    },
    {
      "cell_type": "code",
      "metadata": {
        "id": "EXOeRFBn_Rrw",
        "colab_type": "code",
        "outputId": "2772d024-d50f-4f69-f6f9-bc0e07e8a1fc",
        "colab": {
          "base_uri": "https://localhost:8080/",
          "height": 50
        }
      },
      "source": [
        "stop_words = set(stopwords.words(\"english\"))\n",
        "filtered_sent = list()\n",
        "for w in tokens:\n",
        "    if w not in stop_words:\n",
        "        filtered_sent.append(w)\n",
        "print(\"Tokenized Sentence:\", tokens)\n",
        "print(\"Filterd Sentence:\", filtered_sent)"
      ],
      "execution_count": 0,
      "outputs": [
        {
          "output_type": "stream",
          "text": [
            "Tokenized Sentence: ['hello', 'smith', 'how', 'are', 'you', 'doing', 'today']\n",
            "Filterd Sentence: ['hello', 'smith', 'today']\n"
          ],
          "name": "stdout"
        }
      ]
    },
    {
      "cell_type": "markdown",
      "metadata": {
        "id": "R7hvUFGx9cTX",
        "colab_type": "text"
      },
      "source": [
        "> ###  Stemming"
      ]
    },
    {
      "cell_type": "markdown",
      "metadata": {
        "id": "-qPKvJB4exAB",
        "colab_type": "text"
      },
      "source": [
        "Stemming is the process of reducing words to their word stem (base form). The Porter stemming algorithm is one of the most famous."
      ]
    },
    {
      "cell_type": "code",
      "metadata": {
        "id": "4G1lgFopAoVd",
        "colab_type": "code",
        "colab": {}
      },
      "source": [
        "from nltk.stem import PorterStemmer\n",
        "from nltk.tokenize import sent_tokenize, word_tokenize"
      ],
      "execution_count": 0,
      "outputs": []
    },
    {
      "cell_type": "code",
      "metadata": {
        "id": "gAgVU3bps36n",
        "colab_type": "code",
        "outputId": "ae8b648e-8091-44f9-bddd-f3f04e8c945e",
        "colab": {
          "base_uri": "https://localhost:8080/",
          "height": 50
        }
      },
      "source": [
        "ps = PorterStemmer()\n",
        "\n",
        "words = ['connection', 'connected', 'connecting']\n",
        "stemmed_words = list()\n",
        "for w in words:\n",
        "    stemmed_words.append(ps.stem(w))\n",
        "\n",
        "print(\"Raw:\", words)\n",
        "print(\"Stemmed:\", stemmed_words)"
      ],
      "execution_count": 0,
      "outputs": [
        {
          "output_type": "stream",
          "text": [
            "Raw: ['connection', 'connected', 'connecting']\n",
            "Stemmed: ['connect', 'connect', 'connect']\n"
          ],
          "name": "stdout"
        }
      ]
    },
    {
      "cell_type": "markdown",
      "metadata": {
        "id": "459nCe709gjH",
        "colab_type": "text"
      },
      "source": [
        ">###  Lemmatisation"
      ]
    },
    {
      "cell_type": "markdown",
      "metadata": {
        "id": "UalZT6cVf30O",
        "colab_type": "text"
      },
      "source": [
        "The aim of lemmatization, like stemming, is to reduce words to a common base form. Unlike stemming, lemmatization uses lexical knowledge bases to get the correct base forms of words."
      ]
    },
    {
      "cell_type": "code",
      "metadata": {
        "id": "sgNHlDq8Akx4",
        "colab_type": "code",
        "outputId": "c0780f14-82ff-4f78-d24f-2a7dd23d455d",
        "colab": {
          "base_uri": "https://localhost:8080/",
          "height": 50
        }
      },
      "source": [
        "from nltk.stem.wordnet import WordNetLemmatizer\n",
        "nltk.download('wordnet')\n",
        "\n",
        "from nltk.stem.porter import PorterStemmer"
      ],
      "execution_count": 0,
      "outputs": [
        {
          "output_type": "stream",
          "text": [
            "[nltk_data] Downloading package wordnet to /root/nltk_data...\n",
            "[nltk_data]   Package wordnet is already up-to-date!\n"
          ],
          "name": "stdout"
        }
      ]
    },
    {
      "cell_type": "code",
      "metadata": {
        "id": "GWzb763j9g0h",
        "colab_type": "code",
        "outputId": "d86be6e0-70d8-49d7-8402-d32b9bd1c1ce",
        "colab": {
          "base_uri": "https://localhost:8080/",
          "height": 50
        }
      },
      "source": [
        "lem = WordNetLemmatizer()\n",
        "stem = PorterStemmer()\n",
        "\n",
        "word = \"better\"\n",
        "print(\"Lemmatized Word:\", lem.lemmatize(word, 'a'))\n",
        "print(\"Stemmed Word:\", stem.stem(word))"
      ],
      "execution_count": 0,
      "outputs": [
        {
          "output_type": "stream",
          "text": [
            "Lemmatized Word: good\n",
            "Stemmed Word: better\n"
          ],
          "name": "stdout"
        }
      ]
    },
    {
      "cell_type": "markdown",
      "metadata": {
        "id": "sC2BBNYS9hQm",
        "colab_type": "text"
      },
      "source": [
        ">###  Part-of-Speech Tagging"
      ]
    },
    {
      "cell_type": "markdown",
      "metadata": {
        "id": "X0RYa8nJgLaI",
        "colab_type": "text"
      },
      "source": [
        "Part-of-speech tagging aims to assign parts of speech to each word of a given text (nouns, verbs, adjectives, etc.), using the word definition and context."
      ]
    },
    {
      "cell_type": "markdown",
      "metadata": {
        "id": "vlcQIgVmTQrB",
        "colab_type": "text"
      },
      "source": [
        "> ##### Using NLTK:"
      ]
    },
    {
      "cell_type": "code",
      "metadata": {
        "id": "Z5QsqKtKBHTt",
        "colab_type": "code",
        "outputId": "ce209c20-e5da-4605-8211-0114ab0b4caf",
        "colab": {
          "base_uri": "https://localhost:8080/",
          "height": 101
        }
      },
      "source": [
        "nltk.download('averaged_perceptron_tagger') # is used for tagging words with their parts of speech (POS)"
      ],
      "execution_count": 0,
      "outputs": [
        {
          "output_type": "stream",
          "text": [
            "[nltk_data] Downloading package averaged_perceptron_tagger to\n",
            "[nltk_data]     /root/nltk_data...\n",
            "[nltk_data]   Package averaged_perceptron_tagger is already up-to-\n",
            "[nltk_data]       date!\n"
          ],
          "name": "stdout"
        },
        {
          "output_type": "execute_result",
          "data": {
            "text/plain": [
              "True"
            ]
          },
          "metadata": {
            "tags": []
          },
          "execution_count": 16
        }
      ]
    },
    {
      "cell_type": "code",
      "metadata": {
        "id": "LVDEvMLdBC0_",
        "colab_type": "code",
        "outputId": "fb148e28-2e2d-4ee0-c6dd-a4ebe32a45e7",
        "colab": {
          "base_uri": "https://localhost:8080/",
          "height": 134
        }
      },
      "source": [
        "nltk.pos_tag(tokens)"
      ],
      "execution_count": 0,
      "outputs": [
        {
          "output_type": "execute_result",
          "data": {
            "text/plain": [
              "[('hello', 'NN'),\n",
              " ('smith', 'VB'),\n",
              " ('how', 'WRB'),\n",
              " ('are', 'VBP'),\n",
              " ('you', 'PRP'),\n",
              " ('doing', 'VBG'),\n",
              " ('today', 'NN')]"
            ]
          },
          "metadata": {
            "tags": []
          },
          "execution_count": 17
        }
      ]
    },
    {
      "cell_type": "markdown",
      "metadata": {
        "id": "IDbGnv-9TWJx",
        "colab_type": "text"
      },
      "source": [
        "> ##### Using spaCy:"
      ]
    },
    {
      "cell_type": "code",
      "metadata": {
        "id": "DN5ktHArTu_z",
        "colab_type": "code",
        "colab": {}
      },
      "source": [
        "from spacy import displacy"
      ],
      "execution_count": 0,
      "outputs": []
    },
    {
      "cell_type": "code",
      "metadata": {
        "id": "84Atjm8w9hZu",
        "colab_type": "code",
        "outputId": "fa32216b-d405-4870-9f95-043a0ba9d936",
        "colab": {
          "base_uri": "https://localhost:8080/",
          "height": 1000
        }
      },
      "source": [
        "text = \"\"\"Hello Mr. Smith, how are you doing today? The weather is great, and city is awesome.\n",
        "The sky is pinkish-blue. You shouldn't eat cardboard\"\"\"\n",
        "\n",
        "pos = list()\n",
        "doc = nlp(text)\n",
        "for token in doc:\n",
        "    pos.append({'text': token.text, \n",
        "               'lemma': token.lemma_, \n",
        "               'pos': token.pos_, \n",
        "               'tag': token.tag_, \n",
        "               'dep': token.dep_,\n",
        "               'shape': token.shape_, \n",
        "               'stop': token.is_stop})\n",
        "pd.DataFrame(pos)"
      ],
      "execution_count": 0,
      "outputs": [
        {
          "output_type": "execute_result",
          "data": {
            "text/html": [
              "<div>\n",
              "<style scoped>\n",
              "    .dataframe tbody tr th:only-of-type {\n",
              "        vertical-align: middle;\n",
              "    }\n",
              "\n",
              "    .dataframe tbody tr th {\n",
              "        vertical-align: top;\n",
              "    }\n",
              "\n",
              "    .dataframe thead th {\n",
              "        text-align: right;\n",
              "    }\n",
              "</style>\n",
              "<table border=\"1\" class=\"dataframe\">\n",
              "  <thead>\n",
              "    <tr style=\"text-align: right;\">\n",
              "      <th></th>\n",
              "      <th>text</th>\n",
              "      <th>lemma</th>\n",
              "      <th>pos</th>\n",
              "      <th>tag</th>\n",
              "      <th>dep</th>\n",
              "      <th>shape</th>\n",
              "      <th>stop</th>\n",
              "    </tr>\n",
              "  </thead>\n",
              "  <tbody>\n",
              "    <tr>\n",
              "      <th>0</th>\n",
              "      <td>Hello</td>\n",
              "      <td>hello</td>\n",
              "      <td>INTJ</td>\n",
              "      <td>UH</td>\n",
              "      <td>intj</td>\n",
              "      <td>Xxxxx</td>\n",
              "      <td>False</td>\n",
              "    </tr>\n",
              "    <tr>\n",
              "      <th>1</th>\n",
              "      <td>Mr.</td>\n",
              "      <td>Mr.</td>\n",
              "      <td>PROPN</td>\n",
              "      <td>NNP</td>\n",
              "      <td>compound</td>\n",
              "      <td>Xx.</td>\n",
              "      <td>False</td>\n",
              "    </tr>\n",
              "    <tr>\n",
              "      <th>2</th>\n",
              "      <td>Smith</td>\n",
              "      <td>Smith</td>\n",
              "      <td>PROPN</td>\n",
              "      <td>NNP</td>\n",
              "      <td>npadvmod</td>\n",
              "      <td>Xxxxx</td>\n",
              "      <td>False</td>\n",
              "    </tr>\n",
              "    <tr>\n",
              "      <th>3</th>\n",
              "      <td>,</td>\n",
              "      <td>,</td>\n",
              "      <td>PUNCT</td>\n",
              "      <td>,</td>\n",
              "      <td>punct</td>\n",
              "      <td>,</td>\n",
              "      <td>False</td>\n",
              "    </tr>\n",
              "    <tr>\n",
              "      <th>4</th>\n",
              "      <td>how</td>\n",
              "      <td>how</td>\n",
              "      <td>ADV</td>\n",
              "      <td>WRB</td>\n",
              "      <td>advmod</td>\n",
              "      <td>xxx</td>\n",
              "      <td>True</td>\n",
              "    </tr>\n",
              "    <tr>\n",
              "      <th>5</th>\n",
              "      <td>are</td>\n",
              "      <td>be</td>\n",
              "      <td>AUX</td>\n",
              "      <td>VBP</td>\n",
              "      <td>aux</td>\n",
              "      <td>xxx</td>\n",
              "      <td>True</td>\n",
              "    </tr>\n",
              "    <tr>\n",
              "      <th>6</th>\n",
              "      <td>you</td>\n",
              "      <td>-PRON-</td>\n",
              "      <td>PRON</td>\n",
              "      <td>PRP</td>\n",
              "      <td>nsubj</td>\n",
              "      <td>xxx</td>\n",
              "      <td>True</td>\n",
              "    </tr>\n",
              "    <tr>\n",
              "      <th>7</th>\n",
              "      <td>doing</td>\n",
              "      <td>do</td>\n",
              "      <td>VERB</td>\n",
              "      <td>VBG</td>\n",
              "      <td>ROOT</td>\n",
              "      <td>xxxx</td>\n",
              "      <td>True</td>\n",
              "    </tr>\n",
              "    <tr>\n",
              "      <th>8</th>\n",
              "      <td>today</td>\n",
              "      <td>today</td>\n",
              "      <td>NOUN</td>\n",
              "      <td>NN</td>\n",
              "      <td>npadvmod</td>\n",
              "      <td>xxxx</td>\n",
              "      <td>False</td>\n",
              "    </tr>\n",
              "    <tr>\n",
              "      <th>9</th>\n",
              "      <td>?</td>\n",
              "      <td>?</td>\n",
              "      <td>PUNCT</td>\n",
              "      <td>.</td>\n",
              "      <td>punct</td>\n",
              "      <td>?</td>\n",
              "      <td>False</td>\n",
              "    </tr>\n",
              "    <tr>\n",
              "      <th>10</th>\n",
              "      <td>The</td>\n",
              "      <td>the</td>\n",
              "      <td>DET</td>\n",
              "      <td>DT</td>\n",
              "      <td>det</td>\n",
              "      <td>Xxx</td>\n",
              "      <td>True</td>\n",
              "    </tr>\n",
              "    <tr>\n",
              "      <th>11</th>\n",
              "      <td>weather</td>\n",
              "      <td>weather</td>\n",
              "      <td>NOUN</td>\n",
              "      <td>NN</td>\n",
              "      <td>nsubj</td>\n",
              "      <td>xxxx</td>\n",
              "      <td>False</td>\n",
              "    </tr>\n",
              "    <tr>\n",
              "      <th>12</th>\n",
              "      <td>is</td>\n",
              "      <td>be</td>\n",
              "      <td>AUX</td>\n",
              "      <td>VBZ</td>\n",
              "      <td>ROOT</td>\n",
              "      <td>xx</td>\n",
              "      <td>True</td>\n",
              "    </tr>\n",
              "    <tr>\n",
              "      <th>13</th>\n",
              "      <td>great</td>\n",
              "      <td>great</td>\n",
              "      <td>ADJ</td>\n",
              "      <td>JJ</td>\n",
              "      <td>acomp</td>\n",
              "      <td>xxxx</td>\n",
              "      <td>False</td>\n",
              "    </tr>\n",
              "    <tr>\n",
              "      <th>14</th>\n",
              "      <td>,</td>\n",
              "      <td>,</td>\n",
              "      <td>PUNCT</td>\n",
              "      <td>,</td>\n",
              "      <td>punct</td>\n",
              "      <td>,</td>\n",
              "      <td>False</td>\n",
              "    </tr>\n",
              "    <tr>\n",
              "      <th>15</th>\n",
              "      <td>and</td>\n",
              "      <td>and</td>\n",
              "      <td>CCONJ</td>\n",
              "      <td>CC</td>\n",
              "      <td>cc</td>\n",
              "      <td>xxx</td>\n",
              "      <td>True</td>\n",
              "    </tr>\n",
              "    <tr>\n",
              "      <th>16</th>\n",
              "      <td>city</td>\n",
              "      <td>city</td>\n",
              "      <td>NOUN</td>\n",
              "      <td>NN</td>\n",
              "      <td>nsubj</td>\n",
              "      <td>xxxx</td>\n",
              "      <td>False</td>\n",
              "    </tr>\n",
              "    <tr>\n",
              "      <th>17</th>\n",
              "      <td>is</td>\n",
              "      <td>be</td>\n",
              "      <td>AUX</td>\n",
              "      <td>VBZ</td>\n",
              "      <td>conj</td>\n",
              "      <td>xx</td>\n",
              "      <td>True</td>\n",
              "    </tr>\n",
              "    <tr>\n",
              "      <th>18</th>\n",
              "      <td>awesome</td>\n",
              "      <td>awesome</td>\n",
              "      <td>ADJ</td>\n",
              "      <td>JJ</td>\n",
              "      <td>acomp</td>\n",
              "      <td>xxxx</td>\n",
              "      <td>False</td>\n",
              "    </tr>\n",
              "    <tr>\n",
              "      <th>19</th>\n",
              "      <td>.</td>\n",
              "      <td>.</td>\n",
              "      <td>PUNCT</td>\n",
              "      <td>.</td>\n",
              "      <td>punct</td>\n",
              "      <td>.</td>\n",
              "      <td>False</td>\n",
              "    </tr>\n",
              "    <tr>\n",
              "      <th>20</th>\n",
              "      <td>\\n</td>\n",
              "      <td>\\n</td>\n",
              "      <td>SPACE</td>\n",
              "      <td>_SP</td>\n",
              "      <td></td>\n",
              "      <td>\\n</td>\n",
              "      <td>False</td>\n",
              "    </tr>\n",
              "    <tr>\n",
              "      <th>21</th>\n",
              "      <td>The</td>\n",
              "      <td>the</td>\n",
              "      <td>DET</td>\n",
              "      <td>DT</td>\n",
              "      <td>det</td>\n",
              "      <td>Xxx</td>\n",
              "      <td>True</td>\n",
              "    </tr>\n",
              "    <tr>\n",
              "      <th>22</th>\n",
              "      <td>sky</td>\n",
              "      <td>sky</td>\n",
              "      <td>NOUN</td>\n",
              "      <td>NN</td>\n",
              "      <td>nsubj</td>\n",
              "      <td>xxx</td>\n",
              "      <td>False</td>\n",
              "    </tr>\n",
              "    <tr>\n",
              "      <th>23</th>\n",
              "      <td>is</td>\n",
              "      <td>be</td>\n",
              "      <td>AUX</td>\n",
              "      <td>VBZ</td>\n",
              "      <td>ROOT</td>\n",
              "      <td>xx</td>\n",
              "      <td>True</td>\n",
              "    </tr>\n",
              "    <tr>\n",
              "      <th>24</th>\n",
              "      <td>pinkish</td>\n",
              "      <td>pinkish</td>\n",
              "      <td>ADJ</td>\n",
              "      <td>JJ</td>\n",
              "      <td>amod</td>\n",
              "      <td>xxxx</td>\n",
              "      <td>False</td>\n",
              "    </tr>\n",
              "    <tr>\n",
              "      <th>25</th>\n",
              "      <td>-</td>\n",
              "      <td>-</td>\n",
              "      <td>PUNCT</td>\n",
              "      <td>HYPH</td>\n",
              "      <td>punct</td>\n",
              "      <td>-</td>\n",
              "      <td>False</td>\n",
              "    </tr>\n",
              "    <tr>\n",
              "      <th>26</th>\n",
              "      <td>blue</td>\n",
              "      <td>blue</td>\n",
              "      <td>ADJ</td>\n",
              "      <td>JJ</td>\n",
              "      <td>acomp</td>\n",
              "      <td>xxxx</td>\n",
              "      <td>False</td>\n",
              "    </tr>\n",
              "    <tr>\n",
              "      <th>27</th>\n",
              "      <td>.</td>\n",
              "      <td>.</td>\n",
              "      <td>PUNCT</td>\n",
              "      <td>.</td>\n",
              "      <td>punct</td>\n",
              "      <td>.</td>\n",
              "      <td>False</td>\n",
              "    </tr>\n",
              "    <tr>\n",
              "      <th>28</th>\n",
              "      <td>You</td>\n",
              "      <td>-PRON-</td>\n",
              "      <td>PRON</td>\n",
              "      <td>PRP</td>\n",
              "      <td>nsubj</td>\n",
              "      <td>Xxx</td>\n",
              "      <td>True</td>\n",
              "    </tr>\n",
              "    <tr>\n",
              "      <th>29</th>\n",
              "      <td>should</td>\n",
              "      <td>should</td>\n",
              "      <td>VERB</td>\n",
              "      <td>MD</td>\n",
              "      <td>aux</td>\n",
              "      <td>xxxx</td>\n",
              "      <td>True</td>\n",
              "    </tr>\n",
              "    <tr>\n",
              "      <th>30</th>\n",
              "      <td>n't</td>\n",
              "      <td>not</td>\n",
              "      <td>PART</td>\n",
              "      <td>RB</td>\n",
              "      <td>neg</td>\n",
              "      <td>x'x</td>\n",
              "      <td>True</td>\n",
              "    </tr>\n",
              "    <tr>\n",
              "      <th>31</th>\n",
              "      <td>eat</td>\n",
              "      <td>eat</td>\n",
              "      <td>VERB</td>\n",
              "      <td>VB</td>\n",
              "      <td>ROOT</td>\n",
              "      <td>xxx</td>\n",
              "      <td>False</td>\n",
              "    </tr>\n",
              "    <tr>\n",
              "      <th>32</th>\n",
              "      <td>cardboard</td>\n",
              "      <td>cardboard</td>\n",
              "      <td>ADV</td>\n",
              "      <td>RB</td>\n",
              "      <td>dobj</td>\n",
              "      <td>xxxx</td>\n",
              "      <td>False</td>\n",
              "    </tr>\n",
              "  </tbody>\n",
              "</table>\n",
              "</div>"
            ],
            "text/plain": [
              "         text      lemma    pos   tag       dep  shape   stop\n",
              "0       Hello      hello   INTJ    UH      intj  Xxxxx  False\n",
              "1         Mr.        Mr.  PROPN   NNP  compound    Xx.  False\n",
              "2       Smith      Smith  PROPN   NNP  npadvmod  Xxxxx  False\n",
              "3           ,          ,  PUNCT     ,     punct      ,  False\n",
              "4         how        how    ADV   WRB    advmod    xxx   True\n",
              "5         are         be    AUX   VBP       aux    xxx   True\n",
              "6         you     -PRON-   PRON   PRP     nsubj    xxx   True\n",
              "7       doing         do   VERB   VBG      ROOT   xxxx   True\n",
              "8       today      today   NOUN    NN  npadvmod   xxxx  False\n",
              "9           ?          ?  PUNCT     .     punct      ?  False\n",
              "10        The        the    DET    DT       det    Xxx   True\n",
              "11    weather    weather   NOUN    NN     nsubj   xxxx  False\n",
              "12         is         be    AUX   VBZ      ROOT     xx   True\n",
              "13      great      great    ADJ    JJ     acomp   xxxx  False\n",
              "14          ,          ,  PUNCT     ,     punct      ,  False\n",
              "15        and        and  CCONJ    CC        cc    xxx   True\n",
              "16       city       city   NOUN    NN     nsubj   xxxx  False\n",
              "17         is         be    AUX   VBZ      conj     xx   True\n",
              "18    awesome    awesome    ADJ    JJ     acomp   xxxx  False\n",
              "19          .          .  PUNCT     .     punct      .  False\n",
              "20         \\n         \\n  SPACE   _SP               \\n  False\n",
              "21        The        the    DET    DT       det    Xxx   True\n",
              "22        sky        sky   NOUN    NN     nsubj    xxx  False\n",
              "23         is         be    AUX   VBZ      ROOT     xx   True\n",
              "24    pinkish    pinkish    ADJ    JJ      amod   xxxx  False\n",
              "25          -          -  PUNCT  HYPH     punct      -  False\n",
              "26       blue       blue    ADJ    JJ     acomp   xxxx  False\n",
              "27          .          .  PUNCT     .     punct      .  False\n",
              "28        You     -PRON-   PRON   PRP     nsubj    Xxx   True\n",
              "29     should     should   VERB    MD       aux   xxxx   True\n",
              "30        n't        not   PART    RB       neg    x'x   True\n",
              "31        eat        eat   VERB    VB      ROOT    xxx  False\n",
              "32  cardboard  cardboard    ADV    RB      dobj   xxxx  False"
            ]
          },
          "metadata": {
            "tags": []
          },
          "execution_count": 19
        }
      ]
    },
    {
      "cell_type": "markdown",
      "metadata": {
        "id": "pmynjOnCgZZY",
        "colab_type": "text"
      },
      "source": [
        "To show PoS tagging and word dependencies:"
      ]
    },
    {
      "cell_type": "code",
      "metadata": {
        "id": "rOKHq0foFE75",
        "colab_type": "code",
        "outputId": "ca0bbe8b-7653-4c38-9534-7aa1e4220213",
        "colab": {
          "base_uri": "https://localhost:8080/",
          "height": 615
        }
      },
      "source": [
        "displacy.render(doc, style=\"dep\", jupyter=True)"
      ],
      "execution_count": 0,
      "outputs": [
        {
          "output_type": "display_data",
          "data": {
            "text/html": [
              "<span class=\"tex2jax_ignore\"><svg xmlns=\"http://www.w3.org/2000/svg\" xmlns:xlink=\"http://www.w3.org/1999/xlink\" xml:lang=\"en\" id=\"5b57f22d062941ddbc21549601519f2f-0\" class=\"displacy\" width=\"4775\" height=\"574.5\" direction=\"ltr\" style=\"max-width: none; height: 574.5px; color: #000000; background: #ffffff; font-family: Arial; direction: ltr\">\n",
              "<text class=\"displacy-token\" fill=\"currentColor\" text-anchor=\"middle\" y=\"484.5\">\n",
              "    <tspan class=\"displacy-word\" fill=\"currentColor\" x=\"50\">Hello</tspan>\n",
              "    <tspan class=\"displacy-tag\" dy=\"2em\" fill=\"currentColor\" x=\"50\">INTJ</tspan>\n",
              "</text>\n",
              "\n",
              "<text class=\"displacy-token\" fill=\"currentColor\" text-anchor=\"middle\" y=\"484.5\">\n",
              "    <tspan class=\"displacy-word\" fill=\"currentColor\" x=\"225\">Mr.</tspan>\n",
              "    <tspan class=\"displacy-tag\" dy=\"2em\" fill=\"currentColor\" x=\"225\">PROPN</tspan>\n",
              "</text>\n",
              "\n",
              "<text class=\"displacy-token\" fill=\"currentColor\" text-anchor=\"middle\" y=\"484.5\">\n",
              "    <tspan class=\"displacy-word\" fill=\"currentColor\" x=\"400\">Smith,</tspan>\n",
              "    <tspan class=\"displacy-tag\" dy=\"2em\" fill=\"currentColor\" x=\"400\">PROPN</tspan>\n",
              "</text>\n",
              "\n",
              "<text class=\"displacy-token\" fill=\"currentColor\" text-anchor=\"middle\" y=\"484.5\">\n",
              "    <tspan class=\"displacy-word\" fill=\"currentColor\" x=\"575\">how</tspan>\n",
              "    <tspan class=\"displacy-tag\" dy=\"2em\" fill=\"currentColor\" x=\"575\">ADV</tspan>\n",
              "</text>\n",
              "\n",
              "<text class=\"displacy-token\" fill=\"currentColor\" text-anchor=\"middle\" y=\"484.5\">\n",
              "    <tspan class=\"displacy-word\" fill=\"currentColor\" x=\"750\">are</tspan>\n",
              "    <tspan class=\"displacy-tag\" dy=\"2em\" fill=\"currentColor\" x=\"750\">AUX</tspan>\n",
              "</text>\n",
              "\n",
              "<text class=\"displacy-token\" fill=\"currentColor\" text-anchor=\"middle\" y=\"484.5\">\n",
              "    <tspan class=\"displacy-word\" fill=\"currentColor\" x=\"925\">you</tspan>\n",
              "    <tspan class=\"displacy-tag\" dy=\"2em\" fill=\"currentColor\" x=\"925\">PRON</tspan>\n",
              "</text>\n",
              "\n",
              "<text class=\"displacy-token\" fill=\"currentColor\" text-anchor=\"middle\" y=\"484.5\">\n",
              "    <tspan class=\"displacy-word\" fill=\"currentColor\" x=\"1100\">doing</tspan>\n",
              "    <tspan class=\"displacy-tag\" dy=\"2em\" fill=\"currentColor\" x=\"1100\">VERB</tspan>\n",
              "</text>\n",
              "\n",
              "<text class=\"displacy-token\" fill=\"currentColor\" text-anchor=\"middle\" y=\"484.5\">\n",
              "    <tspan class=\"displacy-word\" fill=\"currentColor\" x=\"1275\">today?</tspan>\n",
              "    <tspan class=\"displacy-tag\" dy=\"2em\" fill=\"currentColor\" x=\"1275\">NOUN</tspan>\n",
              "</text>\n",
              "\n",
              "<text class=\"displacy-token\" fill=\"currentColor\" text-anchor=\"middle\" y=\"484.5\">\n",
              "    <tspan class=\"displacy-word\" fill=\"currentColor\" x=\"1450\">The</tspan>\n",
              "    <tspan class=\"displacy-tag\" dy=\"2em\" fill=\"currentColor\" x=\"1450\">DET</tspan>\n",
              "</text>\n",
              "\n",
              "<text class=\"displacy-token\" fill=\"currentColor\" text-anchor=\"middle\" y=\"484.5\">\n",
              "    <tspan class=\"displacy-word\" fill=\"currentColor\" x=\"1625\">weather</tspan>\n",
              "    <tspan class=\"displacy-tag\" dy=\"2em\" fill=\"currentColor\" x=\"1625\">NOUN</tspan>\n",
              "</text>\n",
              "\n",
              "<text class=\"displacy-token\" fill=\"currentColor\" text-anchor=\"middle\" y=\"484.5\">\n",
              "    <tspan class=\"displacy-word\" fill=\"currentColor\" x=\"1800\">is</tspan>\n",
              "    <tspan class=\"displacy-tag\" dy=\"2em\" fill=\"currentColor\" x=\"1800\">AUX</tspan>\n",
              "</text>\n",
              "\n",
              "<text class=\"displacy-token\" fill=\"currentColor\" text-anchor=\"middle\" y=\"484.5\">\n",
              "    <tspan class=\"displacy-word\" fill=\"currentColor\" x=\"1975\">great,</tspan>\n",
              "    <tspan class=\"displacy-tag\" dy=\"2em\" fill=\"currentColor\" x=\"1975\">ADJ</tspan>\n",
              "</text>\n",
              "\n",
              "<text class=\"displacy-token\" fill=\"currentColor\" text-anchor=\"middle\" y=\"484.5\">\n",
              "    <tspan class=\"displacy-word\" fill=\"currentColor\" x=\"2150\">and</tspan>\n",
              "    <tspan class=\"displacy-tag\" dy=\"2em\" fill=\"currentColor\" x=\"2150\">CCONJ</tspan>\n",
              "</text>\n",
              "\n",
              "<text class=\"displacy-token\" fill=\"currentColor\" text-anchor=\"middle\" y=\"484.5\">\n",
              "    <tspan class=\"displacy-word\" fill=\"currentColor\" x=\"2325\">city</tspan>\n",
              "    <tspan class=\"displacy-tag\" dy=\"2em\" fill=\"currentColor\" x=\"2325\">NOUN</tspan>\n",
              "</text>\n",
              "\n",
              "<text class=\"displacy-token\" fill=\"currentColor\" text-anchor=\"middle\" y=\"484.5\">\n",
              "    <tspan class=\"displacy-word\" fill=\"currentColor\" x=\"2500\">is</tspan>\n",
              "    <tspan class=\"displacy-tag\" dy=\"2em\" fill=\"currentColor\" x=\"2500\">AUX</tspan>\n",
              "</text>\n",
              "\n",
              "<text class=\"displacy-token\" fill=\"currentColor\" text-anchor=\"middle\" y=\"484.5\">\n",
              "    <tspan class=\"displacy-word\" fill=\"currentColor\" x=\"2675\">awesome.</tspan>\n",
              "    <tspan class=\"displacy-tag\" dy=\"2em\" fill=\"currentColor\" x=\"2675\">ADJ</tspan>\n",
              "</text>\n",
              "\n",
              "<text class=\"displacy-token\" fill=\"currentColor\" text-anchor=\"middle\" y=\"484.5\">\n",
              "    <tspan class=\"displacy-word\" fill=\"currentColor\" x=\"2850\">\n",
              "</tspan>\n",
              "    <tspan class=\"displacy-tag\" dy=\"2em\" fill=\"currentColor\" x=\"2850\">SPACE</tspan>\n",
              "</text>\n",
              "\n",
              "<text class=\"displacy-token\" fill=\"currentColor\" text-anchor=\"middle\" y=\"484.5\">\n",
              "    <tspan class=\"displacy-word\" fill=\"currentColor\" x=\"3025\">The</tspan>\n",
              "    <tspan class=\"displacy-tag\" dy=\"2em\" fill=\"currentColor\" x=\"3025\">DET</tspan>\n",
              "</text>\n",
              "\n",
              "<text class=\"displacy-token\" fill=\"currentColor\" text-anchor=\"middle\" y=\"484.5\">\n",
              "    <tspan class=\"displacy-word\" fill=\"currentColor\" x=\"3200\">sky</tspan>\n",
              "    <tspan class=\"displacy-tag\" dy=\"2em\" fill=\"currentColor\" x=\"3200\">NOUN</tspan>\n",
              "</text>\n",
              "\n",
              "<text class=\"displacy-token\" fill=\"currentColor\" text-anchor=\"middle\" y=\"484.5\">\n",
              "    <tspan class=\"displacy-word\" fill=\"currentColor\" x=\"3375\">is</tspan>\n",
              "    <tspan class=\"displacy-tag\" dy=\"2em\" fill=\"currentColor\" x=\"3375\">AUX</tspan>\n",
              "</text>\n",
              "\n",
              "<text class=\"displacy-token\" fill=\"currentColor\" text-anchor=\"middle\" y=\"484.5\">\n",
              "    <tspan class=\"displacy-word\" fill=\"currentColor\" x=\"3550\">pinkish-</tspan>\n",
              "    <tspan class=\"displacy-tag\" dy=\"2em\" fill=\"currentColor\" x=\"3550\">ADJ</tspan>\n",
              "</text>\n",
              "\n",
              "<text class=\"displacy-token\" fill=\"currentColor\" text-anchor=\"middle\" y=\"484.5\">\n",
              "    <tspan class=\"displacy-word\" fill=\"currentColor\" x=\"3725\">blue.</tspan>\n",
              "    <tspan class=\"displacy-tag\" dy=\"2em\" fill=\"currentColor\" x=\"3725\">ADJ</tspan>\n",
              "</text>\n",
              "\n",
              "<text class=\"displacy-token\" fill=\"currentColor\" text-anchor=\"middle\" y=\"484.5\">\n",
              "    <tspan class=\"displacy-word\" fill=\"currentColor\" x=\"3900\">You</tspan>\n",
              "    <tspan class=\"displacy-tag\" dy=\"2em\" fill=\"currentColor\" x=\"3900\">PRON</tspan>\n",
              "</text>\n",
              "\n",
              "<text class=\"displacy-token\" fill=\"currentColor\" text-anchor=\"middle\" y=\"484.5\">\n",
              "    <tspan class=\"displacy-word\" fill=\"currentColor\" x=\"4075\">should</tspan>\n",
              "    <tspan class=\"displacy-tag\" dy=\"2em\" fill=\"currentColor\" x=\"4075\">VERB</tspan>\n",
              "</text>\n",
              "\n",
              "<text class=\"displacy-token\" fill=\"currentColor\" text-anchor=\"middle\" y=\"484.5\">\n",
              "    <tspan class=\"displacy-word\" fill=\"currentColor\" x=\"4250\">n't</tspan>\n",
              "    <tspan class=\"displacy-tag\" dy=\"2em\" fill=\"currentColor\" x=\"4250\">PART</tspan>\n",
              "</text>\n",
              "\n",
              "<text class=\"displacy-token\" fill=\"currentColor\" text-anchor=\"middle\" y=\"484.5\">\n",
              "    <tspan class=\"displacy-word\" fill=\"currentColor\" x=\"4425\">eat</tspan>\n",
              "    <tspan class=\"displacy-tag\" dy=\"2em\" fill=\"currentColor\" x=\"4425\">VERB</tspan>\n",
              "</text>\n",
              "\n",
              "<text class=\"displacy-token\" fill=\"currentColor\" text-anchor=\"middle\" y=\"484.5\">\n",
              "    <tspan class=\"displacy-word\" fill=\"currentColor\" x=\"4600\">cardboard</tspan>\n",
              "    <tspan class=\"displacy-tag\" dy=\"2em\" fill=\"currentColor\" x=\"4600\">ADV</tspan>\n",
              "</text>\n",
              "\n",
              "<g class=\"displacy-arrow\">\n",
              "    <path class=\"displacy-arc\" id=\"arrow-5b57f22d062941ddbc21549601519f2f-0-0\" stroke-width=\"2px\" d=\"M70,439.5 C70,2.0 1100.0,2.0 1100.0,439.5\" fill=\"none\" stroke=\"currentColor\"/>\n",
              "    <text dy=\"1.25em\" style=\"font-size: 0.8em; letter-spacing: 1px\">\n",
              "        <textPath xlink:href=\"#arrow-5b57f22d062941ddbc21549601519f2f-0-0\" class=\"displacy-label\" startOffset=\"50%\" side=\"left\" fill=\"currentColor\" text-anchor=\"middle\">intj</textPath>\n",
              "    </text>\n",
              "    <path class=\"displacy-arrowhead\" d=\"M70,441.5 L62,429.5 78,429.5\" fill=\"currentColor\"/>\n",
              "</g>\n",
              "\n",
              "<g class=\"displacy-arrow\">\n",
              "    <path class=\"displacy-arc\" id=\"arrow-5b57f22d062941ddbc21549601519f2f-0-1\" stroke-width=\"2px\" d=\"M245,439.5 C245,352.0 380.0,352.0 380.0,439.5\" fill=\"none\" stroke=\"currentColor\"/>\n",
              "    <text dy=\"1.25em\" style=\"font-size: 0.8em; letter-spacing: 1px\">\n",
              "        <textPath xlink:href=\"#arrow-5b57f22d062941ddbc21549601519f2f-0-1\" class=\"displacy-label\" startOffset=\"50%\" side=\"left\" fill=\"currentColor\" text-anchor=\"middle\">compound</textPath>\n",
              "    </text>\n",
              "    <path class=\"displacy-arrowhead\" d=\"M245,441.5 L237,429.5 253,429.5\" fill=\"currentColor\"/>\n",
              "</g>\n",
              "\n",
              "<g class=\"displacy-arrow\">\n",
              "    <path class=\"displacy-arc\" id=\"arrow-5b57f22d062941ddbc21549601519f2f-0-2\" stroke-width=\"2px\" d=\"M420,439.5 C420,89.5 1095.0,89.5 1095.0,439.5\" fill=\"none\" stroke=\"currentColor\"/>\n",
              "    <text dy=\"1.25em\" style=\"font-size: 0.8em; letter-spacing: 1px\">\n",
              "        <textPath xlink:href=\"#arrow-5b57f22d062941ddbc21549601519f2f-0-2\" class=\"displacy-label\" startOffset=\"50%\" side=\"left\" fill=\"currentColor\" text-anchor=\"middle\">npadvmod</textPath>\n",
              "    </text>\n",
              "    <path class=\"displacy-arrowhead\" d=\"M420,441.5 L412,429.5 428,429.5\" fill=\"currentColor\"/>\n",
              "</g>\n",
              "\n",
              "<g class=\"displacy-arrow\">\n",
              "    <path class=\"displacy-arc\" id=\"arrow-5b57f22d062941ddbc21549601519f2f-0-3\" stroke-width=\"2px\" d=\"M595,439.5 C595,177.0 1090.0,177.0 1090.0,439.5\" fill=\"none\" stroke=\"currentColor\"/>\n",
              "    <text dy=\"1.25em\" style=\"font-size: 0.8em; letter-spacing: 1px\">\n",
              "        <textPath xlink:href=\"#arrow-5b57f22d062941ddbc21549601519f2f-0-3\" class=\"displacy-label\" startOffset=\"50%\" side=\"left\" fill=\"currentColor\" text-anchor=\"middle\">advmod</textPath>\n",
              "    </text>\n",
              "    <path class=\"displacy-arrowhead\" d=\"M595,441.5 L587,429.5 603,429.5\" fill=\"currentColor\"/>\n",
              "</g>\n",
              "\n",
              "<g class=\"displacy-arrow\">\n",
              "    <path class=\"displacy-arc\" id=\"arrow-5b57f22d062941ddbc21549601519f2f-0-4\" stroke-width=\"2px\" d=\"M770,439.5 C770,264.5 1085.0,264.5 1085.0,439.5\" fill=\"none\" stroke=\"currentColor\"/>\n",
              "    <text dy=\"1.25em\" style=\"font-size: 0.8em; letter-spacing: 1px\">\n",
              "        <textPath xlink:href=\"#arrow-5b57f22d062941ddbc21549601519f2f-0-4\" class=\"displacy-label\" startOffset=\"50%\" side=\"left\" fill=\"currentColor\" text-anchor=\"middle\">aux</textPath>\n",
              "    </text>\n",
              "    <path class=\"displacy-arrowhead\" d=\"M770,441.5 L762,429.5 778,429.5\" fill=\"currentColor\"/>\n",
              "</g>\n",
              "\n",
              "<g class=\"displacy-arrow\">\n",
              "    <path class=\"displacy-arc\" id=\"arrow-5b57f22d062941ddbc21549601519f2f-0-5\" stroke-width=\"2px\" d=\"M945,439.5 C945,352.0 1080.0,352.0 1080.0,439.5\" fill=\"none\" stroke=\"currentColor\"/>\n",
              "    <text dy=\"1.25em\" style=\"font-size: 0.8em; letter-spacing: 1px\">\n",
              "        <textPath xlink:href=\"#arrow-5b57f22d062941ddbc21549601519f2f-0-5\" class=\"displacy-label\" startOffset=\"50%\" side=\"left\" fill=\"currentColor\" text-anchor=\"middle\">nsubj</textPath>\n",
              "    </text>\n",
              "    <path class=\"displacy-arrowhead\" d=\"M945,441.5 L937,429.5 953,429.5\" fill=\"currentColor\"/>\n",
              "</g>\n",
              "\n",
              "<g class=\"displacy-arrow\">\n",
              "    <path class=\"displacy-arc\" id=\"arrow-5b57f22d062941ddbc21549601519f2f-0-6\" stroke-width=\"2px\" d=\"M1120,439.5 C1120,352.0 1255.0,352.0 1255.0,439.5\" fill=\"none\" stroke=\"currentColor\"/>\n",
              "    <text dy=\"1.25em\" style=\"font-size: 0.8em; letter-spacing: 1px\">\n",
              "        <textPath xlink:href=\"#arrow-5b57f22d062941ddbc21549601519f2f-0-6\" class=\"displacy-label\" startOffset=\"50%\" side=\"left\" fill=\"currentColor\" text-anchor=\"middle\">npadvmod</textPath>\n",
              "    </text>\n",
              "    <path class=\"displacy-arrowhead\" d=\"M1255.0,441.5 L1263.0,429.5 1247.0,429.5\" fill=\"currentColor\"/>\n",
              "</g>\n",
              "\n",
              "<g class=\"displacy-arrow\">\n",
              "    <path class=\"displacy-arc\" id=\"arrow-5b57f22d062941ddbc21549601519f2f-0-7\" stroke-width=\"2px\" d=\"M1470,439.5 C1470,352.0 1605.0,352.0 1605.0,439.5\" fill=\"none\" stroke=\"currentColor\"/>\n",
              "    <text dy=\"1.25em\" style=\"font-size: 0.8em; letter-spacing: 1px\">\n",
              "        <textPath xlink:href=\"#arrow-5b57f22d062941ddbc21549601519f2f-0-7\" class=\"displacy-label\" startOffset=\"50%\" side=\"left\" fill=\"currentColor\" text-anchor=\"middle\">det</textPath>\n",
              "    </text>\n",
              "    <path class=\"displacy-arrowhead\" d=\"M1470,441.5 L1462,429.5 1478,429.5\" fill=\"currentColor\"/>\n",
              "</g>\n",
              "\n",
              "<g class=\"displacy-arrow\">\n",
              "    <path class=\"displacy-arc\" id=\"arrow-5b57f22d062941ddbc21549601519f2f-0-8\" stroke-width=\"2px\" d=\"M1645,439.5 C1645,352.0 1780.0,352.0 1780.0,439.5\" fill=\"none\" stroke=\"currentColor\"/>\n",
              "    <text dy=\"1.25em\" style=\"font-size: 0.8em; letter-spacing: 1px\">\n",
              "        <textPath xlink:href=\"#arrow-5b57f22d062941ddbc21549601519f2f-0-8\" class=\"displacy-label\" startOffset=\"50%\" side=\"left\" fill=\"currentColor\" text-anchor=\"middle\">nsubj</textPath>\n",
              "    </text>\n",
              "    <path class=\"displacy-arrowhead\" d=\"M1645,441.5 L1637,429.5 1653,429.5\" fill=\"currentColor\"/>\n",
              "</g>\n",
              "\n",
              "<g class=\"displacy-arrow\">\n",
              "    <path class=\"displacy-arc\" id=\"arrow-5b57f22d062941ddbc21549601519f2f-0-9\" stroke-width=\"2px\" d=\"M1820,439.5 C1820,352.0 1955.0,352.0 1955.0,439.5\" fill=\"none\" stroke=\"currentColor\"/>\n",
              "    <text dy=\"1.25em\" style=\"font-size: 0.8em; letter-spacing: 1px\">\n",
              "        <textPath xlink:href=\"#arrow-5b57f22d062941ddbc21549601519f2f-0-9\" class=\"displacy-label\" startOffset=\"50%\" side=\"left\" fill=\"currentColor\" text-anchor=\"middle\">acomp</textPath>\n",
              "    </text>\n",
              "    <path class=\"displacy-arrowhead\" d=\"M1955.0,441.5 L1963.0,429.5 1947.0,429.5\" fill=\"currentColor\"/>\n",
              "</g>\n",
              "\n",
              "<g class=\"displacy-arrow\">\n",
              "    <path class=\"displacy-arc\" id=\"arrow-5b57f22d062941ddbc21549601519f2f-0-10\" stroke-width=\"2px\" d=\"M1820,439.5 C1820,264.5 2135.0,264.5 2135.0,439.5\" fill=\"none\" stroke=\"currentColor\"/>\n",
              "    <text dy=\"1.25em\" style=\"font-size: 0.8em; letter-spacing: 1px\">\n",
              "        <textPath xlink:href=\"#arrow-5b57f22d062941ddbc21549601519f2f-0-10\" class=\"displacy-label\" startOffset=\"50%\" side=\"left\" fill=\"currentColor\" text-anchor=\"middle\">cc</textPath>\n",
              "    </text>\n",
              "    <path class=\"displacy-arrowhead\" d=\"M2135.0,441.5 L2143.0,429.5 2127.0,429.5\" fill=\"currentColor\"/>\n",
              "</g>\n",
              "\n",
              "<g class=\"displacy-arrow\">\n",
              "    <path class=\"displacy-arc\" id=\"arrow-5b57f22d062941ddbc21549601519f2f-0-11\" stroke-width=\"2px\" d=\"M2345,439.5 C2345,352.0 2480.0,352.0 2480.0,439.5\" fill=\"none\" stroke=\"currentColor\"/>\n",
              "    <text dy=\"1.25em\" style=\"font-size: 0.8em; letter-spacing: 1px\">\n",
              "        <textPath xlink:href=\"#arrow-5b57f22d062941ddbc21549601519f2f-0-11\" class=\"displacy-label\" startOffset=\"50%\" side=\"left\" fill=\"currentColor\" text-anchor=\"middle\">nsubj</textPath>\n",
              "    </text>\n",
              "    <path class=\"displacy-arrowhead\" d=\"M2345,441.5 L2337,429.5 2353,429.5\" fill=\"currentColor\"/>\n",
              "</g>\n",
              "\n",
              "<g class=\"displacy-arrow\">\n",
              "    <path class=\"displacy-arc\" id=\"arrow-5b57f22d062941ddbc21549601519f2f-0-12\" stroke-width=\"2px\" d=\"M1820,439.5 C1820,89.5 2495.0,89.5 2495.0,439.5\" fill=\"none\" stroke=\"currentColor\"/>\n",
              "    <text dy=\"1.25em\" style=\"font-size: 0.8em; letter-spacing: 1px\">\n",
              "        <textPath xlink:href=\"#arrow-5b57f22d062941ddbc21549601519f2f-0-12\" class=\"displacy-label\" startOffset=\"50%\" side=\"left\" fill=\"currentColor\" text-anchor=\"middle\">conj</textPath>\n",
              "    </text>\n",
              "    <path class=\"displacy-arrowhead\" d=\"M2495.0,441.5 L2503.0,429.5 2487.0,429.5\" fill=\"currentColor\"/>\n",
              "</g>\n",
              "\n",
              "<g class=\"displacy-arrow\">\n",
              "    <path class=\"displacy-arc\" id=\"arrow-5b57f22d062941ddbc21549601519f2f-0-13\" stroke-width=\"2px\" d=\"M2520,439.5 C2520,352.0 2655.0,352.0 2655.0,439.5\" fill=\"none\" stroke=\"currentColor\"/>\n",
              "    <text dy=\"1.25em\" style=\"font-size: 0.8em; letter-spacing: 1px\">\n",
              "        <textPath xlink:href=\"#arrow-5b57f22d062941ddbc21549601519f2f-0-13\" class=\"displacy-label\" startOffset=\"50%\" side=\"left\" fill=\"currentColor\" text-anchor=\"middle\">acomp</textPath>\n",
              "    </text>\n",
              "    <path class=\"displacy-arrowhead\" d=\"M2655.0,441.5 L2663.0,429.5 2647.0,429.5\" fill=\"currentColor\"/>\n",
              "</g>\n",
              "\n",
              "<g class=\"displacy-arrow\">\n",
              "    <path class=\"displacy-arc\" id=\"arrow-5b57f22d062941ddbc21549601519f2f-0-14\" stroke-width=\"2px\" d=\"M2695,439.5 C2695,352.0 2830.0,352.0 2830.0,439.5\" fill=\"none\" stroke=\"currentColor\"/>\n",
              "    <text dy=\"1.25em\" style=\"font-size: 0.8em; letter-spacing: 1px\">\n",
              "        <textPath xlink:href=\"#arrow-5b57f22d062941ddbc21549601519f2f-0-14\" class=\"displacy-label\" startOffset=\"50%\" side=\"left\" fill=\"currentColor\" text-anchor=\"middle\"></textPath>\n",
              "    </text>\n",
              "    <path class=\"displacy-arrowhead\" d=\"M2830.0,441.5 L2838.0,429.5 2822.0,429.5\" fill=\"currentColor\"/>\n",
              "</g>\n",
              "\n",
              "<g class=\"displacy-arrow\">\n",
              "    <path class=\"displacy-arc\" id=\"arrow-5b57f22d062941ddbc21549601519f2f-0-15\" stroke-width=\"2px\" d=\"M3045,439.5 C3045,352.0 3180.0,352.0 3180.0,439.5\" fill=\"none\" stroke=\"currentColor\"/>\n",
              "    <text dy=\"1.25em\" style=\"font-size: 0.8em; letter-spacing: 1px\">\n",
              "        <textPath xlink:href=\"#arrow-5b57f22d062941ddbc21549601519f2f-0-15\" class=\"displacy-label\" startOffset=\"50%\" side=\"left\" fill=\"currentColor\" text-anchor=\"middle\">det</textPath>\n",
              "    </text>\n",
              "    <path class=\"displacy-arrowhead\" d=\"M3045,441.5 L3037,429.5 3053,429.5\" fill=\"currentColor\"/>\n",
              "</g>\n",
              "\n",
              "<g class=\"displacy-arrow\">\n",
              "    <path class=\"displacy-arc\" id=\"arrow-5b57f22d062941ddbc21549601519f2f-0-16\" stroke-width=\"2px\" d=\"M3220,439.5 C3220,352.0 3355.0,352.0 3355.0,439.5\" fill=\"none\" stroke=\"currentColor\"/>\n",
              "    <text dy=\"1.25em\" style=\"font-size: 0.8em; letter-spacing: 1px\">\n",
              "        <textPath xlink:href=\"#arrow-5b57f22d062941ddbc21549601519f2f-0-16\" class=\"displacy-label\" startOffset=\"50%\" side=\"left\" fill=\"currentColor\" text-anchor=\"middle\">nsubj</textPath>\n",
              "    </text>\n",
              "    <path class=\"displacy-arrowhead\" d=\"M3220,441.5 L3212,429.5 3228,429.5\" fill=\"currentColor\"/>\n",
              "</g>\n",
              "\n",
              "<g class=\"displacy-arrow\">\n",
              "    <path class=\"displacy-arc\" id=\"arrow-5b57f22d062941ddbc21549601519f2f-0-17\" stroke-width=\"2px\" d=\"M3570,439.5 C3570,352.0 3705.0,352.0 3705.0,439.5\" fill=\"none\" stroke=\"currentColor\"/>\n",
              "    <text dy=\"1.25em\" style=\"font-size: 0.8em; letter-spacing: 1px\">\n",
              "        <textPath xlink:href=\"#arrow-5b57f22d062941ddbc21549601519f2f-0-17\" class=\"displacy-label\" startOffset=\"50%\" side=\"left\" fill=\"currentColor\" text-anchor=\"middle\">amod</textPath>\n",
              "    </text>\n",
              "    <path class=\"displacy-arrowhead\" d=\"M3570,441.5 L3562,429.5 3578,429.5\" fill=\"currentColor\"/>\n",
              "</g>\n",
              "\n",
              "<g class=\"displacy-arrow\">\n",
              "    <path class=\"displacy-arc\" id=\"arrow-5b57f22d062941ddbc21549601519f2f-0-18\" stroke-width=\"2px\" d=\"M3395,439.5 C3395,264.5 3710.0,264.5 3710.0,439.5\" fill=\"none\" stroke=\"currentColor\"/>\n",
              "    <text dy=\"1.25em\" style=\"font-size: 0.8em; letter-spacing: 1px\">\n",
              "        <textPath xlink:href=\"#arrow-5b57f22d062941ddbc21549601519f2f-0-18\" class=\"displacy-label\" startOffset=\"50%\" side=\"left\" fill=\"currentColor\" text-anchor=\"middle\">acomp</textPath>\n",
              "    </text>\n",
              "    <path class=\"displacy-arrowhead\" d=\"M3710.0,441.5 L3718.0,429.5 3702.0,429.5\" fill=\"currentColor\"/>\n",
              "</g>\n",
              "\n",
              "<g class=\"displacy-arrow\">\n",
              "    <path class=\"displacy-arc\" id=\"arrow-5b57f22d062941ddbc21549601519f2f-0-19\" stroke-width=\"2px\" d=\"M3920,439.5 C3920,177.0 4415.0,177.0 4415.0,439.5\" fill=\"none\" stroke=\"currentColor\"/>\n",
              "    <text dy=\"1.25em\" style=\"font-size: 0.8em; letter-spacing: 1px\">\n",
              "        <textPath xlink:href=\"#arrow-5b57f22d062941ddbc21549601519f2f-0-19\" class=\"displacy-label\" startOffset=\"50%\" side=\"left\" fill=\"currentColor\" text-anchor=\"middle\">nsubj</textPath>\n",
              "    </text>\n",
              "    <path class=\"displacy-arrowhead\" d=\"M3920,441.5 L3912,429.5 3928,429.5\" fill=\"currentColor\"/>\n",
              "</g>\n",
              "\n",
              "<g class=\"displacy-arrow\">\n",
              "    <path class=\"displacy-arc\" id=\"arrow-5b57f22d062941ddbc21549601519f2f-0-20\" stroke-width=\"2px\" d=\"M4095,439.5 C4095,264.5 4410.0,264.5 4410.0,439.5\" fill=\"none\" stroke=\"currentColor\"/>\n",
              "    <text dy=\"1.25em\" style=\"font-size: 0.8em; letter-spacing: 1px\">\n",
              "        <textPath xlink:href=\"#arrow-5b57f22d062941ddbc21549601519f2f-0-20\" class=\"displacy-label\" startOffset=\"50%\" side=\"left\" fill=\"currentColor\" text-anchor=\"middle\">aux</textPath>\n",
              "    </text>\n",
              "    <path class=\"displacy-arrowhead\" d=\"M4095,441.5 L4087,429.5 4103,429.5\" fill=\"currentColor\"/>\n",
              "</g>\n",
              "\n",
              "<g class=\"displacy-arrow\">\n",
              "    <path class=\"displacy-arc\" id=\"arrow-5b57f22d062941ddbc21549601519f2f-0-21\" stroke-width=\"2px\" d=\"M4270,439.5 C4270,352.0 4405.0,352.0 4405.0,439.5\" fill=\"none\" stroke=\"currentColor\"/>\n",
              "    <text dy=\"1.25em\" style=\"font-size: 0.8em; letter-spacing: 1px\">\n",
              "        <textPath xlink:href=\"#arrow-5b57f22d062941ddbc21549601519f2f-0-21\" class=\"displacy-label\" startOffset=\"50%\" side=\"left\" fill=\"currentColor\" text-anchor=\"middle\">neg</textPath>\n",
              "    </text>\n",
              "    <path class=\"displacy-arrowhead\" d=\"M4270,441.5 L4262,429.5 4278,429.5\" fill=\"currentColor\"/>\n",
              "</g>\n",
              "\n",
              "<g class=\"displacy-arrow\">\n",
              "    <path class=\"displacy-arc\" id=\"arrow-5b57f22d062941ddbc21549601519f2f-0-22\" stroke-width=\"2px\" d=\"M4445,439.5 C4445,352.0 4580.0,352.0 4580.0,439.5\" fill=\"none\" stroke=\"currentColor\"/>\n",
              "    <text dy=\"1.25em\" style=\"font-size: 0.8em; letter-spacing: 1px\">\n",
              "        <textPath xlink:href=\"#arrow-5b57f22d062941ddbc21549601519f2f-0-22\" class=\"displacy-label\" startOffset=\"50%\" side=\"left\" fill=\"currentColor\" text-anchor=\"middle\">dobj</textPath>\n",
              "    </text>\n",
              "    <path class=\"displacy-arrowhead\" d=\"M4580.0,441.5 L4588.0,429.5 4572.0,429.5\" fill=\"currentColor\"/>\n",
              "</g>\n",
              "</svg></span>"
            ],
            "text/plain": [
              "<IPython.core.display.HTML object>"
            ]
          },
          "metadata": {
            "tags": []
          }
        }
      ]
    },
    {
      "cell_type": "markdown",
      "metadata": {
        "id": "-9exxfK6OzMj",
        "colab_type": "text"
      },
      "source": [
        "> ### Example of word dependency analysis with spaCy"
      ]
    },
    {
      "cell_type": "markdown",
      "metadata": {
        "id": "naM49AOCgsXT",
        "colab_type": "text"
      },
      "source": [
        "In the following example, we have a commit message from a bug fix commit. We want to extract the commit hash that has introduced the bug."
      ]
    },
    {
      "cell_type": "code",
      "metadata": {
        "id": "66f8RkosPuRj",
        "colab_type": "code",
        "colab": {}
      },
      "source": [
        "commit_msg = \"fixes a search bug introduced by 2508e124d0795678df9050ca5e9f38a469de2a6f and fixes a typo in the README.md\""
      ],
      "execution_count": 0,
      "outputs": []
    },
    {
      "cell_type": "code",
      "metadata": {
        "id": "y7Kib_Z6Ozdh",
        "colab_type": "code",
        "outputId": "db244afd-66c2-4777-9ff7-8b58732eefbc",
        "colab": {
          "base_uri": "https://localhost:8080/",
          "height": 462
        }
      },
      "source": [
        "doc = nlp(commit_msg)\n",
        "tokens_info = list()\n",
        "for token in doc:\n",
        "  tokens_info.append({\n",
        "      'text': token.text, \n",
        "      'pos': token.pos_, \n",
        "      'dep': token.dep_, \n",
        "      'head_text': token.head.text, \n",
        "      'head_pos': token.head.pos_, \n",
        "      'children': [child for child in token.children], \n",
        "      'ancestors': [t for t in token.ancestors]\n",
        "  })\n",
        "\n",
        "pd.DataFrame(tokens_info)"
      ],
      "execution_count": 0,
      "outputs": [
        {
          "output_type": "execute_result",
          "data": {
            "text/html": [
              "<div>\n",
              "<style scoped>\n",
              "    .dataframe tbody tr th:only-of-type {\n",
              "        vertical-align: middle;\n",
              "    }\n",
              "\n",
              "    .dataframe tbody tr th {\n",
              "        vertical-align: top;\n",
              "    }\n",
              "\n",
              "    .dataframe thead th {\n",
              "        text-align: right;\n",
              "    }\n",
              "</style>\n",
              "<table border=\"1\" class=\"dataframe\">\n",
              "  <thead>\n",
              "    <tr style=\"text-align: right;\">\n",
              "      <th></th>\n",
              "      <th>text</th>\n",
              "      <th>pos</th>\n",
              "      <th>dep</th>\n",
              "      <th>head_text</th>\n",
              "      <th>head_pos</th>\n",
              "      <th>children</th>\n",
              "      <th>ancestors</th>\n",
              "    </tr>\n",
              "  </thead>\n",
              "  <tbody>\n",
              "    <tr>\n",
              "      <th>0</th>\n",
              "      <td>fixes</td>\n",
              "      <td>NOUN</td>\n",
              "      <td>ROOT</td>\n",
              "      <td>fixes</td>\n",
              "      <td>NOUN</td>\n",
              "      <td>[bug, and, fixes]</td>\n",
              "      <td>[]</td>\n",
              "    </tr>\n",
              "    <tr>\n",
              "      <th>1</th>\n",
              "      <td>a</td>\n",
              "      <td>DET</td>\n",
              "      <td>det</td>\n",
              "      <td>bug</td>\n",
              "      <td>NOUN</td>\n",
              "      <td>[]</td>\n",
              "      <td>[bug, fixes]</td>\n",
              "    </tr>\n",
              "    <tr>\n",
              "      <th>2</th>\n",
              "      <td>search</td>\n",
              "      <td>NOUN</td>\n",
              "      <td>compound</td>\n",
              "      <td>bug</td>\n",
              "      <td>NOUN</td>\n",
              "      <td>[]</td>\n",
              "      <td>[bug, fixes]</td>\n",
              "    </tr>\n",
              "    <tr>\n",
              "      <th>3</th>\n",
              "      <td>bug</td>\n",
              "      <td>NOUN</td>\n",
              "      <td>dobj</td>\n",
              "      <td>fixes</td>\n",
              "      <td>NOUN</td>\n",
              "      <td>[a, search, introduced]</td>\n",
              "      <td>[fixes]</td>\n",
              "    </tr>\n",
              "    <tr>\n",
              "      <th>4</th>\n",
              "      <td>introduced</td>\n",
              "      <td>VERB</td>\n",
              "      <td>acl</td>\n",
              "      <td>bug</td>\n",
              "      <td>NOUN</td>\n",
              "      <td>[by]</td>\n",
              "      <td>[bug, fixes]</td>\n",
              "    </tr>\n",
              "    <tr>\n",
              "      <th>5</th>\n",
              "      <td>by</td>\n",
              "      <td>ADP</td>\n",
              "      <td>agent</td>\n",
              "      <td>introduced</td>\n",
              "      <td>VERB</td>\n",
              "      <td>[2508e124d0795678df9050ca5e9f38a469de2a6f]</td>\n",
              "      <td>[introduced, bug, fixes]</td>\n",
              "    </tr>\n",
              "    <tr>\n",
              "      <th>6</th>\n",
              "      <td>2508e124d0795678df9050ca5e9f38a469de2a6f</td>\n",
              "      <td>NUM</td>\n",
              "      <td>pobj</td>\n",
              "      <td>by</td>\n",
              "      <td>ADP</td>\n",
              "      <td>[]</td>\n",
              "      <td>[by, introduced, bug, fixes]</td>\n",
              "    </tr>\n",
              "    <tr>\n",
              "      <th>7</th>\n",
              "      <td>and</td>\n",
              "      <td>CCONJ</td>\n",
              "      <td>cc</td>\n",
              "      <td>fixes</td>\n",
              "      <td>NOUN</td>\n",
              "      <td>[]</td>\n",
              "      <td>[fixes]</td>\n",
              "    </tr>\n",
              "    <tr>\n",
              "      <th>8</th>\n",
              "      <td>fixes</td>\n",
              "      <td>VERB</td>\n",
              "      <td>conj</td>\n",
              "      <td>fixes</td>\n",
              "      <td>NOUN</td>\n",
              "      <td>[typo, in]</td>\n",
              "      <td>[fixes]</td>\n",
              "    </tr>\n",
              "    <tr>\n",
              "      <th>9</th>\n",
              "      <td>a</td>\n",
              "      <td>DET</td>\n",
              "      <td>det</td>\n",
              "      <td>typo</td>\n",
              "      <td>NOUN</td>\n",
              "      <td>[]</td>\n",
              "      <td>[typo, fixes, fixes]</td>\n",
              "    </tr>\n",
              "    <tr>\n",
              "      <th>10</th>\n",
              "      <td>typo</td>\n",
              "      <td>NOUN</td>\n",
              "      <td>dobj</td>\n",
              "      <td>fixes</td>\n",
              "      <td>VERB</td>\n",
              "      <td>[a]</td>\n",
              "      <td>[fixes, fixes]</td>\n",
              "    </tr>\n",
              "    <tr>\n",
              "      <th>11</th>\n",
              "      <td>in</td>\n",
              "      <td>ADP</td>\n",
              "      <td>prep</td>\n",
              "      <td>fixes</td>\n",
              "      <td>VERB</td>\n",
              "      <td>[README.md]</td>\n",
              "      <td>[fixes, fixes]</td>\n",
              "    </tr>\n",
              "    <tr>\n",
              "      <th>12</th>\n",
              "      <td>the</td>\n",
              "      <td>DET</td>\n",
              "      <td>det</td>\n",
              "      <td>README.md</td>\n",
              "      <td>PROPN</td>\n",
              "      <td>[]</td>\n",
              "      <td>[README.md, in, fixes, fixes]</td>\n",
              "    </tr>\n",
              "    <tr>\n",
              "      <th>13</th>\n",
              "      <td>README.md</td>\n",
              "      <td>PROPN</td>\n",
              "      <td>pobj</td>\n",
              "      <td>in</td>\n",
              "      <td>ADP</td>\n",
              "      <td>[the]</td>\n",
              "      <td>[in, fixes, fixes]</td>\n",
              "    </tr>\n",
              "  </tbody>\n",
              "</table>\n",
              "</div>"
            ],
            "text/plain": [
              "                                        text  ...                      ancestors\n",
              "0                                      fixes  ...                             []\n",
              "1                                          a  ...                   [bug, fixes]\n",
              "2                                     search  ...                   [bug, fixes]\n",
              "3                                        bug  ...                        [fixes]\n",
              "4                                 introduced  ...                   [bug, fixes]\n",
              "5                                         by  ...       [introduced, bug, fixes]\n",
              "6   2508e124d0795678df9050ca5e9f38a469de2a6f  ...   [by, introduced, bug, fixes]\n",
              "7                                        and  ...                        [fixes]\n",
              "8                                      fixes  ...                        [fixes]\n",
              "9                                          a  ...           [typo, fixes, fixes]\n",
              "10                                      typo  ...                 [fixes, fixes]\n",
              "11                                        in  ...                 [fixes, fixes]\n",
              "12                                       the  ...  [README.md, in, fixes, fixes]\n",
              "13                                 README.md  ...             [in, fixes, fixes]\n",
              "\n",
              "[14 rows x 7 columns]"
            ]
          },
          "metadata": {
            "tags": []
          },
          "execution_count": 22
        }
      ]
    },
    {
      "cell_type": "markdown",
      "metadata": {
        "id": "nvMPqnRlR9yM",
        "colab_type": "text"
      },
      "source": [
        "> ##### To print dependency tree:"
      ]
    },
    {
      "cell_type": "code",
      "metadata": {
        "id": "j6xgbI0IS4hO",
        "colab_type": "code",
        "colab": {}
      },
      "source": [
        "from nltk import Tree\n",
        "\n",
        "def to_nltk_tree(node):\n",
        "    if node.n_lefts + node.n_rights > 0:\n",
        "        return Tree(node.orth_, [to_nltk_tree(child) for child in node.children])\n",
        "    else:\n",
        "        return node.orth_"
      ],
      "execution_count": 0,
      "outputs": []
    },
    {
      "cell_type": "code",
      "metadata": {
        "id": "W1snRWilR975",
        "colab_type": "code",
        "outputId": "123562b1-304a-4688-c4a3-46de47e0fcc0",
        "colab": {
          "base_uri": "https://localhost:8080/",
          "height": 235
        }
      },
      "source": [
        "for s in doc.sents:\n",
        "  print(to_nltk_tree(s.root).pretty_print())"
      ],
      "execution_count": 0,
      "outputs": [
        {
          "output_type": "stream",
          "text": [
            "        fixes                                       \n",
            "  ________|____________________________              \n",
            " |       bug                         fixes          \n",
            " |    ____|___________            _____|_______      \n",
            " |   |    |       introduced     |             in   \n",
            " |   |    |           |          |             |     \n",
            " |   |    |           by        typo       README.md\n",
            " |   |    |           |          |             |     \n",
            "and  a  search 2508e124d0795678  a            the   \n",
            "               df9050ca5e9f38a4                     \n",
            "                   69de2a6f                         \n",
            "\n",
            "None\n"
          ],
          "name": "stdout"
        }
      ]
    },
    {
      "cell_type": "markdown",
      "metadata": {
        "id": "2MB7VVl0hdEs",
        "colab_type": "text"
      },
      "source": [
        "> ### Useful links\n",
        "\n",
        "* [NLTK](https://www.nltk.org/)\n",
        "\n",
        "* [Spacy](https://spacy.io/) and [examples](https://spacy.io/usage/spacy-101)\n",
        "\n",
        "* [Text summarization example](https://www.kaggle.com/harunshimanto/summarization-with-wine-reviews-using-spacy)\n",
        "\n",
        "* [Sentiment analysis example](https://www.kaggle.com/ngyptr/python-nltk-sentiment-analysis)"
      ]
    }
  ]
}
