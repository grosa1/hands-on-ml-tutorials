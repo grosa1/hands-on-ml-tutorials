{
  "nbformat": 4,
  "nbformat_minor": 0,
  "metadata": {
    "kernelspec": {
      "display_name": "Python 3",
      "language": "python",
      "name": "python3"
    },
    "language_info": {
      "name": "python",
      "version": "3.6.6",
      "mimetype": "text/x-python",
      "codemirror_mode": {
        "name": "ipython",
        "version": 3
      },
      "pygments_lexer": "ipython3",
      "nbconvert_exporter": "python",
      "file_extension": ".py"
    },
    "colab": {
      "name": "Software Defect Prediction.ipynb",
      "provenance": [],
      "collapsed_sections": [],
      "toc_visible": true,
      "include_colab_link": true
    }
  },
  "cells": [
    {
      "cell_type": "markdown",
      "metadata": {
        "id": "view-in-github",
        "colab_type": "text"
      },
      "source": [
        "<a href=\"https://colab.research.google.com/github/grosa1/hands-on-ml-tutorials/blob/master/tutorial_2/Software_Defect_Prediction.ipynb\" target=\"_parent\"><img src=\"https://colab.research.google.com/assets/colab-badge.svg\" alt=\"Open In Colab\"/></a>"
      ]
    },
    {
      "cell_type": "markdown",
      "metadata": {
        "id": "tBuwUhoQNs-o"
      },
      "source": [
        "# Tutorial 2 - Software Defect Prediciton\n",
        "\n"
      ]
    },
    {
      "cell_type": "markdown",
      "metadata": {
        "_uuid": "cf51134f3d233979683b678e7868109ee947a354",
        "id": "PKrSesT7Nkt7"
      },
      "source": [
        "> **About PROMISE Software Engineering Repository**\n",
        " \n",
        "We will use one of the dataset from PROMISE, made publicly available in order to encourage repeatable, verifiable, refutable, and/or improvable predictive models of software engineering.\n",
        "\n",
        "\n",
        "Example of file info:\n",
        "```\n",
        "Number of instances: 10885\n",
        "\n",
        "\n",
        "Number of attributes: 22 (5 different lines of code measure, \n",
        "          3 McCabe metrics, 4 base Halstead measures, 8 derived \n",
        "           Halstead measures, a branch-count, and 1 goal field)\n",
        "\n",
        "\n",
        "Attribute Information:\n",
        "      1. loc             : numeric % McCabe's line count of code\n",
        "      2. v(g)            : numeric % McCabe \"cyclomatic complexity\"\n",
        "      3. ev(g)           : numeric % McCabe \"essential complexity\"\n",
        "      4. iv(g)           : numeric % McCabe \"design complexity\"\n",
        "      5. n               : numeric % Halstead total operators + operands\n",
        "      6. v               : numeric % Halstead \"volume\"\n",
        "      7. l               : numeric % Halstead \"program length\"\n",
        "      8. d               : numeric % Halstead \"difficulty\"\n",
        "      9. i               : numeric % Halstead \"intelligence\"\n",
        "     10. e               : numeric % Halstead \"effort\"\n",
        "     11. b               : numeric % Halstead \n",
        "     12. t               : numeric % Halstead's time estimator\n",
        "     13. lOCode          : numeric % Halstead's line count\n",
        "     14. lOComment       : numeric % Halstead's count of lines of comments\n",
        "     15. lOBlank         : numeric % Halstead's count of blank lines\n",
        "     16. lOCodeAndComment: numeric\n",
        "     17. uniq_Op         : numeric % unique operators\n",
        "     18. uniq_Opnd       : numeric % unique operands\n",
        "     19. total_Op        : numeric % total operators\n",
        "     20. total_Opnd      : numeric % total operands\n",
        "     21: branchCount     : numeric % of the flow graph\n",
        "     22. defects         : {false,true} % module has/has not one or more \n",
        "                                        % reported defects\n",
        "```"
      ]
    },
    {
      "cell_type": "markdown",
      "metadata": {
        "id": "SYi83ly_zx9S"
      },
      "source": [
        ">### Setup"
      ]
    },
    {
      "cell_type": "code",
      "metadata": {
        "_uuid": "8f2839f25d086af736a60e9eeb907d3b93b6e0e5",
        "_cell_guid": "b1076dfc-b9ad-4769-8c92-a6c4dae69d19",
        "trusted": true,
        "id": "Ea1syNCXNktq"
      },
      "source": [
        "from scipy.io import arff             # load arff in pandas\n",
        "import numpy as np                    # linear algebra\n",
        "import pandas as pd                   # data processing, CSV file I/O (e.g. pd.read_csv)\n",
        "import matplotlib.pyplot as plt       # data visualization\n",
        "import seaborn as sns                 # statistical data visualization"
      ],
      "execution_count": 65,
      "outputs": []
    },
    {
      "cell_type": "markdown",
      "metadata": {
        "id": "wp-otsu-z6w9"
      },
      "source": [
        "> ### Load the dataset"
      ]
    },
    {
      "cell_type": "code",
      "metadata": {
        "id": "tZkEf_vsVOl8",
        "colab": {
          "base_uri": "https://localhost:8080/"
        },
        "outputId": "870da321-d1da-432e-b0f4-6acd49c0e739"
      },
      "source": [
        "!wget http://promise.site.uottawa.ca/SERepository/datasets/cm1.arff\n",
        "!wget http://promise.site.uottawa.ca/SERepository/datasets/jm1.arff\n",
        "!wget http://promise.site.uottawa.ca/SERepository/datasets/kc1.arff"
      ],
      "execution_count": 66,
      "outputs": [
        {
          "output_type": "stream",
          "text": [
            "--2021-04-13 23:03:58--  http://promise.site.uottawa.ca/SERepository/datasets/cm1.arff\n",
            "Resolving promise.site.uottawa.ca (promise.site.uottawa.ca)... 137.122.24.222\n",
            "Connecting to promise.site.uottawa.ca (promise.site.uottawa.ca)|137.122.24.222|:80... connected.\n",
            "HTTP request sent, awaiting response... 200 OK\n",
            "Length: 56758 (55K) [text/plain]\n",
            "Saving to: ‘cm1.arff.2’\n",
            "\n",
            "cm1.arff.2          100%[===================>]  55.43K   194KB/s    in 0.3s    \n",
            "\n",
            "2021-04-13 23:03:59 (194 KB/s) - ‘cm1.arff.2’ saved [56758/56758]\n",
            "\n",
            "--2021-04-13 23:03:59--  http://promise.site.uottawa.ca/SERepository/datasets/jm1.arff\n",
            "Resolving promise.site.uottawa.ca (promise.site.uottawa.ca)... 137.122.24.222\n",
            "Connecting to promise.site.uottawa.ca (promise.site.uottawa.ca)|137.122.24.222|:80... connected.\n",
            "HTTP request sent, awaiting response... 200 OK\n",
            "Length: 861589 (841K) [text/plain]\n",
            "Saving to: ‘jm1.arff.2’\n",
            "\n",
            "jm1.arff.2          100%[===================>] 841.40K   629KB/s    in 1.3s    \n",
            "\n",
            "2021-04-13 23:04:00 (629 KB/s) - ‘jm1.arff.2’ saved [861589/861589]\n",
            "\n",
            "--2021-04-13 23:04:00--  http://promise.site.uottawa.ca/SERepository/datasets/kc1.arff\n",
            "Resolving promise.site.uottawa.ca (promise.site.uottawa.ca)... 137.122.24.222\n",
            "Connecting to promise.site.uottawa.ca (promise.site.uottawa.ca)|137.122.24.222|:80... connected.\n",
            "HTTP request sent, awaiting response... 200 OK\n",
            "Length: 167423 (163K) [text/plain]\n",
            "Saving to: ‘kc1.arff.2’\n",
            "\n",
            "kc1.arff.2          100%[===================>] 163.50K   364KB/s    in 0.4s    \n",
            "\n",
            "2021-04-13 23:04:01 (364 KB/s) - ‘kc1.arff.2’ saved [167423/167423]\n",
            "\n"
          ],
          "name": "stdout"
        }
      ]
    },
    {
      "cell_type": "markdown",
      "metadata": {
        "id": "oQ9veUfr_08Q"
      },
      "source": [
        "> ##### Convert `.arff` to `DataFrame`"
      ]
    },
    {
      "cell_type": "code",
      "metadata": {
        "id": "kuKAZiKrgwg7"
      },
      "source": [
        "dataset = arff.loadarff('jm1.arff')"
      ],
      "execution_count": 67,
      "outputs": []
    },
    {
      "cell_type": "code",
      "metadata": {
        "id": "eM4JOk66hZiH",
        "colab": {
          "base_uri": "https://localhost:8080/"
        },
        "outputId": "42720b0d-f109-45e0-ad98-6c5fdecd4fb3"
      },
      "source": [
        "print(dataset)"
      ],
      "execution_count": 68,
      "outputs": [
        {
          "output_type": "stream",
          "text": [
            "(array([( 1.1, 1.4, 1.4, 1.4,   1.3, 1.30000e+00, 1.3 ,  1.3 ,  1.3 , 1.300000e+00, 1.3 , 1.30000e+00,  2.,  2.,  2., 2.,  1.2,  1.2,   1.2,  1.2,  1.4, b'false'),\n",
            "       ( 1. , 1. , 1. , 1. ,   1. , 1.00000e+00, 1.  ,  1.  ,  1.  , 1.000000e+00, 1.  , 1.00000e+00,  1.,  1.,  1., 1.,  1. ,  1. ,   1. ,  1. ,  1. , b'true'),\n",
            "       (72. , 7. , 1. , 6. , 198. , 1.13413e+03, 0.05, 20.31, 55.85, 2.302910e+04, 0.38, 1.27939e+03, 51., 10.,  8., 1., 17. , 36. , 112. , 86. , 13. , b'true'),\n",
            "       ...,\n",
            "       (42. , 4. , 1. , 2. , 103. , 5.19570e+02, 0.04, 26.4 , 19.68, 1.371672e+04, 0.17, 7.62040e+02, 29.,  1., 10., 0., 18. , 15. ,  59. , 44. ,  7. , b'false'),\n",
            "       (10. , 1. , 1. , 1. ,  36. , 1.47150e+02, 0.12,  8.44, 17.44, 1.241570e+03, 0.05, 6.89800e+01,  6.,  0.,  2., 0.,  9. ,  8. ,  21. , 15. ,  1. , b'false'),\n",
            "       (19. , 3. , 1. , 1. ,  58. , 2.72630e+02, 0.09, 11.57, 23.56, 3.154670e+03, 0.09, 1.75260e+02, 13.,  0.,  2., 1., 12. , 14. ,  31. , 27. ,  5. , b'false')],\n",
            "      dtype=[('loc', '<f8'), ('v(g)', '<f8'), ('ev(g)', '<f8'), ('iv(g)', '<f8'), ('n', '<f8'), ('v', '<f8'), ('l', '<f8'), ('d', '<f8'), ('i', '<f8'), ('e', '<f8'), ('b', '<f8'), ('t', '<f8'), ('lOCode', '<f8'), ('lOComment', '<f8'), ('lOBlank', '<f8'), ('locCodeAndComment', '<f8'), ('uniq_Op', '<f8'), ('uniq_Opnd', '<f8'), ('total_Op', '<f8'), ('total_Opnd', '<f8'), ('branchCount', '<f8'), ('defects', 'S5')]), Dataset: JM1\n",
            "\tloc's type is numeric\n",
            "\tv(g)'s type is numeric\n",
            "\tev(g)'s type is numeric\n",
            "\tiv(g)'s type is numeric\n",
            "\tn's type is numeric\n",
            "\tv's type is numeric\n",
            "\tl's type is numeric\n",
            "\td's type is numeric\n",
            "\ti's type is numeric\n",
            "\te's type is numeric\n",
            "\tb's type is numeric\n",
            "\tt's type is numeric\n",
            "\tlOCode's type is numeric\n",
            "\tlOComment's type is numeric\n",
            "\tlOBlank's type is numeric\n",
            "\tlocCodeAndComment's type is numeric\n",
            "\tuniq_Op's type is numeric\n",
            "\tuniq_Opnd's type is numeric\n",
            "\ttotal_Op's type is numeric\n",
            "\ttotal_Opnd's type is numeric\n",
            "\tbranchCount's type is numeric\n",
            "\tdefects's type is nominal, range is ('false', 'true')\n",
            ")\n"
          ],
          "name": "stdout"
        }
      ]
    },
    {
      "cell_type": "code",
      "metadata": {
        "trusted": true,
        "_uuid": "fdf245691c7f90411a8daf3c21eb918c044247f1",
        "scrolled": true,
        "id": "yvdUDhQiNktz",
        "colab": {
          "base_uri": "https://localhost:8080/",
          "height": 439
        },
        "outputId": "bb4b62a4-9a2d-4916-bdf6-5598d17a5860"
      },
      "source": [
        "data = pd.DataFrame(dataset[0])\n",
        "data"
      ],
      "execution_count": 69,
      "outputs": [
        {
          "output_type": "execute_result",
          "data": {
            "text/html": [
              "<div>\n",
              "<style scoped>\n",
              "    .dataframe tbody tr th:only-of-type {\n",
              "        vertical-align: middle;\n",
              "    }\n",
              "\n",
              "    .dataframe tbody tr th {\n",
              "        vertical-align: top;\n",
              "    }\n",
              "\n",
              "    .dataframe thead th {\n",
              "        text-align: right;\n",
              "    }\n",
              "</style>\n",
              "<table border=\"1\" class=\"dataframe\">\n",
              "  <thead>\n",
              "    <tr style=\"text-align: right;\">\n",
              "      <th></th>\n",
              "      <th>loc</th>\n",
              "      <th>v(g)</th>\n",
              "      <th>ev(g)</th>\n",
              "      <th>iv(g)</th>\n",
              "      <th>n</th>\n",
              "      <th>v</th>\n",
              "      <th>l</th>\n",
              "      <th>d</th>\n",
              "      <th>i</th>\n",
              "      <th>e</th>\n",
              "      <th>b</th>\n",
              "      <th>t</th>\n",
              "      <th>lOCode</th>\n",
              "      <th>lOComment</th>\n",
              "      <th>lOBlank</th>\n",
              "      <th>locCodeAndComment</th>\n",
              "      <th>uniq_Op</th>\n",
              "      <th>uniq_Opnd</th>\n",
              "      <th>total_Op</th>\n",
              "      <th>total_Opnd</th>\n",
              "      <th>branchCount</th>\n",
              "      <th>defects</th>\n",
              "    </tr>\n",
              "  </thead>\n",
              "  <tbody>\n",
              "    <tr>\n",
              "      <th>0</th>\n",
              "      <td>1.1</td>\n",
              "      <td>1.4</td>\n",
              "      <td>1.4</td>\n",
              "      <td>1.4</td>\n",
              "      <td>1.3</td>\n",
              "      <td>1.30</td>\n",
              "      <td>1.30</td>\n",
              "      <td>1.30</td>\n",
              "      <td>1.30</td>\n",
              "      <td>1.30</td>\n",
              "      <td>1.30</td>\n",
              "      <td>1.30</td>\n",
              "      <td>2.0</td>\n",
              "      <td>2.0</td>\n",
              "      <td>2.0</td>\n",
              "      <td>2.0</td>\n",
              "      <td>1.2</td>\n",
              "      <td>1.2</td>\n",
              "      <td>1.2</td>\n",
              "      <td>1.2</td>\n",
              "      <td>1.4</td>\n",
              "      <td>b'false'</td>\n",
              "    </tr>\n",
              "    <tr>\n",
              "      <th>1</th>\n",
              "      <td>1.0</td>\n",
              "      <td>1.0</td>\n",
              "      <td>1.0</td>\n",
              "      <td>1.0</td>\n",
              "      <td>1.0</td>\n",
              "      <td>1.00</td>\n",
              "      <td>1.00</td>\n",
              "      <td>1.00</td>\n",
              "      <td>1.00</td>\n",
              "      <td>1.00</td>\n",
              "      <td>1.00</td>\n",
              "      <td>1.00</td>\n",
              "      <td>1.0</td>\n",
              "      <td>1.0</td>\n",
              "      <td>1.0</td>\n",
              "      <td>1.0</td>\n",
              "      <td>1.0</td>\n",
              "      <td>1.0</td>\n",
              "      <td>1.0</td>\n",
              "      <td>1.0</td>\n",
              "      <td>1.0</td>\n",
              "      <td>b'true'</td>\n",
              "    </tr>\n",
              "    <tr>\n",
              "      <th>2</th>\n",
              "      <td>72.0</td>\n",
              "      <td>7.0</td>\n",
              "      <td>1.0</td>\n",
              "      <td>6.0</td>\n",
              "      <td>198.0</td>\n",
              "      <td>1134.13</td>\n",
              "      <td>0.05</td>\n",
              "      <td>20.31</td>\n",
              "      <td>55.85</td>\n",
              "      <td>23029.10</td>\n",
              "      <td>0.38</td>\n",
              "      <td>1279.39</td>\n",
              "      <td>51.0</td>\n",
              "      <td>10.0</td>\n",
              "      <td>8.0</td>\n",
              "      <td>1.0</td>\n",
              "      <td>17.0</td>\n",
              "      <td>36.0</td>\n",
              "      <td>112.0</td>\n",
              "      <td>86.0</td>\n",
              "      <td>13.0</td>\n",
              "      <td>b'true'</td>\n",
              "    </tr>\n",
              "    <tr>\n",
              "      <th>3</th>\n",
              "      <td>190.0</td>\n",
              "      <td>3.0</td>\n",
              "      <td>1.0</td>\n",
              "      <td>3.0</td>\n",
              "      <td>600.0</td>\n",
              "      <td>4348.76</td>\n",
              "      <td>0.06</td>\n",
              "      <td>17.06</td>\n",
              "      <td>254.87</td>\n",
              "      <td>74202.67</td>\n",
              "      <td>1.45</td>\n",
              "      <td>4122.37</td>\n",
              "      <td>129.0</td>\n",
              "      <td>29.0</td>\n",
              "      <td>28.0</td>\n",
              "      <td>2.0</td>\n",
              "      <td>17.0</td>\n",
              "      <td>135.0</td>\n",
              "      <td>329.0</td>\n",
              "      <td>271.0</td>\n",
              "      <td>5.0</td>\n",
              "      <td>b'true'</td>\n",
              "    </tr>\n",
              "    <tr>\n",
              "      <th>4</th>\n",
              "      <td>37.0</td>\n",
              "      <td>4.0</td>\n",
              "      <td>1.0</td>\n",
              "      <td>4.0</td>\n",
              "      <td>126.0</td>\n",
              "      <td>599.12</td>\n",
              "      <td>0.06</td>\n",
              "      <td>17.19</td>\n",
              "      <td>34.86</td>\n",
              "      <td>10297.30</td>\n",
              "      <td>0.20</td>\n",
              "      <td>572.07</td>\n",
              "      <td>28.0</td>\n",
              "      <td>1.0</td>\n",
              "      <td>6.0</td>\n",
              "      <td>0.0</td>\n",
              "      <td>11.0</td>\n",
              "      <td>16.0</td>\n",
              "      <td>76.0</td>\n",
              "      <td>50.0</td>\n",
              "      <td>7.0</td>\n",
              "      <td>b'true'</td>\n",
              "    </tr>\n",
              "    <tr>\n",
              "      <th>...</th>\n",
              "      <td>...</td>\n",
              "      <td>...</td>\n",
              "      <td>...</td>\n",
              "      <td>...</td>\n",
              "      <td>...</td>\n",
              "      <td>...</td>\n",
              "      <td>...</td>\n",
              "      <td>...</td>\n",
              "      <td>...</td>\n",
              "      <td>...</td>\n",
              "      <td>...</td>\n",
              "      <td>...</td>\n",
              "      <td>...</td>\n",
              "      <td>...</td>\n",
              "      <td>...</td>\n",
              "      <td>...</td>\n",
              "      <td>...</td>\n",
              "      <td>...</td>\n",
              "      <td>...</td>\n",
              "      <td>...</td>\n",
              "      <td>...</td>\n",
              "      <td>...</td>\n",
              "    </tr>\n",
              "    <tr>\n",
              "      <th>10880</th>\n",
              "      <td>18.0</td>\n",
              "      <td>4.0</td>\n",
              "      <td>1.0</td>\n",
              "      <td>4.0</td>\n",
              "      <td>52.0</td>\n",
              "      <td>241.48</td>\n",
              "      <td>0.14</td>\n",
              "      <td>7.33</td>\n",
              "      <td>32.93</td>\n",
              "      <td>1770.86</td>\n",
              "      <td>0.08</td>\n",
              "      <td>98.38</td>\n",
              "      <td>13.0</td>\n",
              "      <td>0.0</td>\n",
              "      <td>2.0</td>\n",
              "      <td>0.0</td>\n",
              "      <td>10.0</td>\n",
              "      <td>15.0</td>\n",
              "      <td>30.0</td>\n",
              "      <td>22.0</td>\n",
              "      <td>7.0</td>\n",
              "      <td>b'false'</td>\n",
              "    </tr>\n",
              "    <tr>\n",
              "      <th>10881</th>\n",
              "      <td>9.0</td>\n",
              "      <td>2.0</td>\n",
              "      <td>1.0</td>\n",
              "      <td>2.0</td>\n",
              "      <td>30.0</td>\n",
              "      <td>129.66</td>\n",
              "      <td>0.12</td>\n",
              "      <td>8.25</td>\n",
              "      <td>15.72</td>\n",
              "      <td>1069.68</td>\n",
              "      <td>0.04</td>\n",
              "      <td>59.43</td>\n",
              "      <td>5.0</td>\n",
              "      <td>0.0</td>\n",
              "      <td>2.0</td>\n",
              "      <td>0.0</td>\n",
              "      <td>12.0</td>\n",
              "      <td>8.0</td>\n",
              "      <td>19.0</td>\n",
              "      <td>11.0</td>\n",
              "      <td>3.0</td>\n",
              "      <td>b'false'</td>\n",
              "    </tr>\n",
              "    <tr>\n",
              "      <th>10882</th>\n",
              "      <td>42.0</td>\n",
              "      <td>4.0</td>\n",
              "      <td>1.0</td>\n",
              "      <td>2.0</td>\n",
              "      <td>103.0</td>\n",
              "      <td>519.57</td>\n",
              "      <td>0.04</td>\n",
              "      <td>26.40</td>\n",
              "      <td>19.68</td>\n",
              "      <td>13716.72</td>\n",
              "      <td>0.17</td>\n",
              "      <td>762.04</td>\n",
              "      <td>29.0</td>\n",
              "      <td>1.0</td>\n",
              "      <td>10.0</td>\n",
              "      <td>0.0</td>\n",
              "      <td>18.0</td>\n",
              "      <td>15.0</td>\n",
              "      <td>59.0</td>\n",
              "      <td>44.0</td>\n",
              "      <td>7.0</td>\n",
              "      <td>b'false'</td>\n",
              "    </tr>\n",
              "    <tr>\n",
              "      <th>10883</th>\n",
              "      <td>10.0</td>\n",
              "      <td>1.0</td>\n",
              "      <td>1.0</td>\n",
              "      <td>1.0</td>\n",
              "      <td>36.0</td>\n",
              "      <td>147.15</td>\n",
              "      <td>0.12</td>\n",
              "      <td>8.44</td>\n",
              "      <td>17.44</td>\n",
              "      <td>1241.57</td>\n",
              "      <td>0.05</td>\n",
              "      <td>68.98</td>\n",
              "      <td>6.0</td>\n",
              "      <td>0.0</td>\n",
              "      <td>2.0</td>\n",
              "      <td>0.0</td>\n",
              "      <td>9.0</td>\n",
              "      <td>8.0</td>\n",
              "      <td>21.0</td>\n",
              "      <td>15.0</td>\n",
              "      <td>1.0</td>\n",
              "      <td>b'false'</td>\n",
              "    </tr>\n",
              "    <tr>\n",
              "      <th>10884</th>\n",
              "      <td>19.0</td>\n",
              "      <td>3.0</td>\n",
              "      <td>1.0</td>\n",
              "      <td>1.0</td>\n",
              "      <td>58.0</td>\n",
              "      <td>272.63</td>\n",
              "      <td>0.09</td>\n",
              "      <td>11.57</td>\n",
              "      <td>23.56</td>\n",
              "      <td>3154.67</td>\n",
              "      <td>0.09</td>\n",
              "      <td>175.26</td>\n",
              "      <td>13.0</td>\n",
              "      <td>0.0</td>\n",
              "      <td>2.0</td>\n",
              "      <td>1.0</td>\n",
              "      <td>12.0</td>\n",
              "      <td>14.0</td>\n",
              "      <td>31.0</td>\n",
              "      <td>27.0</td>\n",
              "      <td>5.0</td>\n",
              "      <td>b'false'</td>\n",
              "    </tr>\n",
              "  </tbody>\n",
              "</table>\n",
              "<p>10885 rows × 22 columns</p>\n",
              "</div>"
            ],
            "text/plain": [
              "         loc  v(g)  ev(g)  iv(g)  ...  total_Op  total_Opnd  branchCount   defects\n",
              "0        1.1   1.4    1.4    1.4  ...       1.2         1.2          1.4  b'false'\n",
              "1        1.0   1.0    1.0    1.0  ...       1.0         1.0          1.0   b'true'\n",
              "2       72.0   7.0    1.0    6.0  ...     112.0        86.0         13.0   b'true'\n",
              "3      190.0   3.0    1.0    3.0  ...     329.0       271.0          5.0   b'true'\n",
              "4       37.0   4.0    1.0    4.0  ...      76.0        50.0          7.0   b'true'\n",
              "...      ...   ...    ...    ...  ...       ...         ...          ...       ...\n",
              "10880   18.0   4.0    1.0    4.0  ...      30.0        22.0          7.0  b'false'\n",
              "10881    9.0   2.0    1.0    2.0  ...      19.0        11.0          3.0  b'false'\n",
              "10882   42.0   4.0    1.0    2.0  ...      59.0        44.0          7.0  b'false'\n",
              "10883   10.0   1.0    1.0    1.0  ...      21.0        15.0          1.0  b'false'\n",
              "10884   19.0   3.0    1.0    1.0  ...      31.0        27.0          5.0  b'false'\n",
              "\n",
              "[10885 rows x 22 columns]"
            ]
          },
          "metadata": {
            "tags": []
          },
          "execution_count": 69
        }
      ]
    },
    {
      "cell_type": "markdown",
      "metadata": {
        "id": "LFlrgyWsALtO"
      },
      "source": [
        "> ##### We have to \"fix\" the values of `defects` column"
      ]
    },
    {
      "cell_type": "code",
      "metadata": {
        "id": "KMgSFdMS4Qc_",
        "colab": {
          "base_uri": "https://localhost:8080/"
        },
        "outputId": "e986c8d1-ad4d-431e-adf8-51383954f971"
      },
      "source": [
        "data['defects'] = data['defects'].values.astype(str)\n",
        "data['defects'] = data['defects'].map({'true': True, 'false': False})\n",
        "data['defects']"
      ],
      "execution_count": 70,
      "outputs": [
        {
          "output_type": "execute_result",
          "data": {
            "text/plain": [
              "0        False\n",
              "1         True\n",
              "2         True\n",
              "3         True\n",
              "4         True\n",
              "         ...  \n",
              "10880    False\n",
              "10881    False\n",
              "10882    False\n",
              "10883    False\n",
              "10884    False\n",
              "Name: defects, Length: 10885, dtype: bool"
            ]
          },
          "metadata": {
            "tags": []
          },
          "execution_count": 70
        }
      ]
    },
    {
      "cell_type": "markdown",
      "metadata": {
        "_uuid": "722d6c1a68b8c2fefe8fb92797f73c713e4f134b",
        "id": "y5OBYecdNkt8"
      },
      "source": [
        "> ### Data Discovery & Visualization"
      ]
    },
    {
      "cell_type": "code",
      "metadata": {
        "trusted": true,
        "_uuid": "79b2362dbe0d2a6fcacc75041622a923f35d6e11",
        "scrolled": true,
        "id": "NXydPNLLNkt9",
        "colab": {
          "base_uri": "https://localhost:8080/"
        },
        "outputId": "5089ed55-b36f-4c93-eb90-e3bd710e93f3"
      },
      "source": [
        "data.info()"
      ],
      "execution_count": 71,
      "outputs": [
        {
          "output_type": "stream",
          "text": [
            "<class 'pandas.core.frame.DataFrame'>\n",
            "RangeIndex: 10885 entries, 0 to 10884\n",
            "Data columns (total 22 columns):\n",
            " #   Column             Non-Null Count  Dtype  \n",
            "---  ------             --------------  -----  \n",
            " 0   loc                10885 non-null  float64\n",
            " 1   v(g)               10885 non-null  float64\n",
            " 2   ev(g)              10885 non-null  float64\n",
            " 3   iv(g)              10885 non-null  float64\n",
            " 4   n                  10885 non-null  float64\n",
            " 5   v                  10885 non-null  float64\n",
            " 6   l                  10885 non-null  float64\n",
            " 7   d                  10885 non-null  float64\n",
            " 8   i                  10885 non-null  float64\n",
            " 9   e                  10885 non-null  float64\n",
            " 10  b                  10885 non-null  float64\n",
            " 11  t                  10885 non-null  float64\n",
            " 12  lOCode             10885 non-null  float64\n",
            " 13  lOComment          10885 non-null  float64\n",
            " 14  lOBlank            10885 non-null  float64\n",
            " 15  locCodeAndComment  10885 non-null  float64\n",
            " 16  uniq_Op            10880 non-null  float64\n",
            " 17  uniq_Opnd          10880 non-null  float64\n",
            " 18  total_Op           10880 non-null  float64\n",
            " 19  total_Opnd         10880 non-null  float64\n",
            " 20  branchCount        10880 non-null  float64\n",
            " 21  defects            10885 non-null  bool   \n",
            "dtypes: bool(1), float64(21)\n",
            "memory usage: 1.8 MB\n"
          ],
          "name": "stdout"
        }
      ]
    },
    {
      "cell_type": "code",
      "metadata": {
        "_cell_guid": "79c7e3d0-c299-4dcb-8224-4455121ee9b0",
        "_uuid": "d629ff2d2480ee46fbb7e2d37f6b5fab8052498a",
        "trusted": true,
        "scrolled": true,
        "id": "a2O-0jXoNkuC",
        "colab": {
          "base_uri": "https://localhost:8080/",
          "height": 224
        },
        "outputId": "be1a6025-6cf9-498e-d69f-f7fdff205321"
      },
      "source": [
        "data.head()"
      ],
      "execution_count": 72,
      "outputs": [
        {
          "output_type": "execute_result",
          "data": {
            "text/html": [
              "<div>\n",
              "<style scoped>\n",
              "    .dataframe tbody tr th:only-of-type {\n",
              "        vertical-align: middle;\n",
              "    }\n",
              "\n",
              "    .dataframe tbody tr th {\n",
              "        vertical-align: top;\n",
              "    }\n",
              "\n",
              "    .dataframe thead th {\n",
              "        text-align: right;\n",
              "    }\n",
              "</style>\n",
              "<table border=\"1\" class=\"dataframe\">\n",
              "  <thead>\n",
              "    <tr style=\"text-align: right;\">\n",
              "      <th></th>\n",
              "      <th>loc</th>\n",
              "      <th>v(g)</th>\n",
              "      <th>ev(g)</th>\n",
              "      <th>iv(g)</th>\n",
              "      <th>n</th>\n",
              "      <th>v</th>\n",
              "      <th>l</th>\n",
              "      <th>d</th>\n",
              "      <th>i</th>\n",
              "      <th>e</th>\n",
              "      <th>b</th>\n",
              "      <th>t</th>\n",
              "      <th>lOCode</th>\n",
              "      <th>lOComment</th>\n",
              "      <th>lOBlank</th>\n",
              "      <th>locCodeAndComment</th>\n",
              "      <th>uniq_Op</th>\n",
              "      <th>uniq_Opnd</th>\n",
              "      <th>total_Op</th>\n",
              "      <th>total_Opnd</th>\n",
              "      <th>branchCount</th>\n",
              "      <th>defects</th>\n",
              "    </tr>\n",
              "  </thead>\n",
              "  <tbody>\n",
              "    <tr>\n",
              "      <th>0</th>\n",
              "      <td>1.1</td>\n",
              "      <td>1.4</td>\n",
              "      <td>1.4</td>\n",
              "      <td>1.4</td>\n",
              "      <td>1.3</td>\n",
              "      <td>1.30</td>\n",
              "      <td>1.30</td>\n",
              "      <td>1.30</td>\n",
              "      <td>1.30</td>\n",
              "      <td>1.30</td>\n",
              "      <td>1.30</td>\n",
              "      <td>1.30</td>\n",
              "      <td>2.0</td>\n",
              "      <td>2.0</td>\n",
              "      <td>2.0</td>\n",
              "      <td>2.0</td>\n",
              "      <td>1.2</td>\n",
              "      <td>1.2</td>\n",
              "      <td>1.2</td>\n",
              "      <td>1.2</td>\n",
              "      <td>1.4</td>\n",
              "      <td>False</td>\n",
              "    </tr>\n",
              "    <tr>\n",
              "      <th>1</th>\n",
              "      <td>1.0</td>\n",
              "      <td>1.0</td>\n",
              "      <td>1.0</td>\n",
              "      <td>1.0</td>\n",
              "      <td>1.0</td>\n",
              "      <td>1.00</td>\n",
              "      <td>1.00</td>\n",
              "      <td>1.00</td>\n",
              "      <td>1.00</td>\n",
              "      <td>1.00</td>\n",
              "      <td>1.00</td>\n",
              "      <td>1.00</td>\n",
              "      <td>1.0</td>\n",
              "      <td>1.0</td>\n",
              "      <td>1.0</td>\n",
              "      <td>1.0</td>\n",
              "      <td>1.0</td>\n",
              "      <td>1.0</td>\n",
              "      <td>1.0</td>\n",
              "      <td>1.0</td>\n",
              "      <td>1.0</td>\n",
              "      <td>True</td>\n",
              "    </tr>\n",
              "    <tr>\n",
              "      <th>2</th>\n",
              "      <td>72.0</td>\n",
              "      <td>7.0</td>\n",
              "      <td>1.0</td>\n",
              "      <td>6.0</td>\n",
              "      <td>198.0</td>\n",
              "      <td>1134.13</td>\n",
              "      <td>0.05</td>\n",
              "      <td>20.31</td>\n",
              "      <td>55.85</td>\n",
              "      <td>23029.10</td>\n",
              "      <td>0.38</td>\n",
              "      <td>1279.39</td>\n",
              "      <td>51.0</td>\n",
              "      <td>10.0</td>\n",
              "      <td>8.0</td>\n",
              "      <td>1.0</td>\n",
              "      <td>17.0</td>\n",
              "      <td>36.0</td>\n",
              "      <td>112.0</td>\n",
              "      <td>86.0</td>\n",
              "      <td>13.0</td>\n",
              "      <td>True</td>\n",
              "    </tr>\n",
              "    <tr>\n",
              "      <th>3</th>\n",
              "      <td>190.0</td>\n",
              "      <td>3.0</td>\n",
              "      <td>1.0</td>\n",
              "      <td>3.0</td>\n",
              "      <td>600.0</td>\n",
              "      <td>4348.76</td>\n",
              "      <td>0.06</td>\n",
              "      <td>17.06</td>\n",
              "      <td>254.87</td>\n",
              "      <td>74202.67</td>\n",
              "      <td>1.45</td>\n",
              "      <td>4122.37</td>\n",
              "      <td>129.0</td>\n",
              "      <td>29.0</td>\n",
              "      <td>28.0</td>\n",
              "      <td>2.0</td>\n",
              "      <td>17.0</td>\n",
              "      <td>135.0</td>\n",
              "      <td>329.0</td>\n",
              "      <td>271.0</td>\n",
              "      <td>5.0</td>\n",
              "      <td>True</td>\n",
              "    </tr>\n",
              "    <tr>\n",
              "      <th>4</th>\n",
              "      <td>37.0</td>\n",
              "      <td>4.0</td>\n",
              "      <td>1.0</td>\n",
              "      <td>4.0</td>\n",
              "      <td>126.0</td>\n",
              "      <td>599.12</td>\n",
              "      <td>0.06</td>\n",
              "      <td>17.19</td>\n",
              "      <td>34.86</td>\n",
              "      <td>10297.30</td>\n",
              "      <td>0.20</td>\n",
              "      <td>572.07</td>\n",
              "      <td>28.0</td>\n",
              "      <td>1.0</td>\n",
              "      <td>6.0</td>\n",
              "      <td>0.0</td>\n",
              "      <td>11.0</td>\n",
              "      <td>16.0</td>\n",
              "      <td>76.0</td>\n",
              "      <td>50.0</td>\n",
              "      <td>7.0</td>\n",
              "      <td>True</td>\n",
              "    </tr>\n",
              "  </tbody>\n",
              "</table>\n",
              "</div>"
            ],
            "text/plain": [
              "     loc  v(g)  ev(g)  iv(g)  ...  total_Op  total_Opnd  branchCount  defects\n",
              "0    1.1   1.4    1.4    1.4  ...       1.2         1.2          1.4    False\n",
              "1    1.0   1.0    1.0    1.0  ...       1.0         1.0          1.0     True\n",
              "2   72.0   7.0    1.0    6.0  ...     112.0        86.0         13.0     True\n",
              "3  190.0   3.0    1.0    3.0  ...     329.0       271.0          5.0     True\n",
              "4   37.0   4.0    1.0    4.0  ...      76.0        50.0          7.0     True\n",
              "\n",
              "[5 rows x 22 columns]"
            ]
          },
          "metadata": {
            "tags": []
          },
          "execution_count": 72
        }
      ]
    },
    {
      "cell_type": "markdown",
      "metadata": {
        "id": "lb62I0YWf9ji"
      },
      "source": [
        "> ##### With `sample()` we can get a random sample of rows"
      ]
    },
    {
      "cell_type": "code",
      "metadata": {
        "trusted": true,
        "_uuid": "04f69f755d6542f4700417bb39fe59df0495a14a",
        "id": "7_WwgP5jNkuN",
        "colab": {
          "base_uri": "https://localhost:8080/",
          "height": 379
        },
        "outputId": "06ecb4c1-a4f4-415d-e5e0-afb0632e0e83"
      },
      "source": [
        "data.sample(10) "
      ],
      "execution_count": 73,
      "outputs": [
        {
          "output_type": "execute_result",
          "data": {
            "text/html": [
              "<div>\n",
              "<style scoped>\n",
              "    .dataframe tbody tr th:only-of-type {\n",
              "        vertical-align: middle;\n",
              "    }\n",
              "\n",
              "    .dataframe tbody tr th {\n",
              "        vertical-align: top;\n",
              "    }\n",
              "\n",
              "    .dataframe thead th {\n",
              "        text-align: right;\n",
              "    }\n",
              "</style>\n",
              "<table border=\"1\" class=\"dataframe\">\n",
              "  <thead>\n",
              "    <tr style=\"text-align: right;\">\n",
              "      <th></th>\n",
              "      <th>loc</th>\n",
              "      <th>v(g)</th>\n",
              "      <th>ev(g)</th>\n",
              "      <th>iv(g)</th>\n",
              "      <th>n</th>\n",
              "      <th>v</th>\n",
              "      <th>l</th>\n",
              "      <th>d</th>\n",
              "      <th>i</th>\n",
              "      <th>e</th>\n",
              "      <th>b</th>\n",
              "      <th>t</th>\n",
              "      <th>lOCode</th>\n",
              "      <th>lOComment</th>\n",
              "      <th>lOBlank</th>\n",
              "      <th>locCodeAndComment</th>\n",
              "      <th>uniq_Op</th>\n",
              "      <th>uniq_Opnd</th>\n",
              "      <th>total_Op</th>\n",
              "      <th>total_Opnd</th>\n",
              "      <th>branchCount</th>\n",
              "      <th>defects</th>\n",
              "    </tr>\n",
              "  </thead>\n",
              "  <tbody>\n",
              "    <tr>\n",
              "      <th>8246</th>\n",
              "      <td>29.0</td>\n",
              "      <td>5.0</td>\n",
              "      <td>1.0</td>\n",
              "      <td>4.0</td>\n",
              "      <td>59.0</td>\n",
              "      <td>283.63</td>\n",
              "      <td>0.13</td>\n",
              "      <td>7.50</td>\n",
              "      <td>37.82</td>\n",
              "      <td>2127.25</td>\n",
              "      <td>0.09</td>\n",
              "      <td>118.18</td>\n",
              "      <td>22.0</td>\n",
              "      <td>0.0</td>\n",
              "      <td>5.0</td>\n",
              "      <td>0.0</td>\n",
              "      <td>10.0</td>\n",
              "      <td>18.0</td>\n",
              "      <td>32.0</td>\n",
              "      <td>27.0</td>\n",
              "      <td>9.0</td>\n",
              "      <td>False</td>\n",
              "    </tr>\n",
              "    <tr>\n",
              "      <th>9778</th>\n",
              "      <td>6.0</td>\n",
              "      <td>1.0</td>\n",
              "      <td>1.0</td>\n",
              "      <td>1.0</td>\n",
              "      <td>28.0</td>\n",
              "      <td>116.76</td>\n",
              "      <td>0.31</td>\n",
              "      <td>3.25</td>\n",
              "      <td>35.93</td>\n",
              "      <td>379.46</td>\n",
              "      <td>0.04</td>\n",
              "      <td>21.08</td>\n",
              "      <td>4.0</td>\n",
              "      <td>0.0</td>\n",
              "      <td>0.0</td>\n",
              "      <td>0.0</td>\n",
              "      <td>6.0</td>\n",
              "      <td>12.0</td>\n",
              "      <td>15.0</td>\n",
              "      <td>13.0</td>\n",
              "      <td>1.0</td>\n",
              "      <td>False</td>\n",
              "    </tr>\n",
              "    <tr>\n",
              "      <th>5747</th>\n",
              "      <td>35.0</td>\n",
              "      <td>6.0</td>\n",
              "      <td>1.0</td>\n",
              "      <td>3.0</td>\n",
              "      <td>84.0</td>\n",
              "      <td>423.73</td>\n",
              "      <td>0.06</td>\n",
              "      <td>15.83</td>\n",
              "      <td>26.76</td>\n",
              "      <td>6709.04</td>\n",
              "      <td>0.14</td>\n",
              "      <td>372.72</td>\n",
              "      <td>22.0</td>\n",
              "      <td>5.0</td>\n",
              "      <td>6.0</td>\n",
              "      <td>0.0</td>\n",
              "      <td>15.0</td>\n",
              "      <td>18.0</td>\n",
              "      <td>46.0</td>\n",
              "      <td>38.0</td>\n",
              "      <td>11.0</td>\n",
              "      <td>False</td>\n",
              "    </tr>\n",
              "    <tr>\n",
              "      <th>8924</th>\n",
              "      <td>23.0</td>\n",
              "      <td>2.0</td>\n",
              "      <td>1.0</td>\n",
              "      <td>2.0</td>\n",
              "      <td>58.0</td>\n",
              "      <td>272.63</td>\n",
              "      <td>0.11</td>\n",
              "      <td>8.80</td>\n",
              "      <td>30.98</td>\n",
              "      <td>2399.10</td>\n",
              "      <td>0.09</td>\n",
              "      <td>133.28</td>\n",
              "      <td>17.0</td>\n",
              "      <td>0.0</td>\n",
              "      <td>2.0</td>\n",
              "      <td>1.0</td>\n",
              "      <td>11.0</td>\n",
              "      <td>15.0</td>\n",
              "      <td>34.0</td>\n",
              "      <td>24.0</td>\n",
              "      <td>3.0</td>\n",
              "      <td>False</td>\n",
              "    </tr>\n",
              "    <tr>\n",
              "      <th>8861</th>\n",
              "      <td>15.0</td>\n",
              "      <td>13.0</td>\n",
              "      <td>13.0</td>\n",
              "      <td>1.0</td>\n",
              "      <td>0.0</td>\n",
              "      <td>0.00</td>\n",
              "      <td>0.00</td>\n",
              "      <td>0.00</td>\n",
              "      <td>0.00</td>\n",
              "      <td>0.00</td>\n",
              "      <td>0.00</td>\n",
              "      <td>0.00</td>\n",
              "      <td>0.0</td>\n",
              "      <td>0.0</td>\n",
              "      <td>0.0</td>\n",
              "      <td>0.0</td>\n",
              "      <td>0.0</td>\n",
              "      <td>0.0</td>\n",
              "      <td>0.0</td>\n",
              "      <td>0.0</td>\n",
              "      <td>25.0</td>\n",
              "      <td>False</td>\n",
              "    </tr>\n",
              "    <tr>\n",
              "      <th>1514</th>\n",
              "      <td>37.0</td>\n",
              "      <td>3.0</td>\n",
              "      <td>1.0</td>\n",
              "      <td>3.0</td>\n",
              "      <td>55.0</td>\n",
              "      <td>267.19</td>\n",
              "      <td>0.11</td>\n",
              "      <td>8.87</td>\n",
              "      <td>30.13</td>\n",
              "      <td>2369.08</td>\n",
              "      <td>0.09</td>\n",
              "      <td>131.62</td>\n",
              "      <td>22.0</td>\n",
              "      <td>7.0</td>\n",
              "      <td>4.0</td>\n",
              "      <td>1.0</td>\n",
              "      <td>14.0</td>\n",
              "      <td>15.0</td>\n",
              "      <td>36.0</td>\n",
              "      <td>19.0</td>\n",
              "      <td>4.0</td>\n",
              "      <td>True</td>\n",
              "    </tr>\n",
              "    <tr>\n",
              "      <th>3870</th>\n",
              "      <td>13.0</td>\n",
              "      <td>2.0</td>\n",
              "      <td>1.0</td>\n",
              "      <td>1.0</td>\n",
              "      <td>50.0</td>\n",
              "      <td>232.19</td>\n",
              "      <td>0.05</td>\n",
              "      <td>19.13</td>\n",
              "      <td>12.14</td>\n",
              "      <td>4440.69</td>\n",
              "      <td>0.08</td>\n",
              "      <td>246.70</td>\n",
              "      <td>8.0</td>\n",
              "      <td>0.0</td>\n",
              "      <td>3.0</td>\n",
              "      <td>0.0</td>\n",
              "      <td>17.0</td>\n",
              "      <td>8.0</td>\n",
              "      <td>32.0</td>\n",
              "      <td>18.0</td>\n",
              "      <td>3.0</td>\n",
              "      <td>False</td>\n",
              "    </tr>\n",
              "    <tr>\n",
              "      <th>1388</th>\n",
              "      <td>22.0</td>\n",
              "      <td>10.0</td>\n",
              "      <td>7.0</td>\n",
              "      <td>2.0</td>\n",
              "      <td>121.0</td>\n",
              "      <td>605.00</td>\n",
              "      <td>0.04</td>\n",
              "      <td>28.29</td>\n",
              "      <td>21.39</td>\n",
              "      <td>17112.86</td>\n",
              "      <td>0.20</td>\n",
              "      <td>950.71</td>\n",
              "      <td>19.0</td>\n",
              "      <td>0.0</td>\n",
              "      <td>1.0</td>\n",
              "      <td>0.0</td>\n",
              "      <td>19.0</td>\n",
              "      <td>14.0</td>\n",
              "      <td>84.0</td>\n",
              "      <td>44.0</td>\n",
              "      <td>19.0</td>\n",
              "      <td>True</td>\n",
              "    </tr>\n",
              "    <tr>\n",
              "      <th>9376</th>\n",
              "      <td>9.0</td>\n",
              "      <td>2.0</td>\n",
              "      <td>1.0</td>\n",
              "      <td>2.0</td>\n",
              "      <td>17.0</td>\n",
              "      <td>62.91</td>\n",
              "      <td>0.21</td>\n",
              "      <td>4.67</td>\n",
              "      <td>13.48</td>\n",
              "      <td>293.57</td>\n",
              "      <td>0.02</td>\n",
              "      <td>16.30</td>\n",
              "      <td>7.0</td>\n",
              "      <td>0.0</td>\n",
              "      <td>0.0</td>\n",
              "      <td>0.0</td>\n",
              "      <td>7.0</td>\n",
              "      <td>6.0</td>\n",
              "      <td>9.0</td>\n",
              "      <td>8.0</td>\n",
              "      <td>3.0</td>\n",
              "      <td>False</td>\n",
              "    </tr>\n",
              "    <tr>\n",
              "      <th>3323</th>\n",
              "      <td>60.0</td>\n",
              "      <td>8.0</td>\n",
              "      <td>5.0</td>\n",
              "      <td>4.0</td>\n",
              "      <td>0.0</td>\n",
              "      <td>0.00</td>\n",
              "      <td>0.00</td>\n",
              "      <td>0.00</td>\n",
              "      <td>0.00</td>\n",
              "      <td>0.00</td>\n",
              "      <td>0.00</td>\n",
              "      <td>0.00</td>\n",
              "      <td>0.0</td>\n",
              "      <td>0.0</td>\n",
              "      <td>0.0</td>\n",
              "      <td>0.0</td>\n",
              "      <td>0.0</td>\n",
              "      <td>0.0</td>\n",
              "      <td>0.0</td>\n",
              "      <td>0.0</td>\n",
              "      <td>15.0</td>\n",
              "      <td>False</td>\n",
              "    </tr>\n",
              "  </tbody>\n",
              "</table>\n",
              "</div>"
            ],
            "text/plain": [
              "       loc  v(g)  ev(g)  iv(g)  ...  total_Op  total_Opnd  branchCount  defects\n",
              "8246  29.0   5.0    1.0    4.0  ...      32.0        27.0          9.0    False\n",
              "9778   6.0   1.0    1.0    1.0  ...      15.0        13.0          1.0    False\n",
              "5747  35.0   6.0    1.0    3.0  ...      46.0        38.0         11.0    False\n",
              "8924  23.0   2.0    1.0    2.0  ...      34.0        24.0          3.0    False\n",
              "8861  15.0  13.0   13.0    1.0  ...       0.0         0.0         25.0    False\n",
              "1514  37.0   3.0    1.0    3.0  ...      36.0        19.0          4.0     True\n",
              "3870  13.0   2.0    1.0    1.0  ...      32.0        18.0          3.0    False\n",
              "1388  22.0  10.0    7.0    2.0  ...      84.0        44.0         19.0     True\n",
              "9376   9.0   2.0    1.0    2.0  ...       9.0         8.0          3.0    False\n",
              "3323  60.0   8.0    5.0    4.0  ...       0.0         0.0         15.0    False\n",
              "\n",
              "[10 rows x 22 columns]"
            ]
          },
          "metadata": {
            "tags": []
          },
          "execution_count": 73
        }
      ]
    },
    {
      "cell_type": "markdown",
      "metadata": {
        "id": "XLUj_nHagLBT"
      },
      "source": [
        "> ##### Show the number of rows and columns:"
      ]
    },
    {
      "cell_type": "code",
      "metadata": {
        "trusted": true,
        "_uuid": "811e7f95eab78e50123215e2cb161442d5a39f52",
        "id": "N4xFhRN9NkuS",
        "colab": {
          "base_uri": "https://localhost:8080/"
        },
        "outputId": "4fec6229-c0af-4437-b741-18a77ef89b6c"
      },
      "source": [
        "data.shape"
      ],
      "execution_count": 74,
      "outputs": [
        {
          "output_type": "execute_result",
          "data": {
            "text/plain": [
              "(10885, 22)"
            ]
          },
          "metadata": {
            "tags": []
          },
          "execution_count": 74
        }
      ]
    },
    {
      "cell_type": "markdown",
      "metadata": {
        "id": "r_epw_oPBQr-"
      },
      "source": [
        "> ##### Show some simple statistics:"
      ]
    },
    {
      "cell_type": "code",
      "metadata": {
        "_kg_hide-input": false,
        "_kg_hide-output": false,
        "trusted": true,
        "_uuid": "a39f21ea69443c4cbda52af752a3d211cacb65ef",
        "id": "mXsT0CmwNkuX",
        "colab": {
          "base_uri": "https://localhost:8080/",
          "height": 317
        },
        "outputId": "3b005793-0689-4677-af99-286b03a7185a"
      },
      "source": [
        "data.describe()"
      ],
      "execution_count": 75,
      "outputs": [
        {
          "output_type": "execute_result",
          "data": {
            "text/html": [
              "<div>\n",
              "<style scoped>\n",
              "    .dataframe tbody tr th:only-of-type {\n",
              "        vertical-align: middle;\n",
              "    }\n",
              "\n",
              "    .dataframe tbody tr th {\n",
              "        vertical-align: top;\n",
              "    }\n",
              "\n",
              "    .dataframe thead th {\n",
              "        text-align: right;\n",
              "    }\n",
              "</style>\n",
              "<table border=\"1\" class=\"dataframe\">\n",
              "  <thead>\n",
              "    <tr style=\"text-align: right;\">\n",
              "      <th></th>\n",
              "      <th>loc</th>\n",
              "      <th>v(g)</th>\n",
              "      <th>ev(g)</th>\n",
              "      <th>iv(g)</th>\n",
              "      <th>n</th>\n",
              "      <th>v</th>\n",
              "      <th>l</th>\n",
              "      <th>d</th>\n",
              "      <th>i</th>\n",
              "      <th>e</th>\n",
              "      <th>b</th>\n",
              "      <th>t</th>\n",
              "      <th>lOCode</th>\n",
              "      <th>lOComment</th>\n",
              "      <th>lOBlank</th>\n",
              "      <th>locCodeAndComment</th>\n",
              "      <th>uniq_Op</th>\n",
              "      <th>uniq_Opnd</th>\n",
              "      <th>total_Op</th>\n",
              "      <th>total_Opnd</th>\n",
              "      <th>branchCount</th>\n",
              "    </tr>\n",
              "  </thead>\n",
              "  <tbody>\n",
              "    <tr>\n",
              "      <th>count</th>\n",
              "      <td>10885.000000</td>\n",
              "      <td>10885.000000</td>\n",
              "      <td>10885.000000</td>\n",
              "      <td>10885.000000</td>\n",
              "      <td>10885.000000</td>\n",
              "      <td>10885.000000</td>\n",
              "      <td>10885.000000</td>\n",
              "      <td>10885.000000</td>\n",
              "      <td>10885.000000</td>\n",
              "      <td>1.088500e+04</td>\n",
              "      <td>10885.000000</td>\n",
              "      <td>1.088500e+04</td>\n",
              "      <td>10885.000000</td>\n",
              "      <td>10885.000000</td>\n",
              "      <td>10885.00000</td>\n",
              "      <td>10885.000000</td>\n",
              "      <td>10880.000000</td>\n",
              "      <td>10880.000000</td>\n",
              "      <td>10880.000000</td>\n",
              "      <td>10880.000000</td>\n",
              "      <td>10880.000000</td>\n",
              "    </tr>\n",
              "    <tr>\n",
              "      <th>mean</th>\n",
              "      <td>42.016178</td>\n",
              "      <td>6.348590</td>\n",
              "      <td>3.401047</td>\n",
              "      <td>4.001599</td>\n",
              "      <td>114.389738</td>\n",
              "      <td>673.758017</td>\n",
              "      <td>0.135335</td>\n",
              "      <td>14.177237</td>\n",
              "      <td>29.439544</td>\n",
              "      <td>3.683637e+04</td>\n",
              "      <td>0.224766</td>\n",
              "      <td>2.046465e+03</td>\n",
              "      <td>26.252274</td>\n",
              "      <td>2.737529</td>\n",
              "      <td>4.62554</td>\n",
              "      <td>0.370785</td>\n",
              "      <td>11.177592</td>\n",
              "      <td>16.751857</td>\n",
              "      <td>68.110588</td>\n",
              "      <td>46.388989</td>\n",
              "      <td>11.292316</td>\n",
              "    </tr>\n",
              "    <tr>\n",
              "      <th>std</th>\n",
              "      <td>76.593332</td>\n",
              "      <td>13.019695</td>\n",
              "      <td>6.771869</td>\n",
              "      <td>9.116889</td>\n",
              "      <td>249.502091</td>\n",
              "      <td>1938.856196</td>\n",
              "      <td>0.160538</td>\n",
              "      <td>18.709900</td>\n",
              "      <td>34.418313</td>\n",
              "      <td>4.343678e+05</td>\n",
              "      <td>0.646408</td>\n",
              "      <td>2.413154e+04</td>\n",
              "      <td>59.611201</td>\n",
              "      <td>9.008608</td>\n",
              "      <td>9.96813</td>\n",
              "      <td>1.907969</td>\n",
              "      <td>10.045255</td>\n",
              "      <td>26.667883</td>\n",
              "      <td>151.513836</td>\n",
              "      <td>100.351845</td>\n",
              "      <td>22.597617</td>\n",
              "    </tr>\n",
              "    <tr>\n",
              "      <th>min</th>\n",
              "      <td>1.000000</td>\n",
              "      <td>1.000000</td>\n",
              "      <td>1.000000</td>\n",
              "      <td>1.000000</td>\n",
              "      <td>0.000000</td>\n",
              "      <td>0.000000</td>\n",
              "      <td>0.000000</td>\n",
              "      <td>0.000000</td>\n",
              "      <td>0.000000</td>\n",
              "      <td>0.000000e+00</td>\n",
              "      <td>0.000000</td>\n",
              "      <td>0.000000e+00</td>\n",
              "      <td>0.000000</td>\n",
              "      <td>0.000000</td>\n",
              "      <td>0.00000</td>\n",
              "      <td>0.000000</td>\n",
              "      <td>0.000000</td>\n",
              "      <td>0.000000</td>\n",
              "      <td>0.000000</td>\n",
              "      <td>0.000000</td>\n",
              "      <td>1.000000</td>\n",
              "    </tr>\n",
              "    <tr>\n",
              "      <th>25%</th>\n",
              "      <td>11.000000</td>\n",
              "      <td>2.000000</td>\n",
              "      <td>1.000000</td>\n",
              "      <td>1.000000</td>\n",
              "      <td>14.000000</td>\n",
              "      <td>48.430000</td>\n",
              "      <td>0.030000</td>\n",
              "      <td>3.000000</td>\n",
              "      <td>11.860000</td>\n",
              "      <td>1.619400e+02</td>\n",
              "      <td>0.020000</td>\n",
              "      <td>9.000000e+00</td>\n",
              "      <td>4.000000</td>\n",
              "      <td>0.000000</td>\n",
              "      <td>0.00000</td>\n",
              "      <td>0.000000</td>\n",
              "      <td>5.000000</td>\n",
              "      <td>4.000000</td>\n",
              "      <td>8.000000</td>\n",
              "      <td>6.000000</td>\n",
              "      <td>3.000000</td>\n",
              "    </tr>\n",
              "    <tr>\n",
              "      <th>50%</th>\n",
              "      <td>23.000000</td>\n",
              "      <td>3.000000</td>\n",
              "      <td>1.000000</td>\n",
              "      <td>2.000000</td>\n",
              "      <td>49.000000</td>\n",
              "      <td>217.130000</td>\n",
              "      <td>0.080000</td>\n",
              "      <td>9.090000</td>\n",
              "      <td>21.930000</td>\n",
              "      <td>2.031020e+03</td>\n",
              "      <td>0.070000</td>\n",
              "      <td>1.128300e+02</td>\n",
              "      <td>13.000000</td>\n",
              "      <td>0.000000</td>\n",
              "      <td>2.00000</td>\n",
              "      <td>0.000000</td>\n",
              "      <td>11.000000</td>\n",
              "      <td>11.000000</td>\n",
              "      <td>29.000000</td>\n",
              "      <td>19.000000</td>\n",
              "      <td>5.000000</td>\n",
              "    </tr>\n",
              "    <tr>\n",
              "      <th>75%</th>\n",
              "      <td>46.000000</td>\n",
              "      <td>7.000000</td>\n",
              "      <td>3.000000</td>\n",
              "      <td>4.000000</td>\n",
              "      <td>119.000000</td>\n",
              "      <td>621.480000</td>\n",
              "      <td>0.160000</td>\n",
              "      <td>18.900000</td>\n",
              "      <td>36.780000</td>\n",
              "      <td>1.141643e+04</td>\n",
              "      <td>0.210000</td>\n",
              "      <td>6.342500e+02</td>\n",
              "      <td>28.000000</td>\n",
              "      <td>2.000000</td>\n",
              "      <td>5.00000</td>\n",
              "      <td>0.000000</td>\n",
              "      <td>16.000000</td>\n",
              "      <td>21.000000</td>\n",
              "      <td>71.000000</td>\n",
              "      <td>48.000000</td>\n",
              "      <td>13.000000</td>\n",
              "    </tr>\n",
              "    <tr>\n",
              "      <th>max</th>\n",
              "      <td>3442.000000</td>\n",
              "      <td>470.000000</td>\n",
              "      <td>165.000000</td>\n",
              "      <td>402.000000</td>\n",
              "      <td>8441.000000</td>\n",
              "      <td>80843.080000</td>\n",
              "      <td>1.300000</td>\n",
              "      <td>418.200000</td>\n",
              "      <td>569.780000</td>\n",
              "      <td>3.107978e+07</td>\n",
              "      <td>26.950000</td>\n",
              "      <td>1.726655e+06</td>\n",
              "      <td>2824.000000</td>\n",
              "      <td>344.000000</td>\n",
              "      <td>447.00000</td>\n",
              "      <td>108.000000</td>\n",
              "      <td>411.000000</td>\n",
              "      <td>1026.000000</td>\n",
              "      <td>5420.000000</td>\n",
              "      <td>3021.000000</td>\n",
              "      <td>826.000000</td>\n",
              "    </tr>\n",
              "  </tbody>\n",
              "</table>\n",
              "</div>"
            ],
            "text/plain": [
              "                loc          v(g)  ...    total_Opnd   branchCount\n",
              "count  10885.000000  10885.000000  ...  10880.000000  10880.000000\n",
              "mean      42.016178      6.348590  ...     46.388989     11.292316\n",
              "std       76.593332     13.019695  ...    100.351845     22.597617\n",
              "min        1.000000      1.000000  ...      0.000000      1.000000\n",
              "25%       11.000000      2.000000  ...      6.000000      3.000000\n",
              "50%       23.000000      3.000000  ...     19.000000      5.000000\n",
              "75%       46.000000      7.000000  ...     48.000000     13.000000\n",
              "max     3442.000000    470.000000  ...   3021.000000    826.000000\n",
              "\n",
              "[8 rows x 21 columns]"
            ]
          },
          "metadata": {
            "tags": []
          },
          "execution_count": 75
        }
      ]
    },
    {
      "cell_type": "markdown",
      "metadata": {
        "id": "-of4hVDMBds6"
      },
      "source": [
        "> ##### Class Distribution"
      ]
    },
    {
      "cell_type": "code",
      "metadata": {
        "trusted": true,
        "_uuid": "6406ad817879d876b5e5202344dcc408b5d44427",
        "id": "ck4fCv_4Nkua",
        "colab": {
          "base_uri": "https://localhost:8080/"
        },
        "outputId": "c8de12f4-2a64-43b8-b8c4-e40ccd364e3c"
      },
      "source": [
        " def perc(values):\n",
        "    pct = float(values/data['defects'].count()) * 100\n",
        "    return round(pct, 2)\n",
        "\n",
        "d_false, d_true = data.groupby('defects').size() #defect rates (true/false)\n",
        "print('False : ', d_false, '%', perc(d_false))\n",
        "print('True : ', d_true, '%', perc(d_true))"
      ],
      "execution_count": 76,
      "outputs": [
        {
          "output_type": "stream",
          "text": [
            "False :  8779 % 80.65\n",
            "True :  2106 % 19.35\n"
          ],
          "name": "stdout"
        }
      ]
    },
    {
      "cell_type": "markdown",
      "metadata": {
        "_uuid": "4860fa475c88d434ef911d01fa4078a477d0437a",
        "id": "sXS2_WKBNkuf"
      },
      "source": [
        "> ##### Bar plot"
      ]
    },
    {
      "cell_type": "code",
      "metadata": {
        "id": "HDViQ6Ctljeq",
        "colab": {
          "base_uri": "https://localhost:8080/",
          "height": 514
        },
        "outputId": "f7274fec-ad26-4c7d-b815-090641cc694c"
      },
      "source": [
        "p_bar = data['defects'].value_counts().plot(kind='bar', title='Defects', figsize=(10,8));\n",
        "p_bar.set_ylabel('Count');"
      ],
      "execution_count": 77,
      "outputs": [
        {
          "output_type": "display_data",
          "data": {
            "image/png": "[encoded data removed]",
            "text/plain": [
              "<Figure size 720x576 with 1 Axes>"
            ]
          },
          "metadata": {
            "tags": [],
            "needs_background": "light"
          }
        }
      ]
    },
    {
      "cell_type": "markdown",
      "metadata": {
        "_uuid": "c3c3f96643baad9995f04670038dd0321e871579",
        "id": "ejMHiJwuNkuj"
      },
      "source": [
        "> ##### Data Correlation"
      ]
    },
    {
      "cell_type": "code",
      "metadata": {
        "trusted": true,
        "scrolled": false,
        "_uuid": "e2beda929008066a1cf4a1a5083746587b4fe95c",
        "id": "TCLcoQzCNkuk",
        "colab": {
          "base_uri": "https://localhost:8080/",
          "height": 751
        },
        "outputId": "dd40a326-f963-4983-ea88-9085b27d9597"
      },
      "source": [
        "data.corr()"
      ],
      "execution_count": 78,
      "outputs": [
        {
          "output_type": "execute_result",
          "data": {
            "text/html": [
              "<div>\n",
              "<style scoped>\n",
              "    .dataframe tbody tr th:only-of-type {\n",
              "        vertical-align: middle;\n",
              "    }\n",
              "\n",
              "    .dataframe tbody tr th {\n",
              "        vertical-align: top;\n",
              "    }\n",
              "\n",
              "    .dataframe thead th {\n",
              "        text-align: right;\n",
              "    }\n",
              "</style>\n",
              "<table border=\"1\" class=\"dataframe\">\n",
              "  <thead>\n",
              "    <tr style=\"text-align: right;\">\n",
              "      <th></th>\n",
              "      <th>loc</th>\n",
              "      <th>v(g)</th>\n",
              "      <th>ev(g)</th>\n",
              "      <th>iv(g)</th>\n",
              "      <th>n</th>\n",
              "      <th>v</th>\n",
              "      <th>l</th>\n",
              "      <th>d</th>\n",
              "      <th>i</th>\n",
              "      <th>e</th>\n",
              "      <th>b</th>\n",
              "      <th>t</th>\n",
              "      <th>lOCode</th>\n",
              "      <th>lOComment</th>\n",
              "      <th>lOBlank</th>\n",
              "      <th>locCodeAndComment</th>\n",
              "      <th>uniq_Op</th>\n",
              "      <th>uniq_Opnd</th>\n",
              "      <th>total_Op</th>\n",
              "      <th>total_Opnd</th>\n",
              "      <th>branchCount</th>\n",
              "      <th>defects</th>\n",
              "    </tr>\n",
              "  </thead>\n",
              "  <tbody>\n",
              "    <tr>\n",
              "      <th>loc</th>\n",
              "      <td>1.000000</td>\n",
              "      <td>0.817757</td>\n",
              "      <td>0.517551</td>\n",
              "      <td>0.784057</td>\n",
              "      <td>0.881795</td>\n",
              "      <td>0.900293</td>\n",
              "      <td>-0.286587</td>\n",
              "      <td>0.689543</td>\n",
              "      <td>0.499946</td>\n",
              "      <td>0.750564</td>\n",
              "      <td>0.899965</td>\n",
              "      <td>0.750564</td>\n",
              "      <td>0.921918</td>\n",
              "      <td>0.612858</td>\n",
              "      <td>0.803573</td>\n",
              "      <td>0.278119</td>\n",
              "      <td>0.536681</td>\n",
              "      <td>0.764622</td>\n",
              "      <td>0.880967</td>\n",
              "      <td>0.868275</td>\n",
              "      <td>0.830194</td>\n",
              "      <td>0.245388</td>\n",
              "    </tr>\n",
              "    <tr>\n",
              "      <th>v(g)</th>\n",
              "      <td>0.817757</td>\n",
              "      <td>1.000000</td>\n",
              "      <td>0.701710</td>\n",
              "      <td>0.859590</td>\n",
              "      <td>0.730781</td>\n",
              "      <td>0.759881</td>\n",
              "      <td>-0.252902</td>\n",
              "      <td>0.669057</td>\n",
              "      <td>0.303031</td>\n",
              "      <td>0.709501</td>\n",
              "      <td>0.759635</td>\n",
              "      <td>0.709501</td>\n",
              "      <td>0.799915</td>\n",
              "      <td>0.384506</td>\n",
              "      <td>0.538366</td>\n",
              "      <td>0.209811</td>\n",
              "      <td>0.647430</td>\n",
              "      <td>0.700514</td>\n",
              "      <td>0.744164</td>\n",
              "      <td>0.696078</td>\n",
              "      <td>0.971958</td>\n",
              "      <td>0.208644</td>\n",
              "    </tr>\n",
              "    <tr>\n",
              "      <th>ev(g)</th>\n",
              "      <td>0.517551</td>\n",
              "      <td>0.701710</td>\n",
              "      <td>1.000000</td>\n",
              "      <td>0.639574</td>\n",
              "      <td>0.465992</td>\n",
              "      <td>0.445902</td>\n",
              "      <td>-0.233982</td>\n",
              "      <td>0.434009</td>\n",
              "      <td>0.213211</td>\n",
              "      <td>0.315538</td>\n",
              "      <td>0.445693</td>\n",
              "      <td>0.315538</td>\n",
              "      <td>0.454604</td>\n",
              "      <td>0.294208</td>\n",
              "      <td>0.338243</td>\n",
              "      <td>0.190911</td>\n",
              "      <td>0.263000</td>\n",
              "      <td>0.337031</td>\n",
              "      <td>0.479935</td>\n",
              "      <td>0.435518</td>\n",
              "      <td>0.785553</td>\n",
              "      <td>0.172973</td>\n",
              "    </tr>\n",
              "    <tr>\n",
              "      <th>iv(g)</th>\n",
              "      <td>0.784057</td>\n",
              "      <td>0.859590</td>\n",
              "      <td>0.639574</td>\n",
              "      <td>1.000000</td>\n",
              "      <td>0.702415</td>\n",
              "      <td>0.743193</td>\n",
              "      <td>-0.197736</td>\n",
              "      <td>0.575369</td>\n",
              "      <td>0.309717</td>\n",
              "      <td>0.757702</td>\n",
              "      <td>0.743013</td>\n",
              "      <td>0.757702</td>\n",
              "      <td>0.775873</td>\n",
              "      <td>0.351583</td>\n",
              "      <td>0.541296</td>\n",
              "      <td>0.207028</td>\n",
              "      <td>0.500750</td>\n",
              "      <td>0.617966</td>\n",
              "      <td>0.715244</td>\n",
              "      <td>0.668940</td>\n",
              "      <td>0.858994</td>\n",
              "      <td>0.181984</td>\n",
              "    </tr>\n",
              "    <tr>\n",
              "      <th>n</th>\n",
              "      <td>0.881795</td>\n",
              "      <td>0.730781</td>\n",
              "      <td>0.465992</td>\n",
              "      <td>0.702415</td>\n",
              "      <td>1.000000</td>\n",
              "      <td>0.984276</td>\n",
              "      <td>-0.240749</td>\n",
              "      <td>0.808113</td>\n",
              "      <td>0.651209</td>\n",
              "      <td>0.716536</td>\n",
              "      <td>0.983938</td>\n",
              "      <td>0.716536</td>\n",
              "      <td>0.944383</td>\n",
              "      <td>0.596374</td>\n",
              "      <td>0.798561</td>\n",
              "      <td>0.284391</td>\n",
              "      <td>0.610412</td>\n",
              "      <td>0.836171</td>\n",
              "      <td>0.995689</td>\n",
              "      <td>0.989484</td>\n",
              "      <td>0.747894</td>\n",
              "      <td>0.204143</td>\n",
              "    </tr>\n",
              "    <tr>\n",
              "      <th>v</th>\n",
              "      <td>0.900293</td>\n",
              "      <td>0.759881</td>\n",
              "      <td>0.445902</td>\n",
              "      <td>0.743193</td>\n",
              "      <td>0.984276</td>\n",
              "      <td>1.000000</td>\n",
              "      <td>-0.198104</td>\n",
              "      <td>0.752206</td>\n",
              "      <td>0.598743</td>\n",
              "      <td>0.800000</td>\n",
              "      <td>0.999696</td>\n",
              "      <td>0.800000</td>\n",
              "      <td>0.962078</td>\n",
              "      <td>0.576844</td>\n",
              "      <td>0.792330</td>\n",
              "      <td>0.266537</td>\n",
              "      <td>0.606993</td>\n",
              "      <td>0.852296</td>\n",
              "      <td>0.981565</td>\n",
              "      <td>0.971960</td>\n",
              "      <td>0.759971</td>\n",
              "      <td>0.189136</td>\n",
              "    </tr>\n",
              "    <tr>\n",
              "      <th>l</th>\n",
              "      <td>-0.286587</td>\n",
              "      <td>-0.252902</td>\n",
              "      <td>-0.233982</td>\n",
              "      <td>-0.197736</td>\n",
              "      <td>-0.240749</td>\n",
              "      <td>-0.198104</td>\n",
              "      <td>1.000000</td>\n",
              "      <td>-0.347215</td>\n",
              "      <td>-0.166801</td>\n",
              "      <td>-0.062026</td>\n",
              "      <td>-0.196147</td>\n",
              "      <td>-0.062026</td>\n",
              "      <td>-0.218373</td>\n",
              "      <td>-0.165885</td>\n",
              "      <td>-0.223670</td>\n",
              "      <td>-0.106117</td>\n",
              "      <td>-0.305331</td>\n",
              "      <td>-0.234892</td>\n",
              "      <td>-0.237325</td>\n",
              "      <td>-0.241023</td>\n",
              "      <td>-0.279126</td>\n",
              "      <td>-0.164917</td>\n",
              "    </tr>\n",
              "    <tr>\n",
              "      <th>d</th>\n",
              "      <td>0.689543</td>\n",
              "      <td>0.669057</td>\n",
              "      <td>0.434009</td>\n",
              "      <td>0.575369</td>\n",
              "      <td>0.808113</td>\n",
              "      <td>0.752206</td>\n",
              "      <td>-0.347215</td>\n",
              "      <td>1.000000</td>\n",
              "      <td>0.398162</td>\n",
              "      <td>0.574298</td>\n",
              "      <td>0.751835</td>\n",
              "      <td>0.574298</td>\n",
              "      <td>0.768188</td>\n",
              "      <td>0.502121</td>\n",
              "      <td>0.637211</td>\n",
              "      <td>0.253793</td>\n",
              "      <td>0.749305</td>\n",
              "      <td>0.639686</td>\n",
              "      <td>0.817546</td>\n",
              "      <td>0.777732</td>\n",
              "      <td>0.671976</td>\n",
              "      <td>0.169629</td>\n",
              "    </tr>\n",
              "    <tr>\n",
              "      <th>i</th>\n",
              "      <td>0.499946</td>\n",
              "      <td>0.303031</td>\n",
              "      <td>0.213211</td>\n",
              "      <td>0.309717</td>\n",
              "      <td>0.651209</td>\n",
              "      <td>0.598743</td>\n",
              "      <td>-0.166801</td>\n",
              "      <td>0.398162</td>\n",
              "      <td>1.000000</td>\n",
              "      <td>0.209268</td>\n",
              "      <td>0.598341</td>\n",
              "      <td>0.209268</td>\n",
              "      <td>0.563920</td>\n",
              "      <td>0.392551</td>\n",
              "      <td>0.572352</td>\n",
              "      <td>0.217810</td>\n",
              "      <td>0.391646</td>\n",
              "      <td>0.726696</td>\n",
              "      <td>0.620676</td>\n",
              "      <td>0.687891</td>\n",
              "      <td>0.325796</td>\n",
              "      <td>0.192831</td>\n",
              "    </tr>\n",
              "    <tr>\n",
              "      <th>e</th>\n",
              "      <td>0.750564</td>\n",
              "      <td>0.709501</td>\n",
              "      <td>0.315538</td>\n",
              "      <td>0.757702</td>\n",
              "      <td>0.716536</td>\n",
              "      <td>0.800000</td>\n",
              "      <td>-0.062026</td>\n",
              "      <td>0.574298</td>\n",
              "      <td>0.209268</td>\n",
              "      <td>1.000000</td>\n",
              "      <td>0.799868</td>\n",
              "      <td>1.000000</td>\n",
              "      <td>0.809070</td>\n",
              "      <td>0.384806</td>\n",
              "      <td>0.600649</td>\n",
              "      <td>0.148693</td>\n",
              "      <td>0.482061</td>\n",
              "      <td>0.586805</td>\n",
              "      <td>0.735802</td>\n",
              "      <td>0.673490</td>\n",
              "      <td>0.667886</td>\n",
              "      <td>0.086036</td>\n",
              "    </tr>\n",
              "    <tr>\n",
              "      <th>b</th>\n",
              "      <td>0.899965</td>\n",
              "      <td>0.759635</td>\n",
              "      <td>0.445693</td>\n",
              "      <td>0.743013</td>\n",
              "      <td>0.983938</td>\n",
              "      <td>0.999696</td>\n",
              "      <td>-0.196147</td>\n",
              "      <td>0.751835</td>\n",
              "      <td>0.598341</td>\n",
              "      <td>0.799868</td>\n",
              "      <td>1.000000</td>\n",
              "      <td>0.799868</td>\n",
              "      <td>0.961779</td>\n",
              "      <td>0.576678</td>\n",
              "      <td>0.792081</td>\n",
              "      <td>0.266720</td>\n",
              "      <td>0.606548</td>\n",
              "      <td>0.851923</td>\n",
              "      <td>0.981237</td>\n",
              "      <td>0.971621</td>\n",
              "      <td>0.759711</td>\n",
              "      <td>0.189342</td>\n",
              "    </tr>\n",
              "    <tr>\n",
              "      <th>t</th>\n",
              "      <td>0.750564</td>\n",
              "      <td>0.709501</td>\n",
              "      <td>0.315538</td>\n",
              "      <td>0.757702</td>\n",
              "      <td>0.716536</td>\n",
              "      <td>0.800000</td>\n",
              "      <td>-0.062026</td>\n",
              "      <td>0.574298</td>\n",
              "      <td>0.209268</td>\n",
              "      <td>1.000000</td>\n",
              "      <td>0.799868</td>\n",
              "      <td>1.000000</td>\n",
              "      <td>0.809070</td>\n",
              "      <td>0.384806</td>\n",
              "      <td>0.600649</td>\n",
              "      <td>0.148693</td>\n",
              "      <td>0.482061</td>\n",
              "      <td>0.586805</td>\n",
              "      <td>0.735802</td>\n",
              "      <td>0.673490</td>\n",
              "      <td>0.667886</td>\n",
              "      <td>0.086036</td>\n",
              "    </tr>\n",
              "    <tr>\n",
              "      <th>lOCode</th>\n",
              "      <td>0.921918</td>\n",
              "      <td>0.799915</td>\n",
              "      <td>0.454604</td>\n",
              "      <td>0.775873</td>\n",
              "      <td>0.944383</td>\n",
              "      <td>0.962078</td>\n",
              "      <td>-0.218373</td>\n",
              "      <td>0.768188</td>\n",
              "      <td>0.563920</td>\n",
              "      <td>0.809070</td>\n",
              "      <td>0.961779</td>\n",
              "      <td>0.809070</td>\n",
              "      <td>1.000000</td>\n",
              "      <td>0.553121</td>\n",
              "      <td>0.807319</td>\n",
              "      <td>0.259133</td>\n",
              "      <td>0.657078</td>\n",
              "      <td>0.847889</td>\n",
              "      <td>0.942673</td>\n",
              "      <td>0.931077</td>\n",
              "      <td>0.796594</td>\n",
              "      <td>0.195897</td>\n",
              "    </tr>\n",
              "    <tr>\n",
              "      <th>lOComment</th>\n",
              "      <td>0.612858</td>\n",
              "      <td>0.384506</td>\n",
              "      <td>0.294208</td>\n",
              "      <td>0.351583</td>\n",
              "      <td>0.596374</td>\n",
              "      <td>0.576844</td>\n",
              "      <td>-0.165885</td>\n",
              "      <td>0.502121</td>\n",
              "      <td>0.392551</td>\n",
              "      <td>0.384806</td>\n",
              "      <td>0.576678</td>\n",
              "      <td>0.384806</td>\n",
              "      <td>0.553121</td>\n",
              "      <td>1.000000</td>\n",
              "      <td>0.620149</td>\n",
              "      <td>0.262013</td>\n",
              "      <td>0.356584</td>\n",
              "      <td>0.482957</td>\n",
              "      <td>0.596557</td>\n",
              "      <td>0.584529</td>\n",
              "      <td>0.414046</td>\n",
              "      <td>0.160887</td>\n",
              "    </tr>\n",
              "    <tr>\n",
              "      <th>lOBlank</th>\n",
              "      <td>0.803573</td>\n",
              "      <td>0.538366</td>\n",
              "      <td>0.338243</td>\n",
              "      <td>0.541296</td>\n",
              "      <td>0.798561</td>\n",
              "      <td>0.792330</td>\n",
              "      <td>-0.223670</td>\n",
              "      <td>0.637211</td>\n",
              "      <td>0.572352</td>\n",
              "      <td>0.600649</td>\n",
              "      <td>0.792081</td>\n",
              "      <td>0.600649</td>\n",
              "      <td>0.807319</td>\n",
              "      <td>0.620149</td>\n",
              "      <td>1.000000</td>\n",
              "      <td>0.270338</td>\n",
              "      <td>0.480277</td>\n",
              "      <td>0.687681</td>\n",
              "      <td>0.796700</td>\n",
              "      <td>0.789015</td>\n",
              "      <td>0.569152</td>\n",
              "      <td>0.199644</td>\n",
              "    </tr>\n",
              "    <tr>\n",
              "      <th>locCodeAndComment</th>\n",
              "      <td>0.278119</td>\n",
              "      <td>0.209811</td>\n",
              "      <td>0.190911</td>\n",
              "      <td>0.207028</td>\n",
              "      <td>0.284391</td>\n",
              "      <td>0.266537</td>\n",
              "      <td>-0.106117</td>\n",
              "      <td>0.253793</td>\n",
              "      <td>0.217810</td>\n",
              "      <td>0.148693</td>\n",
              "      <td>0.266720</td>\n",
              "      <td>0.148693</td>\n",
              "      <td>0.259133</td>\n",
              "      <td>0.262013</td>\n",
              "      <td>0.270338</td>\n",
              "      <td>1.000000</td>\n",
              "      <td>0.198825</td>\n",
              "      <td>0.249340</td>\n",
              "      <td>0.283293</td>\n",
              "      <td>0.280559</td>\n",
              "      <td>0.230854</td>\n",
              "      <td>0.117891</td>\n",
              "    </tr>\n",
              "    <tr>\n",
              "      <th>uniq_Op</th>\n",
              "      <td>0.536681</td>\n",
              "      <td>0.647430</td>\n",
              "      <td>0.263000</td>\n",
              "      <td>0.500750</td>\n",
              "      <td>0.610412</td>\n",
              "      <td>0.606993</td>\n",
              "      <td>-0.305331</td>\n",
              "      <td>0.749305</td>\n",
              "      <td>0.391646</td>\n",
              "      <td>0.482061</td>\n",
              "      <td>0.606548</td>\n",
              "      <td>0.482061</td>\n",
              "      <td>0.657078</td>\n",
              "      <td>0.356584</td>\n",
              "      <td>0.480277</td>\n",
              "      <td>0.198825</td>\n",
              "      <td>1.000000</td>\n",
              "      <td>0.780512</td>\n",
              "      <td>0.615092</td>\n",
              "      <td>0.590847</td>\n",
              "      <td>0.547633</td>\n",
              "      <td>0.158834</td>\n",
              "    </tr>\n",
              "    <tr>\n",
              "      <th>uniq_Opnd</th>\n",
              "      <td>0.764622</td>\n",
              "      <td>0.700514</td>\n",
              "      <td>0.337031</td>\n",
              "      <td>0.617966</td>\n",
              "      <td>0.836171</td>\n",
              "      <td>0.852296</td>\n",
              "      <td>-0.234892</td>\n",
              "      <td>0.639686</td>\n",
              "      <td>0.726696</td>\n",
              "      <td>0.586805</td>\n",
              "      <td>0.851923</td>\n",
              "      <td>0.586805</td>\n",
              "      <td>0.847889</td>\n",
              "      <td>0.482957</td>\n",
              "      <td>0.687681</td>\n",
              "      <td>0.249340</td>\n",
              "      <td>0.780512</td>\n",
              "      <td>1.000000</td>\n",
              "      <td>0.816921</td>\n",
              "      <td>0.851683</td>\n",
              "      <td>0.644295</td>\n",
              "      <td>0.211952</td>\n",
              "    </tr>\n",
              "    <tr>\n",
              "      <th>total_Op</th>\n",
              "      <td>0.880967</td>\n",
              "      <td>0.744164</td>\n",
              "      <td>0.479935</td>\n",
              "      <td>0.715244</td>\n",
              "      <td>0.995689</td>\n",
              "      <td>0.981565</td>\n",
              "      <td>-0.237325</td>\n",
              "      <td>0.817546</td>\n",
              "      <td>0.620676</td>\n",
              "      <td>0.735802</td>\n",
              "      <td>0.981237</td>\n",
              "      <td>0.735802</td>\n",
              "      <td>0.942673</td>\n",
              "      <td>0.596557</td>\n",
              "      <td>0.796700</td>\n",
              "      <td>0.283293</td>\n",
              "      <td>0.615092</td>\n",
              "      <td>0.816921</td>\n",
              "      <td>1.000000</td>\n",
              "      <td>0.972693</td>\n",
              "      <td>0.760778</td>\n",
              "      <td>0.200987</td>\n",
              "    </tr>\n",
              "    <tr>\n",
              "      <th>total_Opnd</th>\n",
              "      <td>0.868275</td>\n",
              "      <td>0.696078</td>\n",
              "      <td>0.435518</td>\n",
              "      <td>0.668940</td>\n",
              "      <td>0.989484</td>\n",
              "      <td>0.971960</td>\n",
              "      <td>-0.241023</td>\n",
              "      <td>0.777732</td>\n",
              "      <td>0.687891</td>\n",
              "      <td>0.673490</td>\n",
              "      <td>0.971621</td>\n",
              "      <td>0.673490</td>\n",
              "      <td>0.931077</td>\n",
              "      <td>0.584529</td>\n",
              "      <td>0.789015</td>\n",
              "      <td>0.280559</td>\n",
              "      <td>0.590847</td>\n",
              "      <td>0.851683</td>\n",
              "      <td>0.972693</td>\n",
              "      <td>1.000000</td>\n",
              "      <td>0.714044</td>\n",
              "      <td>0.203825</td>\n",
              "    </tr>\n",
              "    <tr>\n",
              "      <th>branchCount</th>\n",
              "      <td>0.830194</td>\n",
              "      <td>0.971958</td>\n",
              "      <td>0.785553</td>\n",
              "      <td>0.858994</td>\n",
              "      <td>0.747894</td>\n",
              "      <td>0.759971</td>\n",
              "      <td>-0.279126</td>\n",
              "      <td>0.671976</td>\n",
              "      <td>0.325796</td>\n",
              "      <td>0.667886</td>\n",
              "      <td>0.759711</td>\n",
              "      <td>0.667886</td>\n",
              "      <td>0.796594</td>\n",
              "      <td>0.414046</td>\n",
              "      <td>0.569152</td>\n",
              "      <td>0.230854</td>\n",
              "      <td>0.547633</td>\n",
              "      <td>0.644295</td>\n",
              "      <td>0.760778</td>\n",
              "      <td>0.714044</td>\n",
              "      <td>1.000000</td>\n",
              "      <td>0.222754</td>\n",
              "    </tr>\n",
              "    <tr>\n",
              "      <th>defects</th>\n",
              "      <td>0.245388</td>\n",
              "      <td>0.208644</td>\n",
              "      <td>0.172973</td>\n",
              "      <td>0.181984</td>\n",
              "      <td>0.204143</td>\n",
              "      <td>0.189136</td>\n",
              "      <td>-0.164917</td>\n",
              "      <td>0.169629</td>\n",
              "      <td>0.192831</td>\n",
              "      <td>0.086036</td>\n",
              "      <td>0.189342</td>\n",
              "      <td>0.086036</td>\n",
              "      <td>0.195897</td>\n",
              "      <td>0.160887</td>\n",
              "      <td>0.199644</td>\n",
              "      <td>0.117891</td>\n",
              "      <td>0.158834</td>\n",
              "      <td>0.211952</td>\n",
              "      <td>0.200987</td>\n",
              "      <td>0.203825</td>\n",
              "      <td>0.222754</td>\n",
              "      <td>1.000000</td>\n",
              "    </tr>\n",
              "  </tbody>\n",
              "</table>\n",
              "</div>"
            ],
            "text/plain": [
              "                        loc      v(g)  ...  branchCount   defects\n",
              "loc                1.000000  0.817757  ...     0.830194  0.245388\n",
              "v(g)               0.817757  1.000000  ...     0.971958  0.208644\n",
              "ev(g)              0.517551  0.701710  ...     0.785553  0.172973\n",
              "iv(g)              0.784057  0.859590  ...     0.858994  0.181984\n",
              "n                  0.881795  0.730781  ...     0.747894  0.204143\n",
              "v                  0.900293  0.759881  ...     0.759971  0.189136\n",
              "l                 -0.286587 -0.252902  ...    -0.279126 -0.164917\n",
              "d                  0.689543  0.669057  ...     0.671976  0.169629\n",
              "i                  0.499946  0.303031  ...     0.325796  0.192831\n",
              "e                  0.750564  0.709501  ...     0.667886  0.086036\n",
              "b                  0.899965  0.759635  ...     0.759711  0.189342\n",
              "t                  0.750564  0.709501  ...     0.667886  0.086036\n",
              "lOCode             0.921918  0.799915  ...     0.796594  0.195897\n",
              "lOComment          0.612858  0.384506  ...     0.414046  0.160887\n",
              "lOBlank            0.803573  0.538366  ...     0.569152  0.199644\n",
              "locCodeAndComment  0.278119  0.209811  ...     0.230854  0.117891\n",
              "uniq_Op            0.536681  0.647430  ...     0.547633  0.158834\n",
              "uniq_Opnd          0.764622  0.700514  ...     0.644295  0.211952\n",
              "total_Op           0.880967  0.744164  ...     0.760778  0.200987\n",
              "total_Opnd         0.868275  0.696078  ...     0.714044  0.203825\n",
              "branchCount        0.830194  0.971958  ...     1.000000  0.222754\n",
              "defects            0.245388  0.208644  ...     0.222754  1.000000\n",
              "\n",
              "[22 rows x 22 columns]"
            ]
          },
          "metadata": {
            "tags": []
          },
          "execution_count": 78
        }
      ]
    },
    {
      "cell_type": "markdown",
      "metadata": {
        "_uuid": "e9e23f7f2d9f8f99fe4346ef182b2f0663c8094c",
        "id": "SukJ0eI6Nkup"
      },
      "source": [
        "> ##### Correlation Heatmap"
      ]
    },
    {
      "cell_type": "code",
      "metadata": {
        "trusted": true,
        "_uuid": "ffdcd707b43c078425ab42961d5b96b5bc26f224",
        "scrolled": true,
        "id": "Iq2IndieNkup",
        "colab": {
          "base_uri": "https://localhost:8080/",
          "height": 856
        },
        "outputId": "180ae5b8-e083-47e8-907a-070c7b4ba32d"
      },
      "source": [
        "plt.subplots(figsize=(20, 15))\n",
        "sns.heatmap(data.corr(), linewidth=.2, annot=True)\n",
        "plt.show()"
      ],
      "execution_count": 79,
      "outputs": [
        {
          "output_type": "display_data",
          "data": {
            "image/png": "[encoded data removed]",
            "text/plain": [
              "<Figure size 1440x1080 with 2 Axes>"
            ]
          },
          "metadata": {
            "tags": [],
            "needs_background": "light"
          }
        }
      ]
    },
    {
      "cell_type": "markdown",
      "metadata": {
        "_uuid": "90ed2126e1e8748aba5ae39f0ebc3b21d491dc44",
        "id": "52XBKoQANkuv"
      },
      "source": [
        "> **N.B.**\n",
        "* The light color in the heat map indicates that the covariance is high. (Ex. \"v-b\" , \"v-n\", etc.)\n",
        "* The dark color in the heat map indicates that the covariance is low. (Ex. \"loc-l\" , \"l-d\", etc.)"
      ]
    },
    {
      "cell_type": "markdown",
      "metadata": {
        "_uuid": "26365fc4cf4b80134a987d4d9f0799bdf81c9ab9",
        "id": "Mk5VF1jANkuw"
      },
      "source": [
        "> ##### Scatter Plot"
      ]
    },
    {
      "cell_type": "code",
      "metadata": {
        "trusted": true,
        "_uuid": "a7f032bf19a0fd4fc44239b0aaba203f84d51d04",
        "id": "va0Ac0_nNkuw",
        "colab": {
          "base_uri": "https://localhost:8080/",
          "height": 513
        },
        "outputId": "deb533ae-64c3-4e98-cb1f-6b0e9a9d04ea"
      },
      "source": [
        "p_scatter = data.plot(kind='scatter', x='loc', y='b', title='LOC - Bug', figsize=(10,8), grid=True);\n",
        "p_scatter.set_xlabel('LOC');\n",
        "p_scatter.set_ylabel('Bug');"
      ],
      "execution_count": 80,
      "outputs": [
        {
          "output_type": "display_data",
          "data": {
            "image/png": "[encoded data removed]",
            "text/plain": [
              "<Figure size 720x576 with 1 Axes>"
            ]
          },
          "metadata": {
            "tags": [],
            "needs_background": "light"
          }
        }
      ]
    },
    {
      "cell_type": "markdown",
      "metadata": {
        "trusted": true,
        "_uuid": "bc999e8958659b0f433bf51b03abf5902e59ce8f",
        "id": "U3oYD49PNkuz"
      },
      "source": [
        "> ### Data Preprocessing"
      ]
    },
    {
      "cell_type": "markdown",
      "metadata": {
        "id": "r8J4XURZCZ5c"
      },
      "source": [
        "> ##### Count and remove `null` values"
      ]
    },
    {
      "cell_type": "code",
      "metadata": {
        "trusted": true,
        "_uuid": "e4ac1ce18acbdd9993dfe01b7e590cb32f15e297",
        "id": "wXJkEZU9Nku0",
        "colab": {
          "base_uri": "https://localhost:8080/"
        },
        "outputId": "077b747c-db20-41f0-ada2-2ab20d8994bd"
      },
      "source": [
        "data.isnull().sum()"
      ],
      "execution_count": 81,
      "outputs": [
        {
          "output_type": "execute_result",
          "data": {
            "text/plain": [
              "loc                  0\n",
              "v(g)                 0\n",
              "ev(g)                0\n",
              "iv(g)                0\n",
              "n                    0\n",
              "v                    0\n",
              "l                    0\n",
              "d                    0\n",
              "i                    0\n",
              "e                    0\n",
              "b                    0\n",
              "t                    0\n",
              "lOCode               0\n",
              "lOComment            0\n",
              "lOBlank              0\n",
              "locCodeAndComment    0\n",
              "uniq_Op              5\n",
              "uniq_Opnd            5\n",
              "total_Op             5\n",
              "total_Opnd           5\n",
              "branchCount          5\n",
              "defects              0\n",
              "dtype: int64"
            ]
          },
          "metadata": {
            "tags": []
          },
          "execution_count": 81
        }
      ]
    },
    {
      "cell_type": "code",
      "metadata": {
        "id": "yEs6qzK08XuX",
        "colab": {
          "base_uri": "https://localhost:8080/"
        },
        "outputId": "690b7f40-97d1-43a0-c78c-79c8518acb6c"
      },
      "source": [
        "data.shape"
      ],
      "execution_count": 82,
      "outputs": [
        {
          "output_type": "execute_result",
          "data": {
            "text/plain": [
              "(10885, 22)"
            ]
          },
          "metadata": {
            "tags": []
          },
          "execution_count": 82
        }
      ]
    },
    {
      "cell_type": "code",
      "metadata": {
        "id": "gxydvHEg85rI",
        "colab": {
          "base_uri": "https://localhost:8080/"
        },
        "outputId": "2a654963-402b-4e53-8886-1f2b3c2c8530"
      },
      "source": [
        "data = data.dropna()\n",
        "data.shape"
      ],
      "execution_count": 83,
      "outputs": [
        {
          "output_type": "execute_result",
          "data": {
            "text/plain": [
              "(10880, 22)"
            ]
          },
          "metadata": {
            "tags": []
          },
          "execution_count": 83
        }
      ]
    },
    {
      "cell_type": "markdown",
      "metadata": {
        "_uuid": "b22a3c601cf41164606fa3a17072020c6a96def9",
        "id": "98evQP1_Nku6"
      },
      "source": [
        "> ##### Box Plot"
      ]
    },
    {
      "cell_type": "code",
      "metadata": {
        "trusted": true,
        "_uuid": "6dbedc4d50bd9e6353ff2e6549d70645793fd066",
        "id": "AGGY9FlfNku6",
        "colab": {
          "base_uri": "https://localhost:8080/",
          "height": 607
        },
        "outputId": "abc284b7-9091-4050-f6b1-3ac28e162438"
      },
      "source": [
        "data['loc'].plot(kind=\"box\", title='Lines of Code', figsize=(5,10), grid=True);"
      ],
      "execution_count": 84,
      "outputs": [
        {
          "output_type": "display_data",
          "data": {
            "image/png": "[encoded data removed]",
            "text/plain": [
              "<Figure size 360x720 with 1 Axes>"
            ]
          },
          "metadata": {
            "tags": [],
            "needs_background": "light"
          }
        }
      ]
    },
    {
      "cell_type": "code",
      "metadata": {
        "id": "u8iwpp1oIOQW",
        "colab": {
          "base_uri": "https://localhost:8080/"
        },
        "outputId": "da51bb1b-8941-42b5-fb7b-5a895d994b9b"
      },
      "source": [
        "data['loc'].describe()"
      ],
      "execution_count": 85,
      "outputs": [
        {
          "output_type": "execute_result",
          "data": {
            "text/plain": [
              "count    10880.000000\n",
              "mean        42.020138\n",
              "std         76.608641\n",
              "min          1.000000\n",
              "25%         11.000000\n",
              "50%         23.000000\n",
              "75%         46.000000\n",
              "max       3442.000000\n",
              "Name: loc, dtype: float64"
            ]
          },
          "metadata": {
            "tags": []
          },
          "execution_count": 85
        }
      ]
    },
    {
      "cell_type": "markdown",
      "metadata": {
        "id": "EKgG9aipLsuM"
      },
      "source": [
        "> ### Preparing training set and test set"
      ]
    },
    {
      "cell_type": "code",
      "metadata": {
        "id": "zbcKvJHHL7wV"
      },
      "source": [
        "X = data.drop(['defects'], axis=1)\n",
        "y = data['defects'].astype(int)"
      ],
      "execution_count": 86,
      "outputs": []
    },
    {
      "cell_type": "code",
      "metadata": {
        "id": "xYM1tfpfMB4N",
        "colab": {
          "base_uri": "https://localhost:8080/",
          "height": 224
        },
        "outputId": "1e861b02-7c9e-437d-ccae-bfcf2c5f7d9b"
      },
      "source": [
        "X.head()"
      ],
      "execution_count": 87,
      "outputs": [
        {
          "output_type": "execute_result",
          "data": {
            "text/html": [
              "<div>\n",
              "<style scoped>\n",
              "    .dataframe tbody tr th:only-of-type {\n",
              "        vertical-align: middle;\n",
              "    }\n",
              "\n",
              "    .dataframe tbody tr th {\n",
              "        vertical-align: top;\n",
              "    }\n",
              "\n",
              "    .dataframe thead th {\n",
              "        text-align: right;\n",
              "    }\n",
              "</style>\n",
              "<table border=\"1\" class=\"dataframe\">\n",
              "  <thead>\n",
              "    <tr style=\"text-align: right;\">\n",
              "      <th></th>\n",
              "      <th>loc</th>\n",
              "      <th>v(g)</th>\n",
              "      <th>ev(g)</th>\n",
              "      <th>iv(g)</th>\n",
              "      <th>n</th>\n",
              "      <th>v</th>\n",
              "      <th>l</th>\n",
              "      <th>d</th>\n",
              "      <th>i</th>\n",
              "      <th>e</th>\n",
              "      <th>b</th>\n",
              "      <th>t</th>\n",
              "      <th>lOCode</th>\n",
              "      <th>lOComment</th>\n",
              "      <th>lOBlank</th>\n",
              "      <th>locCodeAndComment</th>\n",
              "      <th>uniq_Op</th>\n",
              "      <th>uniq_Opnd</th>\n",
              "      <th>total_Op</th>\n",
              "      <th>total_Opnd</th>\n",
              "      <th>branchCount</th>\n",
              "    </tr>\n",
              "  </thead>\n",
              "  <tbody>\n",
              "    <tr>\n",
              "      <th>0</th>\n",
              "      <td>1.1</td>\n",
              "      <td>1.4</td>\n",
              "      <td>1.4</td>\n",
              "      <td>1.4</td>\n",
              "      <td>1.3</td>\n",
              "      <td>1.30</td>\n",
              "      <td>1.30</td>\n",
              "      <td>1.30</td>\n",
              "      <td>1.30</td>\n",
              "      <td>1.30</td>\n",
              "      <td>1.30</td>\n",
              "      <td>1.30</td>\n",
              "      <td>2.0</td>\n",
              "      <td>2.0</td>\n",
              "      <td>2.0</td>\n",
              "      <td>2.0</td>\n",
              "      <td>1.2</td>\n",
              "      <td>1.2</td>\n",
              "      <td>1.2</td>\n",
              "      <td>1.2</td>\n",
              "      <td>1.4</td>\n",
              "    </tr>\n",
              "    <tr>\n",
              "      <th>1</th>\n",
              "      <td>1.0</td>\n",
              "      <td>1.0</td>\n",
              "      <td>1.0</td>\n",
              "      <td>1.0</td>\n",
              "      <td>1.0</td>\n",
              "      <td>1.00</td>\n",
              "      <td>1.00</td>\n",
              "      <td>1.00</td>\n",
              "      <td>1.00</td>\n",
              "      <td>1.00</td>\n",
              "      <td>1.00</td>\n",
              "      <td>1.00</td>\n",
              "      <td>1.0</td>\n",
              "      <td>1.0</td>\n",
              "      <td>1.0</td>\n",
              "      <td>1.0</td>\n",
              "      <td>1.0</td>\n",
              "      <td>1.0</td>\n",
              "      <td>1.0</td>\n",
              "      <td>1.0</td>\n",
              "      <td>1.0</td>\n",
              "    </tr>\n",
              "    <tr>\n",
              "      <th>2</th>\n",
              "      <td>72.0</td>\n",
              "      <td>7.0</td>\n",
              "      <td>1.0</td>\n",
              "      <td>6.0</td>\n",
              "      <td>198.0</td>\n",
              "      <td>1134.13</td>\n",
              "      <td>0.05</td>\n",
              "      <td>20.31</td>\n",
              "      <td>55.85</td>\n",
              "      <td>23029.10</td>\n",
              "      <td>0.38</td>\n",
              "      <td>1279.39</td>\n",
              "      <td>51.0</td>\n",
              "      <td>10.0</td>\n",
              "      <td>8.0</td>\n",
              "      <td>1.0</td>\n",
              "      <td>17.0</td>\n",
              "      <td>36.0</td>\n",
              "      <td>112.0</td>\n",
              "      <td>86.0</td>\n",
              "      <td>13.0</td>\n",
              "    </tr>\n",
              "    <tr>\n",
              "      <th>3</th>\n",
              "      <td>190.0</td>\n",
              "      <td>3.0</td>\n",
              "      <td>1.0</td>\n",
              "      <td>3.0</td>\n",
              "      <td>600.0</td>\n",
              "      <td>4348.76</td>\n",
              "      <td>0.06</td>\n",
              "      <td>17.06</td>\n",
              "      <td>254.87</td>\n",
              "      <td>74202.67</td>\n",
              "      <td>1.45</td>\n",
              "      <td>4122.37</td>\n",
              "      <td>129.0</td>\n",
              "      <td>29.0</td>\n",
              "      <td>28.0</td>\n",
              "      <td>2.0</td>\n",
              "      <td>17.0</td>\n",
              "      <td>135.0</td>\n",
              "      <td>329.0</td>\n",
              "      <td>271.0</td>\n",
              "      <td>5.0</td>\n",
              "    </tr>\n",
              "    <tr>\n",
              "      <th>4</th>\n",
              "      <td>37.0</td>\n",
              "      <td>4.0</td>\n",
              "      <td>1.0</td>\n",
              "      <td>4.0</td>\n",
              "      <td>126.0</td>\n",
              "      <td>599.12</td>\n",
              "      <td>0.06</td>\n",
              "      <td>17.19</td>\n",
              "      <td>34.86</td>\n",
              "      <td>10297.30</td>\n",
              "      <td>0.20</td>\n",
              "      <td>572.07</td>\n",
              "      <td>28.0</td>\n",
              "      <td>1.0</td>\n",
              "      <td>6.0</td>\n",
              "      <td>0.0</td>\n",
              "      <td>11.0</td>\n",
              "      <td>16.0</td>\n",
              "      <td>76.0</td>\n",
              "      <td>50.0</td>\n",
              "      <td>7.0</td>\n",
              "    </tr>\n",
              "  </tbody>\n",
              "</table>\n",
              "</div>"
            ],
            "text/plain": [
              "     loc  v(g)  ev(g)  iv(g)  ...  uniq_Opnd  total_Op  total_Opnd  branchCount\n",
              "0    1.1   1.4    1.4    1.4  ...        1.2       1.2         1.2          1.4\n",
              "1    1.0   1.0    1.0    1.0  ...        1.0       1.0         1.0          1.0\n",
              "2   72.0   7.0    1.0    6.0  ...       36.0     112.0        86.0         13.0\n",
              "3  190.0   3.0    1.0    3.0  ...      135.0     329.0       271.0          5.0\n",
              "4   37.0   4.0    1.0    4.0  ...       16.0      76.0        50.0          7.0\n",
              "\n",
              "[5 rows x 21 columns]"
            ]
          },
          "metadata": {
            "tags": []
          },
          "execution_count": 87
        }
      ]
    },
    {
      "cell_type": "code",
      "metadata": {
        "id": "hyD86e16MKK_",
        "colab": {
          "base_uri": "https://localhost:8080/"
        },
        "outputId": "5c8086eb-9d27-40f7-c884-04caa2a695e1"
      },
      "source": [
        "y.head()"
      ],
      "execution_count": 88,
      "outputs": [
        {
          "output_type": "execute_result",
          "data": {
            "text/plain": [
              "0    0\n",
              "1    1\n",
              "2    1\n",
              "3    1\n",
              "4    1\n",
              "Name: defects, dtype: int64"
            ]
          },
          "metadata": {
            "tags": []
          },
          "execution_count": 88
        }
      ]
    },
    {
      "cell_type": "code",
      "metadata": {
        "id": "YsHVMeLmLvZU"
      },
      "source": [
        "from sklearn.model_selection import train_test_split\n",
        "\n",
        "x_train, x_test, y_train, y_test = train_test_split(X, y, test_size=0.3, random_state=1)"
      ],
      "execution_count": 89,
      "outputs": []
    },
    {
      "cell_type": "code",
      "metadata": {
        "id": "CIS9zhSlMTgo",
        "colab": {
          "base_uri": "https://localhost:8080/"
        },
        "outputId": "dec17ece-3bda-445b-87be-3d0eb69527d7"
      },
      "source": [
        "x_train.shape, x_test.shape"
      ],
      "execution_count": 90,
      "outputs": [
        {
          "output_type": "execute_result",
          "data": {
            "text/plain": [
              "((7616, 21), (3264, 21))"
            ]
          },
          "metadata": {
            "tags": []
          },
          "execution_count": 90
        }
      ]
    },
    {
      "cell_type": "code",
      "metadata": {
        "id": "ERQqGV3GMegJ",
        "colab": {
          "base_uri": "https://localhost:8080/"
        },
        "outputId": "6a1b16bd-6fd3-4bed-e19e-6a35c4c507e2"
      },
      "source": [
        "y_train.shape, y_test.shape"
      ],
      "execution_count": 91,
      "outputs": [
        {
          "output_type": "execute_result",
          "data": {
            "text/plain": [
              "((7616,), (3264,))"
            ]
          },
          "metadata": {
            "tags": []
          },
          "execution_count": 91
        }
      ]
    },
    {
      "cell_type": "markdown",
      "metadata": {
        "id": "lFk6uwG1M-OA"
      },
      "source": [
        "### Prediction"
      ]
    },
    {
      "cell_type": "code",
      "metadata": {
        "id": "_79M7VWKM-XR"
      },
      "source": [
        "from sklearn.svm import SVC\n",
        "from sklearn.ensemble import RandomForestClassifier\n",
        "from sklearn.neighbors import KNeighborsClassifier\n",
        "from sklearn.dummy import DummyClassifier\n",
        "from sklearn.metrics import accuracy_score, precision_score, recall_score, f1_score, roc_auc_score, confusion_matrix\n",
        "\n",
        "def print_metrics(y_test, y_pred):\n",
        "    print('1. Accuracy: {}'.format(round(accuracy_score(y_test, y_pred), 2)))\n",
        "    print('2. Precision: {}'.format(round(precision_score(y_test, y_pred), 2)))\n",
        "    print('3. Recall: {}'.format(round(recall_score(y_test, y_pred), 2)))\n",
        "    print('4. F1 score: {}'.format(round(f1_score(y_test, y_pred), 2)))\n",
        "    print('5. ROC AUC: {}'.format(round(roc_auc_score(y_test, y_pred), 2)))\n",
        "    print('\\n++ Confusion Matrix ++\\n{}'.format(pd.crosstab(y_test, y_pred, rownames=['Actual'], colnames=['Predicted'])))"
      ],
      "execution_count": 92,
      "outputs": []
    },
    {
      "cell_type": "markdown",
      "metadata": {
        "_uuid": "4ab8d016f7089b43fa69825f79b481500cf50b44",
        "id": "NvlVgT3HNkvO"
      },
      "source": [
        "> ##### Data Normalization  (Min-Max Normalization)\n"
      ]
    },
    {
      "cell_type": "code",
      "metadata": {
        "id": "yydxbCJKNg_Z"
      },
      "source": [
        "# Let's create a preprocessor for data normalization\n",
        "from sklearn.preprocessing import MinMaxScaler\n",
        "\n",
        "scaler = MinMaxScaler()\n",
        "\n",
        "# For first, we will process train set\n",
        "x_train_scaled = scaler.fit_transform(x_train)\n",
        "\n",
        "# Then, we will do the same for test set\n",
        "x_test_scaled = scaler.transform(x_test)"
      ],
      "execution_count": 93,
      "outputs": []
    },
    {
      "cell_type": "markdown",
      "metadata": {
        "id": "GlEzlkftDuHB"
      },
      "source": [
        "> ##### Applying SVM Classifier"
      ]
    },
    {
      "cell_type": "code",
      "metadata": {
        "id": "oc_8uw-pqeZC"
      },
      "source": [
        "# 1. Model trainig\n",
        "model = SVC().fit(x_train_scaled, y_train)\n",
        "\n",
        "# 2. Prediction\n",
        "y_pred = model.predict(x_test_scaled)"
      ],
      "execution_count": 94,
      "outputs": []
    },
    {
      "cell_type": "code",
      "metadata": {
        "id": "ANzriTdbP0K0",
        "colab": {
          "base_uri": "https://localhost:8080/"
        },
        "outputId": "6d7e5b19-fe3a-4cc1-f0d2-b479f5a173f4"
      },
      "source": [
        "# Let's print some metrics\n",
        "print_metrics(y_test, y_pred)"
      ],
      "execution_count": 95,
      "outputs": [
        {
          "output_type": "stream",
          "text": [
            "1. Accuracy: 0.82\n",
            "2. Precision: 0.69\n",
            "3. Recall: 0.08\n",
            "4. F1 score: 0.15\n",
            "5. ROC AUC: 0.54\n",
            "\n",
            "++ Confusion Matrix ++\n",
            "Predicted     0   1\n",
            "Actual             \n",
            "0          2612  24\n",
            "1           575  53\n"
          ],
          "name": "stdout"
        }
      ]
    },
    {
      "cell_type": "markdown",
      "metadata": {
        "id": "7lbIP0uudBuw"
      },
      "source": [
        "> ##### Dummy Classifier"
      ]
    },
    {
      "cell_type": "code",
      "metadata": {
        "colab": {
          "base_uri": "https://localhost:8080/"
        },
        "id": "Ag-o76JqdK8Y",
        "outputId": "43059cfc-640a-4d2f-c841-887815acbf7b"
      },
      "source": [
        "# 1. Model trainig\n",
        "model_const = DummyClassifier(strategy='constant', constant=0).fit(x_train_scaled, y_train)\n",
        "\n",
        "# 2. Prediction\n",
        "y_pred = model_const.predict(x_test_scaled)\n",
        "\n",
        "# Let's print some metrics\n",
        "print_metrics(y_test, y_pred)"
      ],
      "execution_count": 96,
      "outputs": [
        {
          "output_type": "stream",
          "text": [
            "1. Accuracy: 0.81\n",
            "2. Precision: 0.0\n",
            "3. Recall: 0.0\n",
            "4. F1 score: 0.0\n",
            "5. ROC AUC: 0.5\n",
            "\n",
            "++ Confusion Matrix ++\n",
            "Predicted     0\n",
            "Actual         \n",
            "0          2636\n",
            "1           628\n"
          ],
          "name": "stdout"
        },
        {
          "output_type": "stream",
          "text": [
            "/usr/local/lib/python3.7/dist-packages/sklearn/metrics/_classification.py:1272: UndefinedMetricWarning: Precision is ill-defined and being set to 0.0 due to no predicted samples. Use `zero_division` parameter to control this behavior.\n",
            "  _warn_prf(average, modifier, msg_start, len(result))\n"
          ],
          "name": "stderr"
        }
      ]
    },
    {
      "cell_type": "code",
      "metadata": {
        "colab": {
          "base_uri": "https://localhost:8080/"
        },
        "id": "zM7mhJw-dNey",
        "outputId": "049160b2-8ba0-42aa-ec4c-c2448ccbc5b3"
      },
      "source": [
        "# 1. Model trainig\n",
        "model_rand = DummyClassifier(strategy='uniform').fit(x_train_scaled, y_train)\n",
        "\n",
        "# 2. Prediction\n",
        "y_pred = model_rand.predict(x_test_scaled)\n",
        "\n",
        "# Let's print some metrics\n",
        "print_metrics(y_test, y_pred)"
      ],
      "execution_count": 97,
      "outputs": [
        {
          "output_type": "stream",
          "text": [
            "1. Accuracy: 0.5\n",
            "2. Precision: 0.18\n",
            "3. Recall: 0.46\n",
            "4. F1 score: 0.26\n",
            "5. ROC AUC: 0.49\n",
            "\n",
            "++ Confusion Matrix ++\n",
            "Predicted     0     1\n",
            "Actual               \n",
            "0          1336  1300\n",
            "1           336   292\n"
          ],
          "name": "stdout"
        }
      ]
    },
    {
      "cell_type": "markdown",
      "metadata": {
        "id": "11jnUbMSRwTA"
      },
      "source": [
        "### Data Balancing"
      ]
    },
    {
      "cell_type": "code",
      "metadata": {
        "id": "UCjUGhgKRhTu",
        "colab": {
          "base_uri": "https://localhost:8080/"
        },
        "outputId": "dd492422-35e4-4627-c246-1757e1ade4da"
      },
      "source": [
        "from imblearn.under_sampling import RandomUnderSampler\n",
        "from imblearn.over_sampling import RandomOverSampler"
      ],
      "execution_count": 98,
      "outputs": [
        {
          "output_type": "stream",
          "text": [
            "/usr/local/lib/python3.7/dist-packages/sklearn/externals/six.py:31: FutureWarning: The module is deprecated in version 0.21 and will be removed in version 0.23 since we've dropped support for Python 2.7. Please rely on the official version of six (https://pypi.org/project/six/).\n",
            "  \"(https://pypi.org/project/six/).\", FutureWarning)\n",
            "/usr/local/lib/python3.7/dist-packages/sklearn/utils/deprecation.py:144: FutureWarning: The sklearn.neighbors.base module is  deprecated in version 0.22 and will be removed in version 0.24. The corresponding classes / functions should instead be imported from sklearn.neighbors. Anything that cannot be imported from sklearn.neighbors is now part of the private API.\n",
            "  warnings.warn(message, FutureWarning)\n"
          ],
          "name": "stderr"
        }
      ]
    },
    {
      "cell_type": "markdown",
      "metadata": {
        "id": "o_nWuI4fD4Us"
      },
      "source": [
        "> ##### `RandomUnderSampler`: we will remove some osservation in the majority classes (under sampling) to archieve a 1: 1 ratio between defective and non-defective"
      ]
    },
    {
      "cell_type": "code",
      "metadata": {
        "id": "H_C-hIRbRv4J",
        "colab": {
          "base_uri": "https://localhost:8080/"
        },
        "outputId": "99dc348b-4ce1-4de5-f093-b14b46b9ceb4"
      },
      "source": [
        "# For train set only !!!\n",
        "rus = RandomUnderSampler(sampling_strategy='majority') \n",
        "x_rus, y_rus = rus.fit_resample(x_train_scaled, y_train)"
      ],
      "execution_count": 99,
      "outputs": [
        {
          "output_type": "stream",
          "text": [
            "/usr/local/lib/python3.7/dist-packages/sklearn/utils/deprecation.py:87: FutureWarning: Function safe_indexing is deprecated; safe_indexing is deprecated in version 0.22 and will be removed in version 0.24.\n",
            "  warnings.warn(msg, category=FutureWarning)\n"
          ],
          "name": "stderr"
        }
      ]
    },
    {
      "cell_type": "markdown",
      "metadata": {
        "id": "2XDu1-_JEv3t"
      },
      "source": [
        "> ##### `RandomOverSampler`: we will generate new samples in the minority classes (over sampling)"
      ]
    },
    {
      "cell_type": "code",
      "metadata": {
        "id": "EXUUI818EvWr",
        "colab": {
          "base_uri": "https://localhost:8080/"
        },
        "outputId": "08ca6414-173f-4008-91a9-89fefa5c6098"
      },
      "source": [
        "# For train set only !!!\n",
        "ros = RandomOverSampler(sampling_strategy='minority') \n",
        "x_ros, y_ros = ros.fit_resample(x_train_scaled, y_train)"
      ],
      "execution_count": 100,
      "outputs": [
        {
          "output_type": "stream",
          "text": [
            "/usr/local/lib/python3.7/dist-packages/sklearn/utils/deprecation.py:87: FutureWarning: Function safe_indexing is deprecated; safe_indexing is deprecated in version 0.22 and will be removed in version 0.24.\n",
            "  warnings.warn(msg, category=FutureWarning)\n"
          ],
          "name": "stderr"
        }
      ]
    },
    {
      "cell_type": "code",
      "metadata": {
        "id": "y-eyEEz1oPu7",
        "colab": {
          "base_uri": "https://localhost:8080/"
        },
        "outputId": "45191597-a596-4f2b-903a-99412cc69fbc"
      },
      "source": [
        "print('Original :', x_train_scaled.shape)\n",
        "print('Random Under Sampler :', x_rus.shape)\n",
        "print('Random Over Sampler :', x_ros.shape)"
      ],
      "execution_count": 101,
      "outputs": [
        {
          "output_type": "stream",
          "text": [
            "Original : (7616, 21)\n",
            "Random Under Sampler : (2950, 21)\n",
            "Random Over Sampler : (12282, 21)\n"
          ],
          "name": "stdout"
        }
      ]
    },
    {
      "cell_type": "markdown",
      "metadata": {
        "id": "BbOSOnOlFXlo"
      },
      "source": [
        "##### Applying SVM Classifier with RUS"
      ]
    },
    {
      "cell_type": "code",
      "metadata": {
        "id": "kYEmeKzETU3r"
      },
      "source": [
        "# N.B. We already done data preprocessing\n",
        "# Training\n",
        "model = SVC().fit(x_rus, y_rus)\n",
        "\n",
        "# Prediction\n",
        "y_pred_svc_rus = model.predict(x_test_scaled)"
      ],
      "execution_count": 102,
      "outputs": []
    },
    {
      "cell_type": "code",
      "metadata": {
        "id": "eQcKKj_c_Gf6",
        "colab": {
          "base_uri": "https://localhost:8080/"
        },
        "outputId": "5979c284-eee3-4ccf-f7b7-73d71053d2aa"
      },
      "source": [
        "# Let's print some metrics\n",
        "print_metrics(y_test, y_pred_svc_rus)"
      ],
      "execution_count": 103,
      "outputs": [
        {
          "output_type": "stream",
          "text": [
            "1. Accuracy: 0.72\n",
            "2. Precision: 0.36\n",
            "3. Recall: 0.55\n",
            "4. F1 score: 0.43\n",
            "5. ROC AUC: 0.66\n",
            "\n",
            "++ Confusion Matrix ++\n",
            "Predicted     0    1\n",
            "Actual              \n",
            "0          2019  617\n",
            "1           285  343\n"
          ],
          "name": "stdout"
        }
      ]
    },
    {
      "cell_type": "markdown",
      "metadata": {
        "id": "r8laIn7UFfh7"
      },
      "source": [
        "##### Applying SVM Classifier with ROS"
      ]
    },
    {
      "cell_type": "code",
      "metadata": {
        "id": "X003RWaJUix0"
      },
      "source": [
        "# N.B. We already done data preprocessing\n",
        "# Training\n",
        "model = SVC().fit(x_ros, y_ros)\n",
        "\n",
        "# Prediction\n",
        "y_pred_svc = model.predict(x_test_scaled)"
      ],
      "execution_count": 104,
      "outputs": []
    },
    {
      "cell_type": "code",
      "metadata": {
        "id": "PsUWZmGk_V4X",
        "colab": {
          "base_uri": "https://localhost:8080/"
        },
        "outputId": "48eac9fd-a292-4d50-8aaa-42b80b508d63"
      },
      "source": [
        "# Let's print some metrics\n",
        "print_metrics(y_test, y_pred_svc)"
      ],
      "execution_count": 105,
      "outputs": [
        {
          "output_type": "stream",
          "text": [
            "1. Accuracy: 0.72\n",
            "2. Precision: 0.36\n",
            "3. Recall: 0.57\n",
            "4. F1 score: 0.44\n",
            "5. ROC AUC: 0.66\n",
            "\n",
            "++ Confusion Matrix ++\n",
            "Predicted     0    1\n",
            "Actual              \n",
            "0          1996  640\n",
            "1           270  358\n"
          ],
          "name": "stdout"
        }
      ]
    },
    {
      "cell_type": "markdown",
      "metadata": {
        "id": "12xcFQ7wGOs2"
      },
      "source": [
        "##### Applying RandomForest Classifier with ROS"
      ]
    },
    {
      "cell_type": "code",
      "metadata": {
        "id": "TCKCvyU5X5t9"
      },
      "source": [
        "# N.B. We already done data preprocessing\n",
        "# Training\n",
        "model = RandomForestClassifier().fit(x_ros, y_ros)\n",
        "\n",
        "# Prediction\n",
        "y_pred_rf = model.predict(x_test_scaled)"
      ],
      "execution_count": 106,
      "outputs": []
    },
    {
      "cell_type": "code",
      "metadata": {
        "id": "MREe7ugU_X_I",
        "colab": {
          "base_uri": "https://localhost:8080/"
        },
        "outputId": "5255c7bd-ed9d-41ce-9a8a-07dde9a34298"
      },
      "source": [
        "# Let's print some metrics\n",
        "print_metrics(y_test, y_pred_rf)"
      ],
      "execution_count": 107,
      "outputs": [
        {
          "output_type": "stream",
          "text": [
            "1. Accuracy: 0.8\n",
            "2. Precision: 0.46\n",
            "3. Recall: 0.34\n",
            "4. F1 score: 0.39\n",
            "5. ROC AUC: 0.62\n",
            "\n",
            "++ Confusion Matrix ++\n",
            "Predicted     0    1\n",
            "Actual              \n",
            "0          2382  254\n",
            "1           414  214\n"
          ],
          "name": "stdout"
        }
      ]
    },
    {
      "cell_type": "markdown",
      "metadata": {
        "id": "mffF3jhWGTlR"
      },
      "source": [
        "##### Applying KNN Classifier with ROS"
      ]
    },
    {
      "cell_type": "code",
      "metadata": {
        "id": "vf1-DCRWYInF"
      },
      "source": [
        "# N.B. We already done data preprocessing\n",
        "# Training\n",
        "model = KNeighborsClassifier(n_neighbors=200).fit(x_ros, y_ros)\n",
        "\n",
        "# Prediction\n",
        "y_pred_knn = model.predict(x_test_scaled)"
      ],
      "execution_count": 108,
      "outputs": []
    },
    {
      "cell_type": "code",
      "metadata": {
        "id": "b0djU0Pi_mu8",
        "colab": {
          "base_uri": "https://localhost:8080/"
        },
        "outputId": "b4b21d3c-94db-4734-b5de-075aa9318c72"
      },
      "source": [
        "# Let's print some metrics\n",
        "print_metrics(y_test, y_pred_knn)"
      ],
      "execution_count": 109,
      "outputs": [
        {
          "output_type": "stream",
          "text": [
            "1. Accuracy: 0.67\n",
            "2. Precision: 0.33\n",
            "3. Recall: 0.65\n",
            "4. F1 score: 0.44\n",
            "5. ROC AUC: 0.67\n",
            "\n",
            "++ Confusion Matrix ++\n",
            "Predicted     0    1\n",
            "Actual              \n",
            "0          1787  849\n",
            "1           217  411\n"
          ],
          "name": "stdout"
        }
      ]
    },
    {
      "cell_type": "markdown",
      "metadata": {
        "id": "E9ZeJaUQGb1l"
      },
      "source": [
        "### Compare results with ROC curve"
      ]
    },
    {
      "cell_type": "code",
      "metadata": {
        "id": "D1A-z7ptZa9b",
        "colab": {
          "base_uri": "https://localhost:8080/",
          "height": 388
        },
        "outputId": "adbfa359-3ff8-42c3-dbfd-ff692f40d829"
      },
      "source": [
        "from sklearn.metrics import roc_curve\n",
        "\n",
        "svc_fpr, svc_tpr, svc_th = roc_curve(y_test, y_pred_svc)\n",
        "rf_fpr, rf_tpr, rf_th = roc_curve(y_test, y_pred_rf)\n",
        "knn_fpr, knn_tpr, knn_th = roc_curve(y_test, y_pred_knn)\n",
        "\n",
        "# plot the roc curve for the model\n",
        "plt.figure(figsize=(10,6))\n",
        "plt.plot(knn_fpr, knn_tpr, marker='.', label='KNN')\n",
        "plt.plot(rf_fpr, rf_tpr, marker='.', linestyle='--', label='RF')\n",
        "plt.plot(svc_fpr, svc_tpr, marker='.', linestyle=':', label='SVC')\n",
        "\n",
        "# axis labels\n",
        "plt.xlabel('False Positive Rate')\n",
        "plt.ylabel('True Positive Rate')\n",
        "\n",
        "# show the legend\n",
        "plt.legend()\n",
        "\n",
        "# show the plot\n",
        "plt.show()"
      ],
      "execution_count": 110,
      "outputs": [
        {
          "output_type": "display_data",
          "data": {
            "image/png": "[encoded data removed]",
            "text/plain": [
              "<Figure size 720x432 with 1 Axes>"
            ]
          },
          "metadata": {
            "tags": [],
            "needs_background": "light"
          }
        }
      ]
    },
    {
      "cell_type": "markdown",
      "metadata": {
        "id": "s6xjE1DSFMED"
      },
      "source": [
        "> ### References"
      ]
    },
    {
      "cell_type": "markdown",
      "metadata": {
        "id": "MXTArdtcFdVx"
      },
      "source": [
        "- Scikit-learn tutorials: [link](https://scikit-learn.org/stable/tutorial/index.html)\n",
        "- Scikit-learn examples: [link](https://scikit-learn.org/stable/auto_examples/index.html)\n",
        "- Scikit-learn doc: [user guide](https://scikit-learn.org/stable/user_guide.html) and [api reference](https://scikit-learn.org/stable/modules/classes.html)\n",
        "- PROMISE SE Repository: [link](http://promise.site.uottawa.ca/SERepository/datasets-page.html)"
      ]
    }
  ]
}