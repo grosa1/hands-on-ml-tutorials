{
  "nbformat": 4,
  "nbformat_minor": 0,
  "metadata": {
    "kernelspec": {
      "display_name": "Python 3",
      "language": "python",
      "name": "python3"
    },
    "language_info": {
      "codemirror_mode": {
        "name": "ipython",
        "version": 3
      },
      "file_extension": ".py",
      "mimetype": "text/x-python",
      "name": "python",
      "nbconvert_exporter": "python",
      "pygments_lexer": "ipython3",
      "version": "3.4.3"
    },
    "colab": {
      "name": "pydriller.ipynb",
      "provenance": [],
      "toc_visible": true,
      "include_colab_link": true
    }
  },
  "cells": [
    {
      "cell_type": "markdown",
      "metadata": {
        "id": "view-in-github",
        "colab_type": "text"
      },
      "source": [
        "<a href=\"https://colab.research.google.com/github/grosa1/hands-on-ml-tutorials/blob/master/tutorial_1/pydriller.ipynb\" target=\"_parent\"><img src=\"https://colab.research.google.com/assets/colab-badge.svg\" alt=\"Open In Colab\"/></a>"
      ]
    },
    {
      "cell_type": "markdown",
      "metadata": {
        "id": "jSL0E5BwHOBR",
        "colab_type": "text"
      },
      "source": [
        "# Working with PyDriller\n"
      ]
    },
    {
      "cell_type": "markdown",
      "metadata": {
        "id": "gaSFKg7UHcd1",
        "colab_type": "text"
      },
      "source": [
        "PyDriller is a Python framework that helps developers on mining software repositories. With PyDriller you can easily extract information from any Git repository, such as commits, developers, modifications, diffs, and source codes, and quickly export CSV files."
      ]
    },
    {
      "cell_type": "markdown",
      "metadata": {
        "id": "nsLC6jYfIISF",
        "colab_type": "text"
      },
      "source": [
        "## Installation and import"
      ]
    },
    {
      "cell_type": "code",
      "metadata": {
        "id": "bY7kk8BnHF7r",
        "colab_type": "code",
        "colab": {
          "base_uri": "https://localhost:8080/",
          "height": 119
        },
        "outputId": "b449b6b1-145d-4d6d-8016-2fe9940ef25a"
      },
      "source": [
        "!pip install pydriller==1.14"
      ],
      "execution_count": 1,
      "outputs": [
        {
          "output_type": "stream",
          "text": [
            "Requirement already satisfied: pydriller in /usr/local/lib/python3.6/dist-packages (1.14)\n",
            "Requirement already satisfied: lizard in /usr/local/lib/python3.6/dist-packages (from pydriller) (1.17.3)\n",
            "Requirement already satisfied: gitpython in /usr/local/lib/python3.6/dist-packages (from pydriller) (3.1.1)\n",
            "Requirement already satisfied: pytz in /usr/local/lib/python3.6/dist-packages (from pydriller) (2018.9)\n",
            "Requirement already satisfied: gitdb<5,>=4.0.1 in /usr/local/lib/python3.6/dist-packages (from gitpython->pydriller) (4.0.4)\n",
            "Requirement already satisfied: smmap<4,>=3.0.1 in /usr/local/lib/python3.6/dist-packages (from gitdb<5,>=4.0.1->gitpython->pydriller) (3.0.2)\n"
          ],
          "name": "stdout"
        }
      ]
    },
    {
      "cell_type": "markdown",
      "metadata": {
        "id": "dF4SSZtjgta_",
        "colab_type": "text"
      },
      "source": [
        "We also import `pandas` to deal with data and `datetime` to work with dates:"
      ]
    },
    {
      "cell_type": "code",
      "metadata": {
        "id": "ZM627McJfDNT",
        "colab_type": "code",
        "colab": {}
      },
      "source": [
        "from pydriller import RepositoryMining\n",
        "import pandas as pd\n",
        "from datetime import datetime"
      ],
      "execution_count": 0,
      "outputs": []
    },
    {
      "cell_type": "markdown",
      "metadata": {
        "id": "qZkgDKmJrDR-",
        "colab_type": "text"
      },
      "source": [
        "## Commit Object\n",
        "A Commit object has all the information of a Git commit, and much more. More specifically:\n",
        "```\n",
        "hash (str): hash of the commit\n",
        "msg (str): commit message\n",
        "author (Developer): commit author (name, email)\n",
        "author_date (datetime): authored date\n",
        "author_timezone (int): author timezone (expressed in seconds from epoch)\n",
        "committer (Developer): commit committer (name, email)\n",
        "committer_date (datetime): commit date\n",
        "committer_timezone (int): commit timezone (expressed in seconds from epoch)\n",
        "branches (List[str]): List of branches that contain this commit\n",
        "in_main_branch (Bool): True if the commit is in the main branch\n",
        "merge (Bool): True if the commit is a merge commit\n",
        "modifications (List[Modifications]): list of modified files in the commit (see Modifications)\n",
        "parents (Set[str]): list of the commit parents\n",
        "project_name (str): project name\n",
        "project_path (str): project path\n",
        "```"
      ]
    },
    {
      "cell_type": "markdown",
      "metadata": {
        "id": "uOfq642XIdh_",
        "colab_type": "text"
      },
      "source": [
        "## Mining single project commits"
      ]
    },
    {
      "cell_type": "code",
      "metadata": {
        "id": "c5rPCY4bIfvZ",
        "colab_type": "code",
        "colab": {}
      },
      "source": [
        "project_url = 'https://github.com/ishepard/pydriller.git'\n",
        "\n",
        "repo_commits = list()\n",
        "for commit in RepositoryMining(project_url).traverse_commits():\n",
        "    repo_commits.append({\n",
        "        'sha': commit.hash, \n",
        "        'author': commit.author.name, \n",
        "        'date': commit.author_date\n",
        "        })"
      ],
      "execution_count": 0,
      "outputs": []
    },
    {
      "cell_type": "code",
      "metadata": {
        "id": "lyN8Sfucme9e",
        "colab_type": "code",
        "colab": {
          "base_uri": "https://localhost:8080/",
          "height": 419
        },
        "outputId": "6d7582be-7263-487d-a001-c27d01406705"
      },
      "source": [
        "pd.DataFrame(repo_commits)"
      ],
      "execution_count": 4,
      "outputs": [
        {
          "output_type": "execute_result",
          "data": {
            "text/html": [
              "<div>\n",
              "<style scoped>\n",
              "    .dataframe tbody tr th:only-of-type {\n",
              "        vertical-align: middle;\n",
              "    }\n",
              "\n",
              "    .dataframe tbody tr th {\n",
              "        vertical-align: top;\n",
              "    }\n",
              "\n",
              "    .dataframe thead th {\n",
              "        text-align: right;\n",
              "    }\n",
              "</style>\n",
              "<table border=\"1\" class=\"dataframe\">\n",
              "  <thead>\n",
              "    <tr style=\"text-align: right;\">\n",
              "      <th></th>\n",
              "      <th>sha</th>\n",
              "      <th>author</th>\n",
              "      <th>date</th>\n",
              "    </tr>\n",
              "  </thead>\n",
              "  <tbody>\n",
              "    <tr>\n",
              "      <th>0</th>\n",
              "      <td>ab36bf45859a210b0eae14e17683f31d19eea041</td>\n",
              "      <td>ishepard</td>\n",
              "      <td>2018-03-21 16:34:21+01:00</td>\n",
              "    </tr>\n",
              "    <tr>\n",
              "      <th>1</th>\n",
              "      <td>fdf671856b260aca058e6595a96a7a0fba05454b</td>\n",
              "      <td>ishepard</td>\n",
              "      <td>2018-03-22 11:07:31+01:00</td>\n",
              "    </tr>\n",
              "    <tr>\n",
              "      <th>2</th>\n",
              "      <td>90ca34ebfe69629cb7f186a1582fc38a73cc572e</td>\n",
              "      <td>ishepard</td>\n",
              "      <td>2018-03-22 12:53:52+01:00</td>\n",
              "    </tr>\n",
              "    <tr>\n",
              "      <th>3</th>\n",
              "      <td>71e053f61fc5d31b3e31eccd9c79df27c31279bf</td>\n",
              "      <td>ishepard</td>\n",
              "      <td>2018-03-26 13:13:27+02:00</td>\n",
              "    </tr>\n",
              "    <tr>\n",
              "      <th>4</th>\n",
              "      <td>205f6fb09734667b0c1842fd3c317013640189ce</td>\n",
              "      <td>ishepard</td>\n",
              "      <td>2018-03-27 16:34:02+02:00</td>\n",
              "    </tr>\n",
              "    <tr>\n",
              "      <th>...</th>\n",
              "      <td>...</td>\n",
              "      <td>...</td>\n",
              "      <td>...</td>\n",
              "    </tr>\n",
              "    <tr>\n",
              "      <th>556</th>\n",
              "      <td>b740a57d5969695270075fc818021f7c0b668bf1</td>\n",
              "      <td>Arie van Deursen</td>\n",
              "      <td>2020-04-22 18:15:05+02:00</td>\n",
              "    </tr>\n",
              "    <tr>\n",
              "      <th>557</th>\n",
              "      <td>a7b29f804238003b05113845e9f949c56647434a</td>\n",
              "      <td>Arie van Deursen</td>\n",
              "      <td>2020-04-23 12:48:07+02:00</td>\n",
              "    </tr>\n",
              "    <tr>\n",
              "      <th>558</th>\n",
              "      <td>3e7f8443636de673776446653988e6b1cb470ed9</td>\n",
              "      <td>Arie van Deursen</td>\n",
              "      <td>2020-04-26 22:46:04+02:00</td>\n",
              "    </tr>\n",
              "    <tr>\n",
              "      <th>559</th>\n",
              "      <td>955f9e736e7a97961b8ab6c76eea4d6c0d54c0e2</td>\n",
              "      <td>Davide Spadini</td>\n",
              "      <td>2020-04-27 10:00:08+02:00</td>\n",
              "    </tr>\n",
              "    <tr>\n",
              "      <th>560</th>\n",
              "      <td>ffb011b5e1b5b0006ee5ac6711c52c29ded21709</td>\n",
              "      <td>ishepard</td>\n",
              "      <td>2020-04-27 10:03:24+02:00</td>\n",
              "    </tr>\n",
              "  </tbody>\n",
              "</table>\n",
              "<p>561 rows × 3 columns</p>\n",
              "</div>"
            ],
            "text/plain": [
              "                                          sha  ...                       date\n",
              "0    ab36bf45859a210b0eae14e17683f31d19eea041  ...  2018-03-21 16:34:21+01:00\n",
              "1    fdf671856b260aca058e6595a96a7a0fba05454b  ...  2018-03-22 11:07:31+01:00\n",
              "2    90ca34ebfe69629cb7f186a1582fc38a73cc572e  ...  2018-03-22 12:53:52+01:00\n",
              "3    71e053f61fc5d31b3e31eccd9c79df27c31279bf  ...  2018-03-26 13:13:27+02:00\n",
              "4    205f6fb09734667b0c1842fd3c317013640189ce  ...  2018-03-27 16:34:02+02:00\n",
              "..                                        ...  ...                        ...\n",
              "556  b740a57d5969695270075fc818021f7c0b668bf1  ...  2020-04-22 18:15:05+02:00\n",
              "557  a7b29f804238003b05113845e9f949c56647434a  ...  2020-04-23 12:48:07+02:00\n",
              "558  3e7f8443636de673776446653988e6b1cb470ed9  ...  2020-04-26 22:46:04+02:00\n",
              "559  955f9e736e7a97961b8ab6c76eea4d6c0d54c0e2  ...  2020-04-27 10:00:08+02:00\n",
              "560  ffb011b5e1b5b0006ee5ac6711c52c29ded21709  ...  2020-04-27 10:03:24+02:00\n",
              "\n",
              "[561 rows x 3 columns]"
            ]
          },
          "metadata": {
            "tags": []
          },
          "execution_count": 4
        }
      ]
    },
    {
      "cell_type": "markdown",
      "metadata": {
        "id": "NLRRIh68hrv2",
        "colab_type": "text"
      },
      "source": [
        "## Mining multiple project commits"
      ]
    },
    {
      "cell_type": "code",
      "metadata": {
        "id": "eVvIN407hr7a",
        "colab_type": "code",
        "colab": {}
      },
      "source": [
        "repos_url = [ \"https://github.com/TheAlgorithms/Java.git\", \"https://github.com/apache/netbeans\" ]\n",
        "\n",
        "commits = list()\n",
        "for commit in RepositoryMining(path_to_repo=repos_url).traverse_commits():\n",
        "    commits.append({\n",
        "        'sha': commit.hash, \n",
        "        'author': commit.author.name, \n",
        "        'msg': commit.msg\n",
        "        })"
      ],
      "execution_count": 0,
      "outputs": []
    },
    {
      "cell_type": "code",
      "metadata": {
        "id": "ycXXmb2GmqAa",
        "colab_type": "code",
        "colab": {
          "base_uri": "https://localhost:8080/",
          "height": 419
        },
        "outputId": "63e26eca-638c-45b0-8bd5-fda1ae18dcc4"
      },
      "source": [
        "pd.DataFrame(commits)"
      ],
      "execution_count": 6,
      "outputs": [
        {
          "output_type": "execute_result",
          "data": {
            "text/html": [
              "<div>\n",
              "<style scoped>\n",
              "    .dataframe tbody tr th:only-of-type {\n",
              "        vertical-align: middle;\n",
              "    }\n",
              "\n",
              "    .dataframe tbody tr th {\n",
              "        vertical-align: top;\n",
              "    }\n",
              "\n",
              "    .dataframe thead th {\n",
              "        text-align: right;\n",
              "    }\n",
              "</style>\n",
              "<table border=\"1\" class=\"dataframe\">\n",
              "  <thead>\n",
              "    <tr style=\"text-align: right;\">\n",
              "      <th></th>\n",
              "      <th>sha</th>\n",
              "      <th>author</th>\n",
              "      <th>msg</th>\n",
              "    </tr>\n",
              "  </thead>\n",
              "  <tbody>\n",
              "    <tr>\n",
              "      <th>0</th>\n",
              "      <td>40d42574e065e8078b242d201e0fc1455c430c71</td>\n",
              "      <td>Anup Kumar Panwar</td>\n",
              "      <td>Initial commit</td>\n",
              "    </tr>\n",
              "    <tr>\n",
              "      <th>1</th>\n",
              "      <td>4ba958863b0cd2212b681598969bf92450c13b71</td>\n",
              "      <td>Anup Kumar Panwar</td>\n",
              "      <td>Bubble Sort</td>\n",
              "    </tr>\n",
              "    <tr>\n",
              "      <th>2</th>\n",
              "      <td>12d7c48ee4b7f415f19dda4a889032263cc3529a</td>\n",
              "      <td>Anup Kumar Panwar</td>\n",
              "      <td>insertion sort</td>\n",
              "    </tr>\n",
              "    <tr>\n",
              "      <th>3</th>\n",
              "      <td>9661bb3df62929cad320ce576c7e156a7c91a748</td>\n",
              "      <td>Anup Kumar Panwar</td>\n",
              "      <td>Binary Search</td>\n",
              "    </tr>\n",
              "    <tr>\n",
              "      <th>4</th>\n",
              "      <td>73bb72b8d0ab1e3a8706394782c399d4e20f3308</td>\n",
              "      <td>Anup Kumar Panwar</td>\n",
              "      <td>Renamed</td>\n",
              "    </tr>\n",
              "    <tr>\n",
              "      <th>...</th>\n",
              "      <td>...</td>\n",
              "      <td>...</td>\n",
              "      <td>...</td>\n",
              "    </tr>\n",
              "    <tr>\n",
              "      <th>4871</th>\n",
              "      <td>12ec73da0b532f2e2f3b1f25f3210cee39a1db7f</td>\n",
              "      <td>Akshay-Gupta-Oracle</td>\n",
              "      <td>[NETBEANS-3311] Convert TextBlock to String Fu...</td>\n",
              "    </tr>\n",
              "    <tr>\n",
              "      <th>4872</th>\n",
              "      <td>98c980cbf3c519fbffc26380ede71e0ca4bb9eef</td>\n",
              "      <td>Eric Barboni</td>\n",
              "      <td>Merge pull request #2092 from jlahoda/NETBEANS...</td>\n",
              "    </tr>\n",
              "    <tr>\n",
              "      <th>4873</th>\n",
              "      <td>0dc75ef3899d27a9f8a917bfa79cd9e2abcf69c1</td>\n",
              "      <td>Eric Barboni</td>\n",
              "      <td>Merge pull request #2077 from svenreimers/issu...</td>\n",
              "    </tr>\n",
              "    <tr>\n",
              "      <th>4874</th>\n",
              "      <td>9e0096fa1fe6f11c3fb85b413db0cdb204d6c7a3</td>\n",
              "      <td>Akhilesh Singh</td>\n",
              "      <td>[NETBEANS-3985] : Addressed code review comments</td>\n",
              "    </tr>\n",
              "    <tr>\n",
              "      <th>4875</th>\n",
              "      <td>e1769d2f2f1384e8e185cf89326ec37e385c31b1</td>\n",
              "      <td>Eric Barboni</td>\n",
              "      <td>Merge pull request #2107 from singh-akhilesh/p...</td>\n",
              "    </tr>\n",
              "  </tbody>\n",
              "</table>\n",
              "<p>4876 rows × 3 columns</p>\n",
              "</div>"
            ],
            "text/plain": [
              "                                           sha  ...                                                msg\n",
              "0     40d42574e065e8078b242d201e0fc1455c430c71  ...                                     Initial commit\n",
              "1     4ba958863b0cd2212b681598969bf92450c13b71  ...                                        Bubble Sort\n",
              "2     12d7c48ee4b7f415f19dda4a889032263cc3529a  ...                                     insertion sort\n",
              "3     9661bb3df62929cad320ce576c7e156a7c91a748  ...                                      Binary Search\n",
              "4     73bb72b8d0ab1e3a8706394782c399d4e20f3308  ...                                            Renamed\n",
              "...                                        ...  ...                                                ...\n",
              "4871  12ec73da0b532f2e2f3b1f25f3210cee39a1db7f  ...  [NETBEANS-3311] Convert TextBlock to String Fu...\n",
              "4872  98c980cbf3c519fbffc26380ede71e0ca4bb9eef  ...  Merge pull request #2092 from jlahoda/NETBEANS...\n",
              "4873  0dc75ef3899d27a9f8a917bfa79cd9e2abcf69c1  ...  Merge pull request #2077 from svenreimers/issu...\n",
              "4874  9e0096fa1fe6f11c3fb85b413db0cdb204d6c7a3  ...   [NETBEANS-3985] : Addressed code review comments\n",
              "4875  e1769d2f2f1384e8e185cf89326ec37e385c31b1  ...  Merge pull request #2107 from singh-akhilesh/p...\n",
              "\n",
              "[4876 rows x 3 columns]"
            ]
          },
          "metadata": {
            "tags": []
          },
          "execution_count": 6
        }
      ]
    },
    {
      "cell_type": "markdown",
      "metadata": {
        "id": "p-Qfh2k5lcd3",
        "colab_type": "text"
      },
      "source": [
        "## Get modifications\n",
        "A modification object has the following fields:\n",
        "```\n",
        "old_path: old path of the file (can be None if the file is added)\n",
        "new_path: new path of the file (can be None if the file is deleted)\n",
        "change_type: type of the change: can be Added, Deleted, Modified, or Renamed.\n",
        "diff: diff of the file as Git presents it (e.g., starting with @@ xx,xx @@).\n",
        "source_code: source code of the file (can be None if the file is deleted)\n",
        "source_code_before: source code of the file before the change (can be None if the file is added)\n",
        "added: number of lines added\n",
        "removed: number of lines removed\n",
        "nloc: Lines Of Code (LOC) of the file\n",
        "complexity: Cyclomatic Complexity of the file\n",
        "token_count: Number of Tokens of the file\n",
        "methods: list of methods of the file. The list might be empty if the programming language is not supported or if the file is not a source code file.\n",
        "```"
      ]
    },
    {
      "cell_type": "markdown",
      "metadata": {
        "id": "tDTpH_9BsgXV",
        "colab_type": "text"
      },
      "source": [
        "To get the list of `Modifications` that exists inside a `Commit` object:"
      ]
    },
    {
      "cell_type": "code",
      "metadata": {
        "id": "uLkdwHhvlck-",
        "colab_type": "code",
        "colab": {}
      },
      "source": [
        "mod_commits = list()\n",
        "for commit in RepositoryMining('https://github.com/TheAlgorithms/Java.git').traverse_commits():\n",
        "    for m in commit.modifications:\n",
        "        mod_commits.append({\n",
        "            'author': commit.author.name,\n",
        "            'modified_file': m.filename,\n",
        "            'change_type': m.change_type.name,\n",
        "            'cyclomatic_complexity': m.complexity\n",
        "            })"
      ],
      "execution_count": 0,
      "outputs": []
    },
    {
      "cell_type": "code",
      "metadata": {
        "id": "M5yRuHMSmLbs",
        "colab_type": "code",
        "colab": {
          "base_uri": "https://localhost:8080/",
          "height": 419
        },
        "outputId": "40f21b8a-87e0-41c5-f88f-049af7e921a1"
      },
      "source": [
        "pd.DataFrame(mod_commits)"
      ],
      "execution_count": 8,
      "outputs": [
        {
          "output_type": "execute_result",
          "data": {
            "text/html": [
              "<div>\n",
              "<style scoped>\n",
              "    .dataframe tbody tr th:only-of-type {\n",
              "        vertical-align: middle;\n",
              "    }\n",
              "\n",
              "    .dataframe tbody tr th {\n",
              "        vertical-align: top;\n",
              "    }\n",
              "\n",
              "    .dataframe thead th {\n",
              "        text-align: right;\n",
              "    }\n",
              "</style>\n",
              "<table border=\"1\" class=\"dataframe\">\n",
              "  <thead>\n",
              "    <tr style=\"text-align: right;\">\n",
              "      <th></th>\n",
              "      <th>author</th>\n",
              "      <th>modified_file</th>\n",
              "      <th>change_type</th>\n",
              "      <th>cyclomatic_complexity</th>\n",
              "    </tr>\n",
              "  </thead>\n",
              "  <tbody>\n",
              "    <tr>\n",
              "      <th>0</th>\n",
              "      <td>Anup Kumar Panwar</td>\n",
              "      <td>README.md</td>\n",
              "      <td>ADD</td>\n",
              "      <td>0.0</td>\n",
              "    </tr>\n",
              "    <tr>\n",
              "      <th>1</th>\n",
              "      <td>Anup Kumar Panwar</td>\n",
              "      <td>BubbleSort.java</td>\n",
              "      <td>ADD</td>\n",
              "      <td>6.0</td>\n",
              "    </tr>\n",
              "    <tr>\n",
              "      <th>2</th>\n",
              "      <td>Anup Kumar Panwar</td>\n",
              "      <td>InsertionSort.java</td>\n",
              "      <td>ADD</td>\n",
              "      <td>6.0</td>\n",
              "    </tr>\n",
              "    <tr>\n",
              "      <th>3</th>\n",
              "      <td>Anup Kumar Panwar</td>\n",
              "      <td>SelectionSort.java</td>\n",
              "      <td>ADD</td>\n",
              "      <td>6.0</td>\n",
              "    </tr>\n",
              "    <tr>\n",
              "      <th>4</th>\n",
              "      <td>Anup Kumar Panwar</td>\n",
              "      <td>BinarySearch.java</td>\n",
              "      <td>ADD</td>\n",
              "      <td>7.0</td>\n",
              "    </tr>\n",
              "    <tr>\n",
              "      <th>...</th>\n",
              "      <td>...</td>\n",
              "      <td>...</td>\n",
              "      <td>...</td>\n",
              "      <td>...</td>\n",
              "    </tr>\n",
              "    <tr>\n",
              "      <th>1672</th>\n",
              "      <td>EAlexa</td>\n",
              "      <td>SinglyLinkedList.java</td>\n",
              "      <td>MODIFY</td>\n",
              "      <td>35.0</td>\n",
              "    </tr>\n",
              "    <tr>\n",
              "      <th>1673</th>\n",
              "      <td>EAlexa</td>\n",
              "      <td>MinimizingLateness.java</td>\n",
              "      <td>MODIFY</td>\n",
              "      <td>6.0</td>\n",
              "    </tr>\n",
              "    <tr>\n",
              "      <th>1674</th>\n",
              "      <td>markaster</td>\n",
              "      <td>LICENSE</td>\n",
              "      <td>MODIFY</td>\n",
              "      <td>0.0</td>\n",
              "    </tr>\n",
              "    <tr>\n",
              "      <th>1675</th>\n",
              "      <td>LittleFoot</td>\n",
              "      <td>ShellSort.java</td>\n",
              "      <td>MODIFY</td>\n",
              "      <td>7.0</td>\n",
              "    </tr>\n",
              "    <tr>\n",
              "      <th>1676</th>\n",
              "      <td>littleFoot1</td>\n",
              "      <td>ShellSort.java</td>\n",
              "      <td>MODIFY</td>\n",
              "      <td>7.0</td>\n",
              "    </tr>\n",
              "  </tbody>\n",
              "</table>\n",
              "<p>1677 rows × 4 columns</p>\n",
              "</div>"
            ],
            "text/plain": [
              "                 author  ... cyclomatic_complexity\n",
              "0     Anup Kumar Panwar  ...                   0.0\n",
              "1     Anup Kumar Panwar  ...                   6.0\n",
              "2     Anup Kumar Panwar  ...                   6.0\n",
              "3     Anup Kumar Panwar  ...                   6.0\n",
              "4     Anup Kumar Panwar  ...                   7.0\n",
              "...                 ...  ...                   ...\n",
              "1672             EAlexa  ...                  35.0\n",
              "1673             EAlexa  ...                   6.0\n",
              "1674          markaster  ...                   0.0\n",
              "1675         LittleFoot  ...                   7.0\n",
              "1676        littleFoot1  ...                   7.0\n",
              "\n",
              "[1677 rows x 4 columns]"
            ]
          },
          "metadata": {
            "tags": []
          },
          "execution_count": 8
        }
      ]
    },
    {
      "cell_type": "markdown",
      "metadata": {
        "id": "uZ9x-4pvuTXp",
        "colab_type": "text"
      },
      "source": [
        "## Filter by commit"
      ]
    },
    {
      "cell_type": "code",
      "metadata": {
        "id": "tv7oK4L0ufcb",
        "colab_type": "code",
        "colab": {
          "base_uri": "https://localhost:8080/",
          "height": 34
        },
        "outputId": "151e3ca5-6ea6-48df-fc7e-272838acb2ec"
      },
      "source": [
        "url = \"https://github.com/ishepard/pydriller.git\"\n",
        "for commit in RepositoryMining(url, single='05526fad873c3fc83e40bcbc424bd1b3e5393dd5').traverse_commits():\n",
        "    print('Hash {}, author {}'.format(commit.hash, commit.author.name))"
      ],
      "execution_count": 9,
      "outputs": [
        {
          "output_type": "stream",
          "text": [
            "Hash 05526fad873c3fc83e40bcbc424bd1b3e5393dd5, author ishepard\n"
          ],
          "name": "stdout"
        }
      ]
    },
    {
      "cell_type": "markdown",
      "metadata": {
        "id": "S1IVuQa6udLU",
        "colab_type": "text"
      },
      "source": [
        "## Filter by date"
      ]
    },
    {
      "cell_type": "code",
      "metadata": {
        "id": "_1S1gM1uufxb",
        "colab_type": "code",
        "colab": {}
      },
      "source": [
        "filtered_commits = list()\n",
        "for commit in RepositoryMining(url, since=datetime(2020, 1, 1, 1, 0, 0)).traverse_commits():\n",
        "    filtered_commits.append({\n",
        "        'sha': commit.hash, \n",
        "        'author': commit.author.name, \n",
        "        'msg': commit.msg\n",
        "        })"
      ],
      "execution_count": 0,
      "outputs": []
    },
    {
      "cell_type": "code",
      "metadata": {
        "id": "0peYdFvNvknK",
        "colab_type": "code",
        "colab": {
          "base_uri": "https://localhost:8080/",
          "height": 419
        },
        "outputId": "028a2ae4-a827-4955-b48a-f9e29f8cce6f"
      },
      "source": [
        "pd.DataFrame(filtered_commits)"
      ],
      "execution_count": 11,
      "outputs": [
        {
          "output_type": "execute_result",
          "data": {
            "text/html": [
              "<div>\n",
              "<style scoped>\n",
              "    .dataframe tbody tr th:only-of-type {\n",
              "        vertical-align: middle;\n",
              "    }\n",
              "\n",
              "    .dataframe tbody tr th {\n",
              "        vertical-align: top;\n",
              "    }\n",
              "\n",
              "    .dataframe thead th {\n",
              "        text-align: right;\n",
              "    }\n",
              "</style>\n",
              "<table border=\"1\" class=\"dataframe\">\n",
              "  <thead>\n",
              "    <tr style=\"text-align: right;\">\n",
              "      <th></th>\n",
              "      <th>sha</th>\n",
              "      <th>author</th>\n",
              "      <th>msg</th>\n",
              "    </tr>\n",
              "  </thead>\n",
              "  <tbody>\n",
              "    <tr>\n",
              "      <th>0</th>\n",
              "      <td>c69e50b5d68b42c19639ac81c37f039581e149ad</td>\n",
              "      <td>stefanodallapalma</td>\n",
              "      <td>Added metric to count for devs who contributed...</td>\n",
              "    </tr>\n",
              "    <tr>\n",
              "      <th>1</th>\n",
              "      <td>9baf4fd9e1cb84546ae9fe6864e158b3a1c01080</td>\n",
              "      <td>stefanodallapalma</td>\n",
              "      <td>Added process metric to count the number of ne...</td>\n",
              "    </tr>\n",
              "    <tr>\n",
              "      <th>2</th>\n",
              "      <td>22573d99f7135d37d0aab9cd8fee0ae9ec1b6c49</td>\n",
              "      <td>stefanodallapalma</td>\n",
              "      <td>Added two process metrics</td>\n",
              "    </tr>\n",
              "    <tr>\n",
              "      <th>3</th>\n",
              "      <td>9be1a6f6e420ae19303b6a94caccf93397068d02</td>\n",
              "      <td>stefanodallapalma</td>\n",
              "      <td>Added metric to count normalized number of add...</td>\n",
              "    </tr>\n",
              "    <tr>\n",
              "      <th>4</th>\n",
              "      <td>8e379834929c14f2da5fb2cba04e2326f6ef0a3a</td>\n",
              "      <td>stefanodallapalma</td>\n",
              "      <td>Added metric to count the normalized number of...</td>\n",
              "    </tr>\n",
              "    <tr>\n",
              "      <th>...</th>\n",
              "      <td>...</td>\n",
              "      <td>...</td>\n",
              "      <td>...</td>\n",
              "    </tr>\n",
              "    <tr>\n",
              "      <th>151</th>\n",
              "      <td>b740a57d5969695270075fc818021f7c0b668bf1</td>\n",
              "      <td>Arie van Deursen</td>\n",
              "      <td>Fix incorrect type annotation</td>\n",
              "    </tr>\n",
              "    <tr>\n",
              "      <th>152</th>\n",
              "      <td>a7b29f804238003b05113845e9f949c56647434a</td>\n",
              "      <td>Arie van Deursen</td>\n",
              "      <td>Rename TEST_DATA variable when re-used to reso...</td>\n",
              "    </tr>\n",
              "    <tr>\n",
              "      <th>153</th>\n",
              "      <td>3e7f8443636de673776446653988e6b1cb470ed9</td>\n",
              "      <td>Arie van Deursen</td>\n",
              "      <td>Make variable type annotations python 3.5 comp...</td>\n",
              "    </tr>\n",
              "    <tr>\n",
              "      <th>154</th>\n",
              "      <td>955f9e736e7a97961b8ab6c76eea4d6c0d54c0e2</td>\n",
              "      <td>Davide Spadini</td>\n",
              "      <td>Merge pull request #115 from avandeursen/mypy\\...</td>\n",
              "    </tr>\n",
              "    <tr>\n",
              "      <th>155</th>\n",
              "      <td>ffb011b5e1b5b0006ee5ac6711c52c29ded21709</td>\n",
              "      <td>ishepard</td>\n",
              "      <td>Run mypy in GH actions</td>\n",
              "    </tr>\n",
              "  </tbody>\n",
              "</table>\n",
              "<p>156 rows × 3 columns</p>\n",
              "</div>"
            ],
            "text/plain": [
              "                                          sha  ...                                                msg\n",
              "0    c69e50b5d68b42c19639ac81c37f039581e149ad  ...  Added metric to count for devs who contributed...\n",
              "1    9baf4fd9e1cb84546ae9fe6864e158b3a1c01080  ...  Added process metric to count the number of ne...\n",
              "2    22573d99f7135d37d0aab9cd8fee0ae9ec1b6c49  ...                          Added two process metrics\n",
              "3    9be1a6f6e420ae19303b6a94caccf93397068d02  ...  Added metric to count normalized number of add...\n",
              "4    8e379834929c14f2da5fb2cba04e2326f6ef0a3a  ...  Added metric to count the normalized number of...\n",
              "..                                        ...  ...                                                ...\n",
              "151  b740a57d5969695270075fc818021f7c0b668bf1  ...                      Fix incorrect type annotation\n",
              "152  a7b29f804238003b05113845e9f949c56647434a  ...  Rename TEST_DATA variable when re-used to reso...\n",
              "153  3e7f8443636de673776446653988e6b1cb470ed9  ...  Make variable type annotations python 3.5 comp...\n",
              "154  955f9e736e7a97961b8ab6c76eea4d6c0d54c0e2  ...  Merge pull request #115 from avandeursen/mypy\\...\n",
              "155  ffb011b5e1b5b0006ee5ac6711c52c29ded21709  ...                             Run mypy in GH actions\n",
              "\n",
              "[156 rows x 3 columns]"
            ]
          },
          "metadata": {
            "tags": []
          },
          "execution_count": 11
        }
      ]
    },
    {
      "cell_type": "markdown",
      "metadata": {
        "id": "YNqKN5L2v1O8",
        "colab_type": "text"
      },
      "source": [
        "## Other options\n",
        "PyDriller comes with a set of common commit filters that you can apply:\n",
        "```\n",
        "only_in_branch (str): only analyses commits that belong to this branch.\n",
        "only_no_merge (bool): only analyses commits that are not merge commits.\n",
        "only_authors (List[str]): only analyses commits that are made by these authors. The check is made on the username, NOT the email.\n",
        "only_commits (List[str]): only these commits will be analyzed.\n",
        "only_releases (bool): only commits that are tagged (“release” is a term of GitHub, does not actually exist in Git)\n",
        "filepath (str): only commits that modified this file will be analyzed.\n",
        "only_modifications_with_file_types (List[str]): only analyses commits in which at least one modification was done in that file type, e.g., if you pass “.java”, it will visit only commits in which at least one Java file was modified; clearly, it will skip other commits (e.g., commits that did not modify Java files).\n",
        "```"
      ]
    },
    {
      "cell_type": "code",
      "metadata": {
        "id": "bslWL8svv1Zr",
        "colab_type": "code",
        "colab": {}
      },
      "source": [
        "# Only commits in branch1 and no merges\n",
        "RepositoryMining('path/to/the/repo', only_in_branch='branch1', only_no_merge=True).traverse_commits()\n",
        "\n",
        "# Only commits of author \"ishepard\"\n",
        "RepositoryMining('path/to/the/repo', only_authors=['ishepard']).traverse_commits()\n",
        "\n",
        "# Only commits that modified a java file\n",
        "RepositoryMining('path/to/the/repo', only_modifications_with_file_types=['.java']).traverse_commits()"
      ],
      "execution_count": 0,
      "outputs": []
    },
    {
      "cell_type": "markdown",
      "metadata": {
        "id": "pefNBu6Hds7z",
        "colab_type": "text"
      },
      "source": [
        "## Resources\n",
        "\n",
        "- PyDriller docs: [link](https://pydriller.readthedocs.io/) and [link](https://readthedocs.org/projects/pydriller/downloads/pdf/latest/)\n",
        "- PyDriller source code: [link](https://github.com/ishepard/pydriller)\n",
        "- PyDriller paper: [link](https://www.sback.it/publications/fse2018td.pdf)\n",
        "- From: [link](https://www.kaggle.com/sayedmohsin/pydriller-tool-demo-by-sayed-mohsin-reza#Pydriller-Tool-Demo)"
      ]
    }
  ]
}
